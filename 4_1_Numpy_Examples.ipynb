{
  "cells": [
    {
      "cell_type": "markdown",
      "metadata": {
        "id": "view-in-github",
        "colab_type": "text"
      },
      "source": [
        "<a href=\"https://colab.research.google.com/github/smart4ghari/Data_Science/blob/main/4_1_Numpy_Examples.ipynb\" target=\"_parent\"><img src=\"https://colab.research.google.com/assets/colab-badge.svg\" alt=\"Open In Colab\"/></a>"
      ]
    },
    {
      "cell_type": "markdown",
      "id": "10493a55",
      "metadata": {
        "id": "10493a55"
      },
      "source": [
        "### Numpy"
      ]
    },
    {
      "cell_type": "code",
      "execution_count": null,
      "id": "b5cdd007",
      "metadata": {
        "id": "b5cdd007"
      },
      "outputs": [],
      "source": [
        "import numpy as np"
      ]
    },
    {
      "cell_type": "markdown",
      "id": "8a255466",
      "metadata": {
        "id": "8a255466"
      },
      "source": [
        "#### Arange function\n",
        "\n",
        "* As the name represents it's like a range function which is used to give a range of numbers"
      ]
    },
    {
      "cell_type": "code",
      "execution_count": null,
      "id": "481b9bb2",
      "metadata": {
        "id": "481b9bb2",
        "outputId": "5e0f3cdb-26d5-45da-d1d1-87e8d8536ea2"
      },
      "outputs": [
        {
          "data": {
            "text/plain": [
              "array([10, 12, 14, 16, 18, 20])"
            ]
          },
          "execution_count": 6,
          "metadata": {},
          "output_type": "execute_result"
        }
      ],
      "source": [
        "arr1 = np.arange(10,21,2)  # parameters are start pos, stop pos, step\n",
        "arr1"
      ]
    },
    {
      "cell_type": "code",
      "execution_count": null,
      "id": "a7b71d25",
      "metadata": {
        "id": "a7b71d25",
        "outputId": "c5153765-eb82-4b14-95dc-cd605fe7f6a4"
      },
      "outputs": [
        {
          "data": {
            "text/plain": [
              "array([ 0,  1,  2,  3,  4,  5,  6,  7,  8,  9, 10, 11])"
            ]
          },
          "execution_count": 5,
          "metadata": {},
          "output_type": "execute_result"
        }
      ],
      "source": [
        "arr1 = np.arange(12)\n",
        "arr1"
      ]
    },
    {
      "cell_type": "code",
      "execution_count": null,
      "id": "efe69e7d",
      "metadata": {
        "id": "efe69e7d",
        "outputId": "ba87e284-19ad-4f96-c6e7-33b2936ef125"
      },
      "outputs": [
        {
          "data": {
            "text/plain": [
              "array([[ 0,  1],\n",
              "       [ 2,  3],\n",
              "       [ 4,  5],\n",
              "       [ 6,  7],\n",
              "       [ 8,  9],\n",
              "       [10, 11]])"
            ]
          },
          "execution_count": 6,
          "metadata": {},
          "output_type": "execute_result"
        }
      ],
      "source": [
        "# Reshape function used to reshape the structure\n",
        "arr2 = arr1.reshape(6,2)  # Here reshape function will change it into 6 rows 2 columns\n",
        "arr2"
      ]
    },
    {
      "cell_type": "code",
      "execution_count": null,
      "id": "90cbcbd5",
      "metadata": {
        "id": "90cbcbd5",
        "outputId": "9965db41-5fd6-4ade-85ae-c0e0505b4ef5"
      },
      "outputs": [
        {
          "data": {
            "text/plain": [
              "array([[[ 0,  1],\n",
              "        [ 2,  3]],\n",
              "\n",
              "       [[ 4,  5],\n",
              "        [ 6,  7]],\n",
              "\n",
              "       [[ 8,  9],\n",
              "        [10, 11]]])"
            ]
          },
          "execution_count": 7,
          "metadata": {},
          "output_type": "execute_result"
        }
      ],
      "source": [
        "arr2 = arr1.reshape(3,2,2)\n",
        "arr2"
      ]
    },
    {
      "cell_type": "code",
      "execution_count": null,
      "id": "c9eebd9b",
      "metadata": {
        "id": "c9eebd9b",
        "outputId": "d4b643ad-a61e-435c-a9ad-eeeae65e0398"
      },
      "outputs": [
        {
          "data": {
            "text/plain": [
              "array([[ 0,  2],\n",
              "       [ 4,  6],\n",
              "       [ 8, 10]])"
            ]
          },
          "execution_count": 8,
          "metadata": {},
          "output_type": "execute_result"
        }
      ],
      "source": [
        "arr2[...,0]"
      ]
    },
    {
      "cell_type": "code",
      "execution_count": null,
      "id": "0a3af69a",
      "metadata": {
        "id": "0a3af69a",
        "outputId": "f5495e0d-1eeb-4fdc-9f38-03ca03d30218"
      },
      "outputs": [
        {
          "data": {
            "text/plain": [
              "array([[[ 4,  5],\n",
              "        [ 6,  7]],\n",
              "\n",
              "       [[ 8,  9],\n",
              "        [10, 11]]])"
            ]
          },
          "execution_count": 9,
          "metadata": {},
          "output_type": "execute_result"
        }
      ],
      "source": [
        "arr2[1:,...]"
      ]
    },
    {
      "cell_type": "code",
      "execution_count": null,
      "id": "39b52785",
      "metadata": {
        "id": "39b52785"
      },
      "outputs": [],
      "source": [
        "arr3 = np.array([\n",
        "    [1,2,3,4,5],\n",
        "    [11,22,33,44,55],\n",
        "    [10,20,30,40,50],\n",
        "    [21,23,25,27,29]\n",
        "])"
      ]
    },
    {
      "cell_type": "code",
      "execution_count": null,
      "id": "a85d0b74",
      "metadata": {
        "id": "a85d0b74",
        "outputId": "8ad9509d-d8a7-43b8-d932-7697cd304d55"
      },
      "outputs": [
        {
          "data": {
            "text/plain": [
              "array([1, 2, 3, 4, 5])"
            ]
          },
          "execution_count": 14,
          "metadata": {},
          "output_type": "execute_result"
        }
      ],
      "source": [
        "# Get the first index of the given array\n",
        "arr3[0]\n",
        "\n",
        "# The output will gives the entire row"
      ]
    },
    {
      "cell_type": "code",
      "execution_count": null,
      "id": "3c70796e",
      "metadata": {
        "id": "3c70796e",
        "outputId": "831011d9-dbaa-46d1-e9ca-423761ec2ff8"
      },
      "outputs": [
        {
          "data": {
            "text/plain": [
              "1"
            ]
          },
          "execution_count": 15,
          "metadata": {},
          "output_type": "execute_result"
        }
      ],
      "source": [
        "# If we need only the first element then we need to give it in matrix format\n",
        "arr3[0,0]  # Get the 0th row and 0th column"
      ]
    },
    {
      "cell_type": "code",
      "execution_count": null,
      "id": "4f08cff6",
      "metadata": {
        "id": "4f08cff6",
        "outputId": "f4735c7b-6c68-40c8-e4ad-6631960dc5d1"
      },
      "outputs": [
        {
          "data": {
            "text/plain": [
              "2"
            ]
          },
          "execution_count": 16,
          "metadata": {},
          "output_type": "execute_result"
        }
      ],
      "source": [
        "# If we need second element use like this\n",
        "arr3[0,1]"
      ]
    },
    {
      "cell_type": "code",
      "execution_count": null,
      "id": "100aa35f",
      "metadata": {
        "id": "100aa35f"
      },
      "outputs": [],
      "source": [
        "i = np.array([0,1,2,1])\n",
        "j = np.array([1,2,3,4])"
      ]
    },
    {
      "cell_type": "code",
      "execution_count": null,
      "id": "6fd6ae45",
      "metadata": {
        "id": "6fd6ae45",
        "outputId": "09bdeeda-60ec-4b38-9790-c054e0209885"
      },
      "outputs": [
        {
          "data": {
            "text/plain": [
              "array([[ 1,  2,  3,  4,  5],\n",
              "       [11, 22, 33, 44, 55],\n",
              "       [10, 20, 30, 40, 50],\n",
              "       [21, 23, 25, 27, 29]])"
            ]
          },
          "execution_count": 19,
          "metadata": {},
          "output_type": "execute_result"
        }
      ],
      "source": [
        "arr3"
      ]
    },
    {
      "cell_type": "code",
      "execution_count": null,
      "id": "1da11199",
      "metadata": {
        "id": "1da11199",
        "outputId": "417816fa-239e-4aed-eeea-1adefe5834c3"
      },
      "outputs": [
        {
          "data": {
            "text/plain": [
              "array([ 2, 33, 40, 55])"
            ]
          },
          "execution_count": 18,
          "metadata": {},
          "output_type": "execute_result"
        }
      ],
      "source": [
        "arr3[i,j]"
      ]
    },
    {
      "cell_type": "markdown",
      "id": "c74dbe17",
      "metadata": {
        "id": "c74dbe17"
      },
      "source": [
        "### Explanation for the above operation\n",
        "\n",
        "Let's break down the provided code snippet:\n",
        "\n",
        "```python\n",
        "arr3 = np.array([\n",
        "    [1, 2, 3, 4, 5],\n",
        "    [11, 22, 33, 44, 55],\n",
        "    [10, 20, 30, 40, 50],\n",
        "    [21, 23, 25, 27, 29]\n",
        "])\n",
        "\n",
        "i = np.array([0, 1, 2, 1])\n",
        "j = np.array([1, 2, 3, 4])\n",
        "\n",
        "result = arr3[i, j]\n",
        "```\n",
        "\n",
        "Explanation:\n",
        "\n",
        "1. `arr3`: This is a 4x5 NumPy array created using `np.array()`. It's a 2D array with integer values.\n",
        "\n",
        "2. `i` and `j`: These are 1D NumPy arrays representing indices. `i` contains row indices, and `j` contains column indices.\n",
        "\n",
        "3. `arr3[i, j]`: This code uses fancy indexing to select elements from the `arr3` array. It selects elements at positions defined by pairs of corresponding elements in `i` and `j`. In this case, it selects the following elements:\n",
        "   - `arr3[0, 1]` (first row, second column)\n",
        "   - `arr3[1, 2]` (second row, third column)\n",
        "   - `arr3[2, 3]` (third row, fourth column)\n",
        "   - `arr3[1, 4]` (second row, fifth column)\n",
        "\n",
        "   The result is a 1D array containing these selected elements: `array([2, 33, 40, 55])`.\n",
        "\n",
        "So, `result` will be the array `[2, 33, 40, 55]`."
      ]
    },
    {
      "cell_type": "code",
      "execution_count": null,
      "id": "ea911bf2",
      "metadata": {
        "id": "ea911bf2",
        "outputId": "7f1ec13b-17a7-4e76-87a0-7904088c6809"
      },
      "outputs": [
        {
          "data": {
            "text/plain": [
              "array([ 1,  2,  3,  4,  5, 11, 10])"
            ]
          },
          "execution_count": 21,
          "metadata": {},
          "output_type": "execute_result"
        }
      ],
      "source": [
        "# Print all the elements which is less than 15 in arr3 array\n",
        "arr3[arr3<15]"
      ]
    },
    {
      "cell_type": "code",
      "execution_count": null,
      "id": "7b330896",
      "metadata": {
        "id": "7b330896",
        "outputId": "665bfd86-6588-4497-c136-ffbe8d61317b"
      },
      "outputs": [
        {
          "data": {
            "text/plain": [
              "array([[ 1,  2,  3,  4,  5],\n",
              "       [10, 20, 30, 40, 50]])"
            ]
          },
          "execution_count": 23,
          "metadata": {},
          "output_type": "execute_result"
        }
      ],
      "source": [
        "arr4 = np.array([True,False,True,False])\n",
        "arr3[arr4,:]"
      ]
    },
    {
      "cell_type": "code",
      "execution_count": null,
      "id": "53a7247d",
      "metadata": {
        "id": "53a7247d",
        "outputId": "001572a2-751c-4f9d-e1d5-b8bd153b95b5"
      },
      "outputs": [
        {
          "data": {
            "text/plain": [
              "array([[ 1,  2,  3,  4,  5],\n",
              "       [ 6,  7,  8,  9, 10],\n",
              "       [11, 12, 13, 14, 15]])"
            ]
          },
          "execution_count": 3,
          "metadata": {},
          "output_type": "execute_result"
        }
      ],
      "source": [
        "my_matrix = [[1,2,3,4,5],\n",
        "            [6,7,8,9,10],\n",
        "            [11,12,13,14,15]]\n",
        "\n",
        "# Changing the list into numpy array\n",
        "\n",
        "my_matrix1 = np.array(my_matrix)\n",
        "my_matrix1"
      ]
    },
    {
      "cell_type": "code",
      "execution_count": null,
      "id": "b63eb2f2",
      "metadata": {
        "id": "b63eb2f2",
        "outputId": "5b738a0d-45c1-4872-9666-0ab7b2e09fd8"
      },
      "outputs": [
        {
          "data": {
            "text/plain": [
              "list"
            ]
          },
          "execution_count": 4,
          "metadata": {},
          "output_type": "execute_result"
        }
      ],
      "source": [
        "type(my_matrix)"
      ]
    },
    {
      "cell_type": "code",
      "execution_count": null,
      "id": "f1d44805",
      "metadata": {
        "id": "f1d44805",
        "outputId": "570d007b-1667-4366-85b7-b80c68d002f0"
      },
      "outputs": [
        {
          "data": {
            "text/plain": [
              "numpy.ndarray"
            ]
          },
          "execution_count": 5,
          "metadata": {},
          "output_type": "execute_result"
        }
      ],
      "source": [
        "type(my_matrix1)"
      ]
    },
    {
      "cell_type": "code",
      "execution_count": null,
      "id": "23cbf096",
      "metadata": {
        "id": "23cbf096",
        "outputId": "5d7f35f7-05dd-4606-e5a3-de029287630d"
      },
      "outputs": [
        {
          "data": {
            "text/plain": [
              "array([0., 0., 0., 0., 0., 0., 0., 0., 0., 0.])"
            ]
          },
          "execution_count": 8,
          "metadata": {},
          "output_type": "execute_result"
        }
      ],
      "source": [
        "arr_zeros = np.zeros(10)\n",
        "arr_zeros # gives 1d array of zeros as floating values"
      ]
    },
    {
      "cell_type": "code",
      "execution_count": null,
      "id": "73df2500",
      "metadata": {
        "id": "73df2500",
        "outputId": "5d2568db-1939-42c0-9a38-c11fdce7f52a"
      },
      "outputs": [
        {
          "data": {
            "text/plain": [
              "array([[0., 0., 0.],\n",
              "       [0., 0., 0.],\n",
              "       [0., 0., 0.]])"
            ]
          },
          "execution_count": 9,
          "metadata": {},
          "output_type": "execute_result"
        }
      ],
      "source": [
        "arr_zeros = np.zeros((3,3)) # Here I need 2d array with 3 rows and 3 columns\n",
        "arr_zeros"
      ]
    },
    {
      "cell_type": "markdown",
      "id": "60f4c9d8",
      "metadata": {
        "id": "60f4c9d8"
      },
      "source": [
        "### Work for you guys\n",
        "* There's one similar function like np.zeros() but it'll produce another value as an output if we change the name of the function\n",
        "* Let me know what's that one😊"
      ]
    },
    {
      "cell_type": "markdown",
      "id": "d0bfb825",
      "metadata": {
        "id": "d0bfb825"
      },
      "source": [
        "### Linspace\n",
        "\n",
        "Gives linearly spaced numbers"
      ]
    },
    {
      "cell_type": "code",
      "execution_count": null,
      "id": "068803d6",
      "metadata": {
        "id": "068803d6",
        "outputId": "7e817d32-a043-4059-9ddc-b4558fd32d4a"
      },
      "outputs": [
        {
          "data": {
            "text/plain": [
              "array([ 0. ,  5.5, 11. ])"
            ]
          },
          "execution_count": 11,
          "metadata": {},
          "output_type": "execute_result"
        }
      ],
      "source": [
        "arr_ls = np.linspace(0,11,3)\n",
        "arr_ls"
      ]
    },
    {
      "cell_type": "markdown",
      "id": "6cd905cf",
      "metadata": {
        "id": "6cd905cf"
      },
      "source": [
        "`np.linspace` is a function in NumPy that creates an array of evenly spaced values over a specified range. The syntax for `np.linspace` is as follows:\n",
        "\n",
        "```python\n",
        "import numpy as np\n",
        "\n",
        "# np.linspace(start, stop, num=50, endpoint=True, retstep=False, dtype=None)\n",
        "```\n",
        "\n",
        "- `start`: The starting value of the sequence.\n",
        "- `stop`: The end value of the sequence.\n",
        "- `num`: The number of evenly spaced samples to generate. Default is 50.\n",
        "- `endpoint`: If True (default), `stop` is the last value in the range. If False, `stop` is not included.\n",
        "- `retstep`: If True, return `(array, step)`, where `step` is the spacing between values.\n",
        "- `dtype`: The data type of the output array. If not specified, the data type is inferred from the input values.\n",
        "\n",
        "Here's an example of using `np.linspace`:\n",
        "\n",
        "```python\n",
        "import numpy as np\n",
        "\n",
        "# Create an array of 10 evenly spaced values from 0 to 1 (inclusive)\n",
        "my_array = np.linspace(0, 1, num=10)\n",
        "\n",
        "print(my_array)\n",
        "```\n",
        "\n",
        "In this example, `my_array` will contain 10 evenly spaced values between 0 and 1, inclusive. The output might look something like this:\n",
        "\n",
        "```\n",
        "[0.         0.11111111 0.22222222 0.33333333 0.44444444 0.55555556\n",
        " 0.66666667 0.77777778 0.88888889 1.        ]\n",
        "```\n",
        "\n",
        "This is useful when you need a specified number of points within a given range for various applications, such as plotting or numerical simulations."
      ]
    },
    {
      "cell_type": "markdown",
      "id": "f83e2df8",
      "metadata": {
        "id": "f83e2df8"
      },
      "source": [
        "### Creating Identity matrix"
      ]
    },
    {
      "cell_type": "code",
      "execution_count": null,
      "id": "87389e76",
      "metadata": {
        "id": "87389e76",
        "outputId": "5254778a-f2ab-42fd-fe08-cc6f1377f548"
      },
      "outputs": [
        {
          "data": {
            "text/plain": [
              "array([[1, 0, 0, 0, 0],\n",
              "       [0, 1, 0, 0, 0],\n",
              "       [0, 0, 1, 0, 0],\n",
              "       [0, 0, 0, 1, 0],\n",
              "       [0, 0, 0, 0, 1]])"
            ]
          },
          "execution_count": 12,
          "metadata": {},
          "output_type": "execute_result"
        }
      ],
      "source": [
        "id_matrix = np.eye(5,dtype = int)\n",
        "id_matrix"
      ]
    },
    {
      "cell_type": "code",
      "execution_count": null,
      "id": "19577ace",
      "metadata": {
        "id": "19577ace",
        "outputId": "b2ab78e1-7628-4798-e9a2-6b08e4bb3f1e"
      },
      "outputs": [
        {
          "data": {
            "text/plain": [
              "array([[0.35842494, 0.39068971, 0.59538467],\n",
              "       [0.42640497, 0.53842301, 0.38895842],\n",
              "       [0.34899948, 0.9892917 , 0.1510841 ]])"
            ]
          },
          "execution_count": 16,
          "metadata": {},
          "output_type": "execute_result"
        }
      ],
      "source": [
        "# Creating a numpy array with random values between 0 to 1\n",
        "rand1 = np.random.rand(3,3) # Here it'll produce 3x3 matrix\n",
        "rand1"
      ]
    },
    {
      "cell_type": "code",
      "execution_count": null,
      "id": "eb266fd9",
      "metadata": {
        "id": "eb266fd9",
        "outputId": "d6312b9a-1b9e-4a8a-bae9-36a1ed373fef"
      },
      "outputs": [
        {
          "data": {
            "text/plain": [
              "array([[ 0.24397703,  1.31627926, -0.61336727],\n",
              "       [ 0.96036836, -0.64044464, -0.74151654],\n",
              "       [ 2.3618761 , -0.02488661, -0.8102475 ]])"
            ]
          },
          "execution_count": 17,
          "metadata": {},
          "output_type": "execute_result"
        }
      ],
      "source": [
        "# Here the values which the numpy array produces will be in standard normal distribution\n",
        "rand2 = np.random.randn(3,3)\n",
        "rand2"
      ]
    },
    {
      "cell_type": "code",
      "execution_count": null,
      "id": "aadff65b",
      "metadata": {
        "id": "aadff65b",
        "outputId": "7cc0226f-ed68-4abe-c01e-135a9fe6950c"
      },
      "outputs": [
        {
          "data": {
            "text/plain": [
              "array([61, 80, 35, 78, 14, 60, 47, 24, 33, 56])"
            ]
          },
          "execution_count": 20,
          "metadata": {},
          "output_type": "execute_result"
        }
      ],
      "source": [
        "# In the below method the numpy array will produce random integers\n",
        "rand3 = np.random.randint(0,100,10)\n",
        "# In the above code we've given starting pos as 0, ending pos as 100 and need 10 random integer at last\n",
        "# So it'll produce the 10 random integers within the given range\n",
        "rand3"
      ]
    },
    {
      "cell_type": "code",
      "execution_count": null,
      "id": "c1c7216d",
      "metadata": {
        "id": "c1c7216d",
        "outputId": "35fc9067-9b41-4fe0-9975-508f04c96dd2"
      },
      "outputs": [
        {
          "data": {
            "text/plain": [
              "array([[11, 12, 17, 16, 10],\n",
              "       [18, 12, 14, 10, 12],\n",
              "       [11, 11, 10, 18, 17],\n",
              "       [13, 11, 12, 14, 11],\n",
              "       [16, 18, 19, 14, 15]])"
            ]
          },
          "execution_count": 23,
          "metadata": {},
          "output_type": "execute_result"
        }
      ],
      "source": [
        "# Creating a 2d matrix\n",
        "\n",
        "rand4 = np.random.randint(10,20,(5,5))\n",
        "rand4"
      ]
    },
    {
      "cell_type": "code",
      "execution_count": null,
      "id": "428203f0",
      "metadata": {
        "id": "428203f0",
        "outputId": "c7e72f84-cc8a-4932-fb29-775d3a467554"
      },
      "outputs": [
        {
          "data": {
            "text/plain": [
              "array([0.37454012, 0.95071431, 0.73199394, 0.59865848])"
            ]
          },
          "execution_count": 25,
          "metadata": {},
          "output_type": "execute_result"
        }
      ],
      "source": [
        "np.random.seed(42)  # seed allows us to set a particular set of random number\n",
        "np.random.rand(4)   # Whenever we execute this one we'll get same set of values"
      ]
    },
    {
      "cell_type": "code",
      "execution_count": null,
      "id": "039ced1b",
      "metadata": {
        "id": "039ced1b",
        "outputId": "edbc15fe-71cb-4f7f-950a-1890f9c0ac17"
      },
      "outputs": [
        {
          "name": "stdout",
          "output_type": "stream",
          "text": [
            "[46 34 77 80 35 49  3  1  5 53  3 53 92 62 17 89 43 33 73 61]\n",
            "Maximum value is: 92\n",
            "Minimum value is: 1\n",
            "Index of Maximum is: 12\n",
            "Index of Minimum is: 7\n"
          ]
        }
      ],
      "source": [
        "ran5 = np.random.randint(0,101,20)\n",
        "print(ran5)\n",
        "\n",
        "# finding the max value\n",
        "print(\"Maximum value is:\",ran5.max())\n",
        "\n",
        "# finding the minimum value.\n",
        "print(\"Minimum value is:\",ran5.min())\n",
        "\n",
        "# finding the index value of maximum value\n",
        "print(\"Index of Maximum is:\",ran5.argmax())\n",
        "\n",
        "# finding the index value of minimum value\n",
        "print(\"Index of Minimum is:\",ran5.argmin())"
      ]
    },
    {
      "cell_type": "code",
      "execution_count": null,
      "id": "4cc3a425",
      "metadata": {
        "id": "4cc3a425",
        "outputId": "b1040fa1-c4e2-4a2c-a1f7-19565b89d91c"
      },
      "outputs": [
        {
          "name": "stdout",
          "output_type": "stream",
          "text": [
            "(20,)\n"
          ]
        }
      ],
      "source": [
        "print(ran5.shape)   # Here shape is an attribute not a method"
      ]
    },
    {
      "cell_type": "code",
      "execution_count": null,
      "id": "f8da7e7f",
      "metadata": {
        "id": "f8da7e7f",
        "outputId": "f8bf53cc-1ed2-4910-ae18-e70bec51c334"
      },
      "outputs": [
        {
          "name": "stdout",
          "output_type": "stream",
          "text": [
            "[[46 34 77 80]\n",
            " [35 49  3  1]\n",
            " [ 5 53  3 53]\n",
            " [92 62 17 89]\n",
            " [43 33 73 61]]\n"
          ]
        }
      ],
      "source": [
        "ran5 = ran5.reshape(5,4)\n",
        "print(ran5)"
      ]
    },
    {
      "cell_type": "markdown",
      "id": "be9d12a8",
      "metadata": {
        "id": "be9d12a8"
      },
      "source": [
        "### Indexing and selection on NumPy arrays"
      ]
    },
    {
      "cell_type": "code",
      "execution_count": null,
      "id": "845eb0a8",
      "metadata": {
        "id": "845eb0a8",
        "outputId": "983fce8b-315f-4f81-9976-e5e6655d8446"
      },
      "outputs": [
        {
          "data": {
            "text/plain": [
              "array([ 0,  1,  2,  3,  4,  5,  6,  7,  8,  9, 10])"
            ]
          },
          "execution_count": 33,
          "metadata": {},
          "output_type": "execute_result"
        }
      ],
      "source": [
        "arr5 = np.arange(0,11)\n",
        "arr5"
      ]
    },
    {
      "cell_type": "code",
      "execution_count": null,
      "id": "92889503",
      "metadata": {
        "id": "92889503",
        "outputId": "5a94c0fa-51c8-4448-8e75-5ca5f3e0968d"
      },
      "outputs": [
        {
          "data": {
            "text/plain": [
              "4"
            ]
          },
          "execution_count": 34,
          "metadata": {},
          "output_type": "execute_result"
        }
      ],
      "source": [
        "# get the index value\n",
        "arr5[4]"
      ]
    },
    {
      "cell_type": "code",
      "execution_count": null,
      "id": "43dfb7df",
      "metadata": {
        "id": "43dfb7df",
        "outputId": "c1c053b6-f36a-491b-896c-011622171f3c"
      },
      "outputs": [
        {
          "data": {
            "text/plain": [
              "array([ 0,  1,  2,  3,  4,  5,  6,  7,  8,  9, 10])"
            ]
          },
          "execution_count": 36,
          "metadata": {},
          "output_type": "execute_result"
        }
      ],
      "source": [
        "# This indexing is more or less same as python list indexing\n",
        "arr5[0:]"
      ]
    },
    {
      "cell_type": "code",
      "execution_count": null,
      "id": "d724f744",
      "metadata": {
        "id": "d724f744",
        "outputId": "2f8100ea-e15b-4e7e-a8c9-6b8f22bf29d8"
      },
      "outputs": [
        {
          "data": {
            "text/plain": [
              "array([0, 1, 2, 3, 4, 5, 6, 7, 8])"
            ]
          },
          "execution_count": 37,
          "metadata": {},
          "output_type": "execute_result"
        }
      ],
      "source": [
        "arr5[:9] # Here end position value will be ignored in slicing ( so in result we can able to see upto 8)"
      ]
    },
    {
      "cell_type": "code",
      "execution_count": null,
      "id": "cefde3df",
      "metadata": {
        "id": "cefde3df",
        "outputId": "bdc42448-0df8-4d80-f5f3-ca6f7f095e96"
      },
      "outputs": [
        {
          "data": {
            "text/plain": [
              "array([0, 1, 2, 3, 4, 5, 6, 7, 8, 9])"
            ]
          },
          "execution_count": 38,
          "metadata": {},
          "output_type": "execute_result"
        }
      ],
      "source": [
        "# If we need that value as well means add 1\n",
        "arr5[:10]"
      ]
    },
    {
      "cell_type": "code",
      "execution_count": null,
      "id": "989c8948",
      "metadata": {
        "id": "989c8948",
        "outputId": "49ca5689-f195-4ec2-856c-f1c7cf7dc378"
      },
      "outputs": [
        {
          "data": {
            "text/plain": [
              "array([100, 100, 100, 100, 100,   5,   6,   7,   8,   9,  10])"
            ]
          },
          "execution_count": 39,
          "metadata": {},
          "output_type": "execute_result"
        }
      ],
      "source": [
        "# Reassinging the values from 0 to 4 th index\n",
        "arr5[0:5] = 100 # Note : this can't be done in normal python lists\n",
        "arr5"
      ]
    },
    {
      "cell_type": "code",
      "execution_count": null,
      "id": "da4adeb7",
      "metadata": {
        "id": "da4adeb7",
        "outputId": "3d07df72-88db-4faa-8da8-5e50afccf482"
      },
      "outputs": [
        {
          "data": {
            "text/plain": [
              "array([ 0,  1,  2,  3,  4,  5,  6,  7,  8,  9, 10])"
            ]
          },
          "execution_count": 40,
          "metadata": {},
          "output_type": "execute_result"
        }
      ],
      "source": [
        "arr5 = np.arange(0,11)\n",
        "arr5"
      ]
    },
    {
      "cell_type": "code",
      "execution_count": null,
      "id": "73f434bb",
      "metadata": {
        "id": "73f434bb",
        "outputId": "ff2da1dc-21ce-4666-c634-9da1aa9c5a76"
      },
      "outputs": [
        {
          "data": {
            "text/plain": [
              "array([0, 1, 2])"
            ]
          },
          "execution_count": 41,
          "metadata": {},
          "output_type": "execute_result"
        }
      ],
      "source": [
        "arr5_chng = arr5[0:3]\n",
        "arr5_chng"
      ]
    },
    {
      "cell_type": "code",
      "execution_count": null,
      "id": "8d51bbd5",
      "metadata": {
        "id": "8d51bbd5",
        "outputId": "1694496c-87c1-49f8-fbe7-8e5924c2aad5"
      },
      "outputs": [
        {
          "data": {
            "text/plain": [
              "array([20, 20, 20])"
            ]
          },
          "execution_count": 42,
          "metadata": {},
          "output_type": "execute_result"
        }
      ],
      "source": [
        "arr5_chng[:] = 20\n",
        "arr5_chng"
      ]
    },
    {
      "cell_type": "code",
      "execution_count": null,
      "id": "e96f8c0c",
      "metadata": {
        "id": "e96f8c0c",
        "outputId": "c899e10b-244a-4b2f-f154-fe4e9a629e3f"
      },
      "outputs": [
        {
          "data": {
            "text/plain": [
              "array([20, 20, 20,  3,  4,  5,  6,  7,  8,  9, 10])"
            ]
          },
          "execution_count": 43,
          "metadata": {},
          "output_type": "execute_result"
        }
      ],
      "source": [
        "# It's recommended to use copy method before changing the original array so that original array gets unaffected\n",
        "arr5_cpy = arr5.copy()\n",
        "arr5_cpy"
      ]
    },
    {
      "cell_type": "code",
      "execution_count": null,
      "id": "c5e4147e",
      "metadata": {
        "id": "c5e4147e",
        "outputId": "d391c7a9-dc0b-4740-c05e-d75a835bc560"
      },
      "outputs": [
        {
          "data": {
            "text/plain": [
              "array([100, 100, 100, 100, 100, 100, 100, 100, 100, 100, 100])"
            ]
          },
          "execution_count": 45,
          "metadata": {},
          "output_type": "execute_result"
        }
      ],
      "source": [
        "arr5_cpy[:] = 100\n",
        "arr5_cpy"
      ]
    },
    {
      "cell_type": "code",
      "execution_count": null,
      "id": "1a9cdcff",
      "metadata": {
        "id": "1a9cdcff",
        "outputId": "2425f343-f51f-4e3b-f021-48e7271d4875"
      },
      "outputs": [
        {
          "data": {
            "text/plain": [
              "array([20, 20, 20,  3,  4,  5,  6,  7,  8,  9, 10])"
            ]
          },
          "execution_count": 46,
          "metadata": {},
          "output_type": "execute_result"
        }
      ],
      "source": [
        "# Here the original array is arr5 let's see whether it got affected or not\n",
        "arr5"
      ]
    },
    {
      "cell_type": "code",
      "execution_count": null,
      "id": "ffb83948",
      "metadata": {
        "id": "ffb83948",
        "outputId": "828c8e7f-1df5-4496-faa8-874cf375250f"
      },
      "outputs": [
        {
          "data": {
            "text/plain": [
              "array([[  1,   2,   3,   4],\n",
              "       [  5,   6,   6,   7],\n",
              "       [ 99, 100, 101, 102]])"
            ]
          },
          "execution_count": 47,
          "metadata": {},
          "output_type": "execute_result"
        }
      ],
      "source": [
        "# 2d arrays\n",
        "\n",
        "_2d = np.array([[1,2,3,4],\n",
        "                [5,6,6,7],\n",
        "                [99,100,101,102]])\n",
        "_2d"
      ]
    },
    {
      "cell_type": "code",
      "execution_count": null,
      "id": "15e8844d",
      "metadata": {
        "id": "15e8844d",
        "outputId": "32e1020f-166b-4dfc-fd48-a8c78f6a0ba0"
      },
      "outputs": [
        {
          "data": {
            "text/plain": [
              "(3, 4)"
            ]
          },
          "execution_count": 48,
          "metadata": {},
          "output_type": "execute_result"
        }
      ],
      "source": [
        "_2d.shape # it's a 3 by 4 matrix"
      ]
    },
    {
      "cell_type": "code",
      "execution_count": null,
      "id": "5d99cdb0",
      "metadata": {
        "id": "5d99cdb0",
        "outputId": "297981b3-607a-4bf0-98af-300a1fdaf8f5"
      },
      "outputs": [
        {
          "data": {
            "text/plain": [
              "array([1, 2, 3, 4])"
            ]
          },
          "execution_count": 49,
          "metadata": {},
          "output_type": "execute_result"
        }
      ],
      "source": [
        "_2d[0] # gives the entire 1st row"
      ]
    },
    {
      "cell_type": "code",
      "execution_count": null,
      "id": "e3b0de55",
      "metadata": {
        "id": "e3b0de55",
        "outputId": "2d06da8e-f625-4ed3-ab6b-f80dad149446"
      },
      "outputs": [
        {
          "data": {
            "text/plain": [
              "1"
            ]
          },
          "execution_count": 50,
          "metadata": {},
          "output_type": "execute_result"
        }
      ],
      "source": [
        "_2d[0][0]"
      ]
    },
    {
      "cell_type": "code",
      "execution_count": null,
      "id": "8a8f651a",
      "metadata": {
        "id": "8a8f651a",
        "outputId": "9de4e854-a74e-406f-e07a-98a86da0223c"
      },
      "outputs": [
        {
          "data": {
            "text/plain": [
              "7"
            ]
          },
          "execution_count": 51,
          "metadata": {},
          "output_type": "execute_result"
        }
      ],
      "source": [
        "_2d[1][3]  # get the value of 2nd row and 4th column"
      ]
    },
    {
      "cell_type": "code",
      "execution_count": null,
      "id": "ee904837",
      "metadata": {
        "id": "ee904837",
        "outputId": "3831095f-8d72-4e20-d8be-b610b01faf0e"
      },
      "outputs": [
        {
          "data": {
            "text/plain": [
              "100"
            ]
          },
          "execution_count": 53,
          "metadata": {},
          "output_type": "execute_result"
        }
      ],
      "source": [
        "_2d[2][1]  # get the value of 3rd row and 2nd column"
      ]
    },
    {
      "cell_type": "code",
      "execution_count": null,
      "id": "1ec67190",
      "metadata": {
        "id": "1ec67190",
        "outputId": "86ca0ef2-c17a-494a-c239-20dd6b7e985d"
      },
      "outputs": [
        {
          "data": {
            "text/plain": [
              "array([0, 1, 2, 3, 4, 5, 6, 7, 8, 9])"
            ]
          },
          "execution_count": 55,
          "metadata": {},
          "output_type": "execute_result"
        }
      ],
      "source": [
        "bool_arr = np.arange(0,10)\n",
        "bool_arr"
      ]
    },
    {
      "cell_type": "code",
      "execution_count": null,
      "id": "373ace49",
      "metadata": {
        "id": "373ace49",
        "outputId": "77e8b233-b63d-4f0b-e5bc-65a27fba87ba"
      },
      "outputs": [
        {
          "data": {
            "text/plain": [
              "array([False, False, False, False, False, False, False, False,  True,\n",
              "        True])"
            ]
          },
          "execution_count": 56,
          "metadata": {},
          "output_type": "execute_result"
        }
      ],
      "source": [
        "bool_arr1 = bool_arr > 7\n",
        "bool_arr1"
      ]
    },
    {
      "cell_type": "code",
      "execution_count": null,
      "id": "23920cda",
      "metadata": {
        "id": "23920cda",
        "outputId": "aa8b9bfe-ad33-40b2-9b37-f4d5ac3b3f4a"
      },
      "outputs": [
        {
          "data": {
            "text/plain": [
              "array([8, 9])"
            ]
          },
          "execution_count": 57,
          "metadata": {},
          "output_type": "execute_result"
        }
      ],
      "source": [
        "bool_arr[bool_arr1]"
      ]
    },
    {
      "cell_type": "markdown",
      "id": "05d424e6",
      "metadata": {
        "id": "05d424e6"
      },
      "source": [
        "### NumPy operations"
      ]
    },
    {
      "cell_type": "code",
      "execution_count": null,
      "id": "76606980",
      "metadata": {
        "id": "76606980",
        "outputId": "f28676b2-25d2-4eef-fd1c-7f5015c160f8"
      },
      "outputs": [
        {
          "data": {
            "text/plain": [
              "array([ 0,  5, 10, 15, 20, 25, 30, 35, 40, 45])"
            ]
          },
          "execution_count": 58,
          "metadata": {},
          "output_type": "execute_result"
        }
      ],
      "source": [
        "new_arr = np.arange(0,50,5)\n",
        "new_arr"
      ]
    },
    {
      "cell_type": "code",
      "execution_count": null,
      "id": "b3532d33",
      "metadata": {
        "id": "b3532d33",
        "outputId": "2bd30b68-6c10-44b6-8435-af27ff0ca9e3"
      },
      "outputs": [
        {
          "data": {
            "text/plain": [
              "array([ 0, 10, 20, 30, 40, 50, 60, 70, 80, 90])"
            ]
          },
          "execution_count": 59,
          "metadata": {},
          "output_type": "execute_result"
        }
      ],
      "source": [
        "new_arr * 2"
      ]
    },
    {
      "cell_type": "code",
      "execution_count": null,
      "id": "a4eb35e6",
      "metadata": {
        "id": "a4eb35e6",
        "outputId": "0d222999-41ef-4d4a-b267-a75fa5b9f07b"
      },
      "outputs": [
        {
          "data": {
            "text/plain": [
              "array([0. , 0.5, 1. , 1.5, 2. , 2.5, 3. , 3.5, 4. , 4.5])"
            ]
          },
          "execution_count": 60,
          "metadata": {},
          "output_type": "execute_result"
        }
      ],
      "source": [
        "new_arr / 10"
      ]
    },
    {
      "cell_type": "code",
      "execution_count": null,
      "id": "f9328b48",
      "metadata": {
        "id": "f9328b48",
        "outputId": "2d4e4103-d891-464e-9c61-840ab6a084bc"
      },
      "outputs": [
        {
          "name": "stderr",
          "output_type": "stream",
          "text": [
            "C:\\Users\\munee\\AppData\\Local\\Temp\\ipykernel_3732\\1508088097.py:1: RuntimeWarning: divide by zero encountered in divide\n",
            "  new_arr / 0\n",
            "C:\\Users\\munee\\AppData\\Local\\Temp\\ipykernel_3732\\1508088097.py:1: RuntimeWarning: invalid value encountered in divide\n",
            "  new_arr / 0\n"
          ]
        },
        {
          "data": {
            "text/plain": [
              "array([nan, inf, inf, inf, inf, inf, inf, inf, inf, inf])"
            ]
          },
          "execution_count": 61,
          "metadata": {},
          "output_type": "execute_result"
        }
      ],
      "source": [
        "# zero division error, but numpy handles in different way\n",
        "new_arr / 0"
      ]
    },
    {
      "cell_type": "code",
      "execution_count": null,
      "id": "8e389978",
      "metadata": {
        "id": "8e389978",
        "outputId": "9f2dccf6-5c46-4f55-9bc6-48fc21d8421f"
      },
      "outputs": [
        {
          "ename": "ZeroDivisionError",
          "evalue": "division by zero",
          "output_type": "error",
          "traceback": [
            "\u001b[1;31m---------------------------------------------------------------------------\u001b[0m",
            "\u001b[1;31mZeroDivisionError\u001b[0m                         Traceback (most recent call last)",
            "Cell \u001b[1;32mIn[62], line 2\u001b[0m\n\u001b[0;32m      1\u001b[0m \u001b[38;5;66;03m# This is how the normal python error would be there\u001b[39;00m\n\u001b[1;32m----> 2\u001b[0m \u001b[38;5;241m1\u001b[39m \u001b[38;5;241m/\u001b[39m \u001b[38;5;241m0\u001b[39m\n",
            "\u001b[1;31mZeroDivisionError\u001b[0m: division by zero"
          ]
        }
      ],
      "source": [
        "# This is how the normal python error would be there\n",
        "1 / 0"
      ]
    },
    {
      "cell_type": "code",
      "execution_count": null,
      "id": "ae008915",
      "metadata": {
        "id": "ae008915",
        "outputId": "758660c0-6b32-4a22-9ce3-ffb1d7efe393"
      },
      "outputs": [
        {
          "data": {
            "text/plain": [
              "array([0.        , 2.23606798, 3.16227766, 3.87298335, 4.47213595,\n",
              "       5.        , 5.47722558, 5.91607978, 6.32455532, 6.70820393])"
            ]
          },
          "execution_count": 63,
          "metadata": {},
          "output_type": "execute_result"
        }
      ],
      "source": [
        "# Getting the square root value of our array\n",
        "sqrt_arr = np.sqrt(new_arr)\n",
        "sqrt_arr"
      ]
    },
    {
      "cell_type": "code",
      "execution_count": null,
      "id": "f70459d1",
      "metadata": {
        "id": "f70459d1",
        "outputId": "a4d93707-138f-4658-9e31-eab58db1d3ed"
      },
      "outputs": [
        {
          "data": {
            "text/plain": [
              "array([ 0.        , -0.95892427, -0.54402111,  0.65028784,  0.91294525,\n",
              "       -0.13235175, -0.98803162, -0.42818267,  0.74511316,  0.85090352])"
            ]
          },
          "execution_count": 64,
          "metadata": {},
          "output_type": "execute_result"
        }
      ],
      "source": [
        "sin_arr = np.sin(new_arr)\n",
        "sin_arr"
      ]
    },
    {
      "cell_type": "code",
      "execution_count": null,
      "id": "51cfe362",
      "metadata": {
        "id": "51cfe362",
        "outputId": "a58bd1b3-0ec8-4905-8502-791fe69d07cf"
      },
      "outputs": [
        {
          "data": {
            "text/plain": [
              "112"
            ]
          },
          "execution_count": 66,
          "metadata": {},
          "output_type": "execute_result"
        }
      ],
      "source": [
        "sum_arr = np.sum(arr5)\n",
        "sum_arr"
      ]
    },
    {
      "cell_type": "code",
      "execution_count": null,
      "id": "d87ce843",
      "metadata": {
        "id": "d87ce843",
        "outputId": "603455bc-990b-4c8e-f3f6-aa2bd329b3be"
      },
      "outputs": [
        {
          "data": {
            "text/plain": [
              "array([50, 55, 60, 65, 70])"
            ]
          },
          "execution_count": 71,
          "metadata": {},
          "output_type": "execute_result"
        }
      ],
      "source": [
        "# summing up the rows\n",
        "arr6 = np.arange(0,25).reshape(5,5)\n",
        "sum_arr = np.sum(arr6,axis = 0) # adding the rows\n",
        "sum_arr"
      ]
    },
    {
      "cell_type": "code",
      "execution_count": null,
      "id": "199794fc",
      "metadata": {
        "id": "199794fc",
        "outputId": "7310285f-33db-4d0a-f80c-1cba1ab3b1ca"
      },
      "outputs": [
        {
          "data": {
            "text/plain": [
              "array([ 10,  35,  60,  85, 110])"
            ]
          },
          "execution_count": 73,
          "metadata": {},
          "output_type": "execute_result"
        }
      ],
      "source": [
        "sum_arr1 = np.sum(arr6,axis = 1) # adding the columns\n",
        "sum_arr1"
      ]
    },
    {
      "cell_type": "code",
      "execution_count": null,
      "id": "98f5dc55",
      "metadata": {
        "id": "98f5dc55"
      },
      "outputs": [],
      "source": []
    }
  ],
  "metadata": {
    "kernelspec": {
      "display_name": "Python 3 (ipykernel)",
      "language": "python",
      "name": "python3"
    },
    "language_info": {
      "codemirror_mode": {
        "name": "ipython",
        "version": 3
      },
      "file_extension": ".py",
      "mimetype": "text/x-python",
      "name": "python",
      "nbconvert_exporter": "python",
      "pygments_lexer": "ipython3",
      "version": "3.11.3"
    },
    "colab": {
      "provenance": [],
      "include_colab_link": true
    }
  },
  "nbformat": 4,
  "nbformat_minor": 5
}