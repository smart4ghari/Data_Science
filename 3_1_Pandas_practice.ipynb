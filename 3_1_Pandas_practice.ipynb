{
  "cells": [
    {
      "cell_type": "markdown",
      "metadata": {
        "id": "view-in-github",
        "colab_type": "text"
      },
      "source": [
        "<a href=\"https://colab.research.google.com/github/smart4ghari/Data_Science/blob/main/3_1_Pandas_practice.ipynb\" target=\"_parent\"><img src=\"https://colab.research.google.com/assets/colab-badge.svg\" alt=\"Open In Colab\"/></a>"
      ]
    },
    {
      "cell_type": "code",
      "execution_count": null,
      "id": "6dcaffde",
      "metadata": {
        "id": "6dcaffde"
      },
      "outputs": [],
      "source": [
        "# Import pandas\n",
        "import pandas as pd"
      ]
    },
    {
      "cell_type": "code",
      "execution_count": null,
      "id": "ee6cd594",
      "metadata": {
        "id": "ee6cd594"
      },
      "outputs": [],
      "source": [
        "survey = pd.read_csv(\"annual-enterprise-survey-2021-financial-year-provisional-csv.csv\")"
      ]
    },
    {
      "cell_type": "code",
      "execution_count": null,
      "id": "23f705cc",
      "metadata": {
        "id": "23f705cc",
        "outputId": "311c5f0f-08d9-4296-ffe3-582cbc3b0ddd"
      },
      "outputs": [
        {
          "data": {
            "text/html": [
              "<div>\n",
              "<style scoped>\n",
              "    .dataframe tbody tr th:only-of-type {\n",
              "        vertical-align: middle;\n",
              "    }\n",
              "\n",
              "    .dataframe tbody tr th {\n",
              "        vertical-align: top;\n",
              "    }\n",
              "\n",
              "    .dataframe thead th {\n",
              "        text-align: right;\n",
              "    }\n",
              "</style>\n",
              "<table border=\"1\" class=\"dataframe\">\n",
              "  <thead>\n",
              "    <tr style=\"text-align: right;\">\n",
              "      <th></th>\n",
              "      <th>Year</th>\n",
              "      <th>Industry_aggregation_NZSIOC</th>\n",
              "      <th>Industry_code_NZSIOC</th>\n",
              "      <th>Industry_name_NZSIOC</th>\n",
              "      <th>Units</th>\n",
              "      <th>Variable_code</th>\n",
              "      <th>Variable_name</th>\n",
              "      <th>Variable_category</th>\n",
              "      <th>Value</th>\n",
              "      <th>Industry_code_ANZSIC06</th>\n",
              "    </tr>\n",
              "  </thead>\n",
              "  <tbody>\n",
              "    <tr>\n",
              "      <th>0</th>\n",
              "      <td>2021</td>\n",
              "      <td>Level 1</td>\n",
              "      <td>99999</td>\n",
              "      <td>All industries</td>\n",
              "      <td>Dollars (millions)</td>\n",
              "      <td>H01</td>\n",
              "      <td>Total income</td>\n",
              "      <td>Financial performance</td>\n",
              "      <td>757,504</td>\n",
              "      <td>ANZSIC06 divisions A-S (excluding classes K633...</td>\n",
              "    </tr>\n",
              "    <tr>\n",
              "      <th>1</th>\n",
              "      <td>2021</td>\n",
              "      <td>Level 1</td>\n",
              "      <td>99999</td>\n",
              "      <td>All industries</td>\n",
              "      <td>Dollars (millions)</td>\n",
              "      <td>H04</td>\n",
              "      <td>Sales, government funding, grants and subsidies</td>\n",
              "      <td>Financial performance</td>\n",
              "      <td>674,890</td>\n",
              "      <td>ANZSIC06 divisions A-S (excluding classes K633...</td>\n",
              "    </tr>\n",
              "    <tr>\n",
              "      <th>2</th>\n",
              "      <td>2021</td>\n",
              "      <td>Level 1</td>\n",
              "      <td>99999</td>\n",
              "      <td>All industries</td>\n",
              "      <td>Dollars (millions)</td>\n",
              "      <td>H05</td>\n",
              "      <td>Interest, dividends and donations</td>\n",
              "      <td>Financial performance</td>\n",
              "      <td>49,593</td>\n",
              "      <td>ANZSIC06 divisions A-S (excluding classes K633...</td>\n",
              "    </tr>\n",
              "    <tr>\n",
              "      <th>3</th>\n",
              "      <td>2021</td>\n",
              "      <td>Level 1</td>\n",
              "      <td>99999</td>\n",
              "      <td>All industries</td>\n",
              "      <td>Dollars (millions)</td>\n",
              "      <td>H07</td>\n",
              "      <td>Non-operating income</td>\n",
              "      <td>Financial performance</td>\n",
              "      <td>33,020</td>\n",
              "      <td>ANZSIC06 divisions A-S (excluding classes K633...</td>\n",
              "    </tr>\n",
              "    <tr>\n",
              "      <th>4</th>\n",
              "      <td>2021</td>\n",
              "      <td>Level 1</td>\n",
              "      <td>99999</td>\n",
              "      <td>All industries</td>\n",
              "      <td>Dollars (millions)</td>\n",
              "      <td>H08</td>\n",
              "      <td>Total expenditure</td>\n",
              "      <td>Financial performance</td>\n",
              "      <td>654,404</td>\n",
              "      <td>ANZSIC06 divisions A-S (excluding classes K633...</td>\n",
              "    </tr>\n",
              "    <tr>\n",
              "      <th>...</th>\n",
              "      <td>...</td>\n",
              "      <td>...</td>\n",
              "      <td>...</td>\n",
              "      <td>...</td>\n",
              "      <td>...</td>\n",
              "      <td>...</td>\n",
              "      <td>...</td>\n",
              "      <td>...</td>\n",
              "      <td>...</td>\n",
              "      <td>...</td>\n",
              "    </tr>\n",
              "    <tr>\n",
              "      <th>41710</th>\n",
              "      <td>2013</td>\n",
              "      <td>Level 3</td>\n",
              "      <td>ZZ11</td>\n",
              "      <td>Food product manufacturing</td>\n",
              "      <td>Percentage</td>\n",
              "      <td>H37</td>\n",
              "      <td>Quick ratio</td>\n",
              "      <td>Financial ratios</td>\n",
              "      <td>52</td>\n",
              "      <td>ANZSIC06 groups C111, C112, C113, C114, C115, ...</td>\n",
              "    </tr>\n",
              "    <tr>\n",
              "      <th>41711</th>\n",
              "      <td>2013</td>\n",
              "      <td>Level 3</td>\n",
              "      <td>ZZ11</td>\n",
              "      <td>Food product manufacturing</td>\n",
              "      <td>Percentage</td>\n",
              "      <td>H38</td>\n",
              "      <td>Margin on sales of goods for resale</td>\n",
              "      <td>Financial ratios</td>\n",
              "      <td>40</td>\n",
              "      <td>ANZSIC06 groups C111, C112, C113, C114, C115, ...</td>\n",
              "    </tr>\n",
              "    <tr>\n",
              "      <th>41712</th>\n",
              "      <td>2013</td>\n",
              "      <td>Level 3</td>\n",
              "      <td>ZZ11</td>\n",
              "      <td>Food product manufacturing</td>\n",
              "      <td>Percentage</td>\n",
              "      <td>H39</td>\n",
              "      <td>Return on equity</td>\n",
              "      <td>Financial ratios</td>\n",
              "      <td>12</td>\n",
              "      <td>ANZSIC06 groups C111, C112, C113, C114, C115, ...</td>\n",
              "    </tr>\n",
              "    <tr>\n",
              "      <th>41713</th>\n",
              "      <td>2013</td>\n",
              "      <td>Level 3</td>\n",
              "      <td>ZZ11</td>\n",
              "      <td>Food product manufacturing</td>\n",
              "      <td>Percentage</td>\n",
              "      <td>H40</td>\n",
              "      <td>Return on total assets</td>\n",
              "      <td>Financial ratios</td>\n",
              "      <td>5</td>\n",
              "      <td>ANZSIC06 groups C111, C112, C113, C114, C115, ...</td>\n",
              "    </tr>\n",
              "    <tr>\n",
              "      <th>41714</th>\n",
              "      <td>2013</td>\n",
              "      <td>Level 3</td>\n",
              "      <td>ZZ11</td>\n",
              "      <td>Food product manufacturing</td>\n",
              "      <td>Percentage</td>\n",
              "      <td>H41</td>\n",
              "      <td>Liabilities structure</td>\n",
              "      <td>Financial ratios</td>\n",
              "      <td>46</td>\n",
              "      <td>ANZSIC06 groups C111, C112, C113, C114, C115, ...</td>\n",
              "    </tr>\n",
              "  </tbody>\n",
              "</table>\n",
              "<p>41715 rows × 10 columns</p>\n",
              "</div>"
            ],
            "text/plain": [
              "       Year Industry_aggregation_NZSIOC Industry_code_NZSIOC  \\\n",
              "0      2021                     Level 1                99999   \n",
              "1      2021                     Level 1                99999   \n",
              "2      2021                     Level 1                99999   \n",
              "3      2021                     Level 1                99999   \n",
              "4      2021                     Level 1                99999   \n",
              "...     ...                         ...                  ...   \n",
              "41710  2013                     Level 3                 ZZ11   \n",
              "41711  2013                     Level 3                 ZZ11   \n",
              "41712  2013                     Level 3                 ZZ11   \n",
              "41713  2013                     Level 3                 ZZ11   \n",
              "41714  2013                     Level 3                 ZZ11   \n",
              "\n",
              "             Industry_name_NZSIOC               Units Variable_code  \\\n",
              "0                  All industries  Dollars (millions)           H01   \n",
              "1                  All industries  Dollars (millions)           H04   \n",
              "2                  All industries  Dollars (millions)           H05   \n",
              "3                  All industries  Dollars (millions)           H07   \n",
              "4                  All industries  Dollars (millions)           H08   \n",
              "...                           ...                 ...           ...   \n",
              "41710  Food product manufacturing          Percentage           H37   \n",
              "41711  Food product manufacturing          Percentage           H38   \n",
              "41712  Food product manufacturing          Percentage           H39   \n",
              "41713  Food product manufacturing          Percentage           H40   \n",
              "41714  Food product manufacturing          Percentage           H41   \n",
              "\n",
              "                                         Variable_name      Variable_category  \\\n",
              "0                                         Total income  Financial performance   \n",
              "1      Sales, government funding, grants and subsidies  Financial performance   \n",
              "2                    Interest, dividends and donations  Financial performance   \n",
              "3                                 Non-operating income  Financial performance   \n",
              "4                                    Total expenditure  Financial performance   \n",
              "...                                                ...                    ...   \n",
              "41710                                      Quick ratio       Financial ratios   \n",
              "41711              Margin on sales of goods for resale       Financial ratios   \n",
              "41712                                 Return on equity       Financial ratios   \n",
              "41713                           Return on total assets       Financial ratios   \n",
              "41714                            Liabilities structure       Financial ratios   \n",
              "\n",
              "         Value                             Industry_code_ANZSIC06  \n",
              "0      757,504  ANZSIC06 divisions A-S (excluding classes K633...  \n",
              "1      674,890  ANZSIC06 divisions A-S (excluding classes K633...  \n",
              "2       49,593  ANZSIC06 divisions A-S (excluding classes K633...  \n",
              "3       33,020  ANZSIC06 divisions A-S (excluding classes K633...  \n",
              "4      654,404  ANZSIC06 divisions A-S (excluding classes K633...  \n",
              "...        ...                                                ...  \n",
              "41710       52  ANZSIC06 groups C111, C112, C113, C114, C115, ...  \n",
              "41711       40  ANZSIC06 groups C111, C112, C113, C114, C115, ...  \n",
              "41712       12  ANZSIC06 groups C111, C112, C113, C114, C115, ...  \n",
              "41713        5  ANZSIC06 groups C111, C112, C113, C114, C115, ...  \n",
              "41714       46  ANZSIC06 groups C111, C112, C113, C114, C115, ...  \n",
              "\n",
              "[41715 rows x 10 columns]"
            ]
          },
          "execution_count": 3,
          "metadata": {},
          "output_type": "execute_result"
        }
      ],
      "source": [
        "survey"
      ]
    },
    {
      "cell_type": "code",
      "execution_count": null,
      "id": "5c70f808",
      "metadata": {
        "id": "5c70f808",
        "outputId": "4ac778dc-48fc-4458-c290-f9d47acaaffb"
      },
      "outputs": [
        {
          "data": {
            "text/html": [
              "<div>\n",
              "<style scoped>\n",
              "    .dataframe tbody tr th:only-of-type {\n",
              "        vertical-align: middle;\n",
              "    }\n",
              "\n",
              "    .dataframe tbody tr th {\n",
              "        vertical-align: top;\n",
              "    }\n",
              "\n",
              "    .dataframe thead th {\n",
              "        text-align: right;\n",
              "    }\n",
              "</style>\n",
              "<table border=\"1\" class=\"dataframe\">\n",
              "  <thead>\n",
              "    <tr style=\"text-align: right;\">\n",
              "      <th></th>\n",
              "      <th>Year</th>\n",
              "      <th>Industry_aggregation_NZSIOC</th>\n",
              "      <th>Industry_code_NZSIOC</th>\n",
              "      <th>Industry_name_NZSIOC</th>\n",
              "      <th>Units</th>\n",
              "      <th>Variable_code</th>\n",
              "      <th>Variable_name</th>\n",
              "      <th>Variable_category</th>\n",
              "      <th>Value</th>\n",
              "      <th>Industry_code_ANZSIC06</th>\n",
              "    </tr>\n",
              "  </thead>\n",
              "  <tbody>\n",
              "    <tr>\n",
              "      <th>0</th>\n",
              "      <td>2021</td>\n",
              "      <td>Level 1</td>\n",
              "      <td>99999</td>\n",
              "      <td>All industries</td>\n",
              "      <td>Dollars (millions)</td>\n",
              "      <td>H01</td>\n",
              "      <td>Total income</td>\n",
              "      <td>Financial performance</td>\n",
              "      <td>757,504</td>\n",
              "      <td>ANZSIC06 divisions A-S (excluding classes K633...</td>\n",
              "    </tr>\n",
              "    <tr>\n",
              "      <th>1</th>\n",
              "      <td>2021</td>\n",
              "      <td>Level 1</td>\n",
              "      <td>99999</td>\n",
              "      <td>All industries</td>\n",
              "      <td>Dollars (millions)</td>\n",
              "      <td>H04</td>\n",
              "      <td>Sales, government funding, grants and subsidies</td>\n",
              "      <td>Financial performance</td>\n",
              "      <td>674,890</td>\n",
              "      <td>ANZSIC06 divisions A-S (excluding classes K633...</td>\n",
              "    </tr>\n",
              "    <tr>\n",
              "      <th>2</th>\n",
              "      <td>2021</td>\n",
              "      <td>Level 1</td>\n",
              "      <td>99999</td>\n",
              "      <td>All industries</td>\n",
              "      <td>Dollars (millions)</td>\n",
              "      <td>H05</td>\n",
              "      <td>Interest, dividends and donations</td>\n",
              "      <td>Financial performance</td>\n",
              "      <td>49,593</td>\n",
              "      <td>ANZSIC06 divisions A-S (excluding classes K633...</td>\n",
              "    </tr>\n",
              "    <tr>\n",
              "      <th>3</th>\n",
              "      <td>2021</td>\n",
              "      <td>Level 1</td>\n",
              "      <td>99999</td>\n",
              "      <td>All industries</td>\n",
              "      <td>Dollars (millions)</td>\n",
              "      <td>H07</td>\n",
              "      <td>Non-operating income</td>\n",
              "      <td>Financial performance</td>\n",
              "      <td>33,020</td>\n",
              "      <td>ANZSIC06 divisions A-S (excluding classes K633...</td>\n",
              "    </tr>\n",
              "    <tr>\n",
              "      <th>4</th>\n",
              "      <td>2021</td>\n",
              "      <td>Level 1</td>\n",
              "      <td>99999</td>\n",
              "      <td>All industries</td>\n",
              "      <td>Dollars (millions)</td>\n",
              "      <td>H08</td>\n",
              "      <td>Total expenditure</td>\n",
              "      <td>Financial performance</td>\n",
              "      <td>654,404</td>\n",
              "      <td>ANZSIC06 divisions A-S (excluding classes K633...</td>\n",
              "    </tr>\n",
              "  </tbody>\n",
              "</table>\n",
              "</div>"
            ],
            "text/plain": [
              "   Year Industry_aggregation_NZSIOC Industry_code_NZSIOC Industry_name_NZSIOC  \\\n",
              "0  2021                     Level 1                99999       All industries   \n",
              "1  2021                     Level 1                99999       All industries   \n",
              "2  2021                     Level 1                99999       All industries   \n",
              "3  2021                     Level 1                99999       All industries   \n",
              "4  2021                     Level 1                99999       All industries   \n",
              "\n",
              "                Units Variable_code  \\\n",
              "0  Dollars (millions)           H01   \n",
              "1  Dollars (millions)           H04   \n",
              "2  Dollars (millions)           H05   \n",
              "3  Dollars (millions)           H07   \n",
              "4  Dollars (millions)           H08   \n",
              "\n",
              "                                     Variable_name      Variable_category  \\\n",
              "0                                     Total income  Financial performance   \n",
              "1  Sales, government funding, grants and subsidies  Financial performance   \n",
              "2                Interest, dividends and donations  Financial performance   \n",
              "3                             Non-operating income  Financial performance   \n",
              "4                                Total expenditure  Financial performance   \n",
              "\n",
              "     Value                             Industry_code_ANZSIC06  \n",
              "0  757,504  ANZSIC06 divisions A-S (excluding classes K633...  \n",
              "1  674,890  ANZSIC06 divisions A-S (excluding classes K633...  \n",
              "2   49,593  ANZSIC06 divisions A-S (excluding classes K633...  \n",
              "3   33,020  ANZSIC06 divisions A-S (excluding classes K633...  \n",
              "4  654,404  ANZSIC06 divisions A-S (excluding classes K633...  "
            ]
          },
          "execution_count": 4,
          "metadata": {},
          "output_type": "execute_result"
        }
      ],
      "source": [
        "survey.head() # Print first 5 data"
      ]
    },
    {
      "cell_type": "code",
      "execution_count": null,
      "id": "4609d4c0",
      "metadata": {
        "id": "4609d4c0",
        "outputId": "80437988-6345-4f57-bc66-9ecb7b3fdcab"
      },
      "outputs": [
        {
          "data": {
            "text/plain": [
              "pandas.core.frame.DataFrame"
            ]
          },
          "execution_count": 5,
          "metadata": {},
          "output_type": "execute_result"
        }
      ],
      "source": [
        "type(survey)"
      ]
    },
    {
      "cell_type": "code",
      "execution_count": null,
      "id": "4537f0a8",
      "metadata": {
        "id": "4537f0a8",
        "outputId": "75a11df9-35ec-4648-eed9-f0d4238c4615"
      },
      "outputs": [
        {
          "data": {
            "text/plain": [
              "Index(['Year', 'Industry_aggregation_NZSIOC', 'Industry_code_NZSIOC',\n",
              "       'Industry_name_NZSIOC', 'Units', 'Variable_code', 'Variable_name',\n",
              "       'Variable_category', 'Value', 'Industry_code_ANZSIC06'],\n",
              "      dtype='object')"
            ]
          },
          "execution_count": 6,
          "metadata": {},
          "output_type": "execute_result"
        }
      ],
      "source": [
        "# Getting the details of the columns\n",
        "survey.columns"
      ]
    },
    {
      "cell_type": "code",
      "execution_count": null,
      "id": "e1cbcc64",
      "metadata": {
        "id": "e1cbcc64",
        "outputId": "92cf8bb7-84b3-4e9e-9ed4-70e5ecea843b"
      },
      "outputs": [
        {
          "data": {
            "text/plain": [
              "Year                            int64\n",
              "Industry_aggregation_NZSIOC    object\n",
              "Industry_code_NZSIOC           object\n",
              "Industry_name_NZSIOC           object\n",
              "Units                          object\n",
              "Variable_code                  object\n",
              "Variable_name                  object\n",
              "Variable_category              object\n",
              "Value                          object\n",
              "Industry_code_ANZSIC06         object\n",
              "dtype: object"
            ]
          },
          "execution_count": 12,
          "metadata": {},
          "output_type": "execute_result"
        }
      ],
      "source": [
        "# Getting the datatypes of dataset\n",
        "get_dtype = survey.dtypes\n",
        "get_dtype"
      ]
    },
    {
      "cell_type": "code",
      "execution_count": null,
      "id": "6b1dcbac",
      "metadata": {
        "id": "6b1dcbac",
        "outputId": "08906e4d-9efc-4f1a-9a61-635f6eb7f675"
      },
      "outputs": [
        {
          "data": {
            "text/plain": [
              "pandas.core.series.Series"
            ]
          },
          "execution_count": 13,
          "metadata": {},
          "output_type": "execute_result"
        }
      ],
      "source": [
        "type(get_dtype)\n",
        "# Here the datatype would be panda series (It's somewhat similar to python list but not same as python list)"
      ]
    },
    {
      "cell_type": "code",
      "execution_count": null,
      "id": "7f1907ed",
      "metadata": {
        "id": "7f1907ed",
        "outputId": "ce0a831b-05e7-4e7d-dcb6-960d8d02a2fe"
      },
      "outputs": [
        {
          "data": {
            "text/plain": [
              "dtype('O')"
            ]
          },
          "execution_count": 14,
          "metadata": {},
          "output_type": "execute_result"
        }
      ],
      "source": [
        "get_dtype['Variable_code']"
      ]
    },
    {
      "cell_type": "code",
      "execution_count": null,
      "id": "701162e2",
      "metadata": {
        "id": "701162e2",
        "outputId": "8a498d77-9994-4119-c01b-be488fba58e4"
      },
      "outputs": [
        {
          "data": {
            "text/plain": [
              "Year                            int64\n",
              "Industry_aggregation_NZSIOC    object\n",
              "Industry_code_NZSIOC           object\n",
              "Industry_name_NZSIOC           object\n",
              "Units                          object\n",
              "Variable_code                  object\n",
              "Variable_name                  object\n",
              "Variable_category              object\n",
              "Value                          object\n",
              "Industry_code_ANZSIC06         object\n",
              "dtype: object"
            ]
          },
          "execution_count": 15,
          "metadata": {},
          "output_type": "execute_result"
        }
      ],
      "source": [
        "# getting the values based on index\n",
        "get_dtype[0:]"
      ]
    },
    {
      "cell_type": "code",
      "execution_count": null,
      "id": "c419cdbb",
      "metadata": {
        "id": "c419cdbb",
        "outputId": "6e7e2336-e0ce-41e4-d918-f0df20ab3177"
      },
      "outputs": [
        {
          "data": {
            "text/plain": [
              "dtype('O')"
            ]
          },
          "execution_count": 16,
          "metadata": {},
          "output_type": "execute_result"
        }
      ],
      "source": [
        "get_dtype[7]"
      ]
    },
    {
      "cell_type": "code",
      "execution_count": null,
      "id": "1711e8fd",
      "metadata": {
        "id": "1711e8fd",
        "outputId": "8ffda8e0-9dfe-4bd8-8d6a-a56959a788c6"
      },
      "outputs": [
        {
          "data": {
            "text/plain": [
              "0        H01\n",
              "1        H04\n",
              "2        H05\n",
              "3        H07\n",
              "4        H08\n",
              "        ... \n",
              "41710    H37\n",
              "41711    H38\n",
              "41712    H39\n",
              "41713    H40\n",
              "41714    H41\n",
              "Name: Variable_code, Length: 41715, dtype: object"
            ]
          },
          "execution_count": 17,
          "metadata": {},
          "output_type": "execute_result"
        }
      ],
      "source": [
        "survey['Variable_code']"
      ]
    },
    {
      "cell_type": "code",
      "execution_count": null,
      "id": "9609f643",
      "metadata": {
        "id": "9609f643",
        "outputId": "2a72a3e1-6993-4e98-eb86-b4851ee0ed81"
      },
      "outputs": [
        {
          "data": {
            "text/plain": [
              "5      H09\n",
              "6      H10\n",
              "7      H11\n",
              "8      H12\n",
              "9      H13\n",
              "      ... \n",
              "96     H08\n",
              "97     H09\n",
              "98     H10\n",
              "99     H11\n",
              "100    H12\n",
              "Name: Variable_code, Length: 96, dtype: object"
            ]
          },
          "execution_count": 18,
          "metadata": {},
          "output_type": "execute_result"
        }
      ],
      "source": [
        "# Get the data from 5th index to 100th index for variable_code column\n",
        "survey['Variable_code'][5:101]"
      ]
    },
    {
      "cell_type": "code",
      "execution_count": null,
      "id": "e5f3b9aa",
      "metadata": {
        "id": "e5f3b9aa",
        "outputId": "6d6c01de-0c9b-407f-d6fd-2d062f26e95d"
      },
      "outputs": [
        {
          "data": {
            "text/plain": [
              "101    H13\n",
              "100    H12\n",
              "99     H11\n",
              "98     H10\n",
              "97     H09\n",
              "      ... \n",
              "10     H14\n",
              "9      H13\n",
              "8      H12\n",
              "7      H11\n",
              "6      H10\n",
              "Name: Variable_code, Length: 96, dtype: object"
            ]
          },
          "execution_count": 20,
          "metadata": {},
          "output_type": "execute_result"
        }
      ],
      "source": [
        "# print the data in reverse direction\n",
        "survey['Variable_code'][101:5:-1]"
      ]
    },
    {
      "cell_type": "code",
      "execution_count": null,
      "id": "52ccc1f4",
      "metadata": {
        "id": "52ccc1f4",
        "outputId": "b3b4c4bd-bd16-41bc-fad9-d24029f5b5df"
      },
      "outputs": [
        {
          "ename": "KeyError",
          "evalue": "-1",
          "output_type": "error",
          "traceback": [
            "\u001b[1;31m---------------------------------------------------------------------------\u001b[0m",
            "\u001b[1;31mValueError\u001b[0m                                Traceback (most recent call last)",
            "File \u001b[1;32m~\\anaconda3\\Lib\\site-packages\\pandas\\core\\indexes\\range.py:391\u001b[0m, in \u001b[0;36mRangeIndex.get_loc\u001b[1;34m(self, key, method, tolerance)\u001b[0m\n\u001b[0;32m    390\u001b[0m \u001b[38;5;28;01mtry\u001b[39;00m:\n\u001b[1;32m--> 391\u001b[0m     \u001b[38;5;28;01mreturn\u001b[39;00m \u001b[38;5;28mself\u001b[39m\u001b[38;5;241m.\u001b[39m_range\u001b[38;5;241m.\u001b[39mindex(new_key)\n\u001b[0;32m    392\u001b[0m \u001b[38;5;28;01mexcept\u001b[39;00m \u001b[38;5;167;01mValueError\u001b[39;00m \u001b[38;5;28;01mas\u001b[39;00m err:\n",
            "\u001b[1;31mValueError\u001b[0m: -1 is not in range",
            "\nThe above exception was the direct cause of the following exception:\n",
            "\u001b[1;31mKeyError\u001b[0m                                  Traceback (most recent call last)",
            "Cell \u001b[1;32mIn[21], line 2\u001b[0m\n\u001b[0;32m      1\u001b[0m \u001b[38;5;66;03m# Negative index doesn't exist for series\u001b[39;00m\n\u001b[1;32m----> 2\u001b[0m survey[\u001b[38;5;124m'\u001b[39m\u001b[38;5;124mVariable_code\u001b[39m\u001b[38;5;124m'\u001b[39m][\u001b[38;5;241m-\u001b[39m\u001b[38;5;241m1\u001b[39m]\n",
            "File \u001b[1;32m~\\anaconda3\\Lib\\site-packages\\pandas\\core\\series.py:981\u001b[0m, in \u001b[0;36mSeries.__getitem__\u001b[1;34m(self, key)\u001b[0m\n\u001b[0;32m    978\u001b[0m     \u001b[38;5;28;01mreturn\u001b[39;00m \u001b[38;5;28mself\u001b[39m\u001b[38;5;241m.\u001b[39m_values[key]\n\u001b[0;32m    980\u001b[0m \u001b[38;5;28;01melif\u001b[39;00m key_is_scalar:\n\u001b[1;32m--> 981\u001b[0m     \u001b[38;5;28;01mreturn\u001b[39;00m \u001b[38;5;28mself\u001b[39m\u001b[38;5;241m.\u001b[39m_get_value(key)\n\u001b[0;32m    983\u001b[0m \u001b[38;5;28;01mif\u001b[39;00m is_hashable(key):\n\u001b[0;32m    984\u001b[0m     \u001b[38;5;66;03m# Otherwise index.get_value will raise InvalidIndexError\u001b[39;00m\n\u001b[0;32m    985\u001b[0m     \u001b[38;5;28;01mtry\u001b[39;00m:\n\u001b[0;32m    986\u001b[0m         \u001b[38;5;66;03m# For labels that don't resolve as scalars like tuples and frozensets\u001b[39;00m\n",
            "File \u001b[1;32m~\\anaconda3\\Lib\\site-packages\\pandas\\core\\series.py:1089\u001b[0m, in \u001b[0;36mSeries._get_value\u001b[1;34m(self, label, takeable)\u001b[0m\n\u001b[0;32m   1086\u001b[0m     \u001b[38;5;28;01mreturn\u001b[39;00m \u001b[38;5;28mself\u001b[39m\u001b[38;5;241m.\u001b[39m_values[label]\n\u001b[0;32m   1088\u001b[0m \u001b[38;5;66;03m# Similar to Index.get_value, but we do not fall back to positional\u001b[39;00m\n\u001b[1;32m-> 1089\u001b[0m loc \u001b[38;5;241m=\u001b[39m \u001b[38;5;28mself\u001b[39m\u001b[38;5;241m.\u001b[39mindex\u001b[38;5;241m.\u001b[39mget_loc(label)\n\u001b[0;32m   1090\u001b[0m \u001b[38;5;28;01mreturn\u001b[39;00m \u001b[38;5;28mself\u001b[39m\u001b[38;5;241m.\u001b[39mindex\u001b[38;5;241m.\u001b[39m_get_values_for_loc(\u001b[38;5;28mself\u001b[39m, loc, label)\n",
            "File \u001b[1;32m~\\anaconda3\\Lib\\site-packages\\pandas\\core\\indexes\\range.py:393\u001b[0m, in \u001b[0;36mRangeIndex.get_loc\u001b[1;34m(self, key, method, tolerance)\u001b[0m\n\u001b[0;32m    391\u001b[0m         \u001b[38;5;28;01mreturn\u001b[39;00m \u001b[38;5;28mself\u001b[39m\u001b[38;5;241m.\u001b[39m_range\u001b[38;5;241m.\u001b[39mindex(new_key)\n\u001b[0;32m    392\u001b[0m     \u001b[38;5;28;01mexcept\u001b[39;00m \u001b[38;5;167;01mValueError\u001b[39;00m \u001b[38;5;28;01mas\u001b[39;00m err:\n\u001b[1;32m--> 393\u001b[0m         \u001b[38;5;28;01mraise\u001b[39;00m \u001b[38;5;167;01mKeyError\u001b[39;00m(key) \u001b[38;5;28;01mfrom\u001b[39;00m \u001b[38;5;21;01merr\u001b[39;00m\n\u001b[0;32m    394\u001b[0m \u001b[38;5;28mself\u001b[39m\u001b[38;5;241m.\u001b[39m_check_indexing_error(key)\n\u001b[0;32m    395\u001b[0m \u001b[38;5;28;01mraise\u001b[39;00m \u001b[38;5;167;01mKeyError\u001b[39;00m(key)\n",
            "\u001b[1;31mKeyError\u001b[0m: -1"
          ]
        }
      ],
      "source": [
        "# Negative index doesn't exist for series\n",
        "survey['Variable_code'][-1]"
      ]
    },
    {
      "cell_type": "code",
      "execution_count": null,
      "id": "1c08090c",
      "metadata": {
        "id": "1c08090c",
        "outputId": "7e74f6fc-c58c-4de0-fd11-8af1040280f5"
      },
      "outputs": [
        {
          "data": {
            "text/plain": [
              "41714    H41\n",
              "41713    H40\n",
              "41712    H39\n",
              "41711    H38\n",
              "41710    H37\n",
              "        ... \n",
              "4        H08\n",
              "3        H07\n",
              "2        H05\n",
              "1        H04\n",
              "0        H01\n",
              "Name: Variable_code, Length: 41715, dtype: object"
            ]
          },
          "execution_count": 22,
          "metadata": {},
          "output_type": "execute_result"
        }
      ],
      "source": [
        "survey['Variable_code'][::-1]"
      ]
    },
    {
      "cell_type": "code",
      "execution_count": null,
      "id": "14dc420e",
      "metadata": {
        "id": "14dc420e",
        "outputId": "7a63badc-1fe2-4149-8935-33f45a731364"
      },
      "outputs": [
        {
          "data": {
            "text/html": [
              "<div>\n",
              "<style scoped>\n",
              "    .dataframe tbody tr th:only-of-type {\n",
              "        vertical-align: middle;\n",
              "    }\n",
              "\n",
              "    .dataframe tbody tr th {\n",
              "        vertical-align: top;\n",
              "    }\n",
              "\n",
              "    .dataframe thead th {\n",
              "        text-align: right;\n",
              "    }\n",
              "</style>\n",
              "<table border=\"1\" class=\"dataframe\">\n",
              "  <thead>\n",
              "    <tr style=\"text-align: right;\">\n",
              "      <th></th>\n",
              "      <th>Year</th>\n",
              "    </tr>\n",
              "  </thead>\n",
              "  <tbody>\n",
              "    <tr>\n",
              "      <th>count</th>\n",
              "      <td>41715.00000</td>\n",
              "    </tr>\n",
              "    <tr>\n",
              "      <th>mean</th>\n",
              "      <td>2017.00000</td>\n",
              "    </tr>\n",
              "    <tr>\n",
              "      <th>std</th>\n",
              "      <td>2.58202</td>\n",
              "    </tr>\n",
              "    <tr>\n",
              "      <th>min</th>\n",
              "      <td>2013.00000</td>\n",
              "    </tr>\n",
              "    <tr>\n",
              "      <th>25%</th>\n",
              "      <td>2015.00000</td>\n",
              "    </tr>\n",
              "    <tr>\n",
              "      <th>50%</th>\n",
              "      <td>2017.00000</td>\n",
              "    </tr>\n",
              "    <tr>\n",
              "      <th>75%</th>\n",
              "      <td>2019.00000</td>\n",
              "    </tr>\n",
              "    <tr>\n",
              "      <th>max</th>\n",
              "      <td>2021.00000</td>\n",
              "    </tr>\n",
              "  </tbody>\n",
              "</table>\n",
              "</div>"
            ],
            "text/plain": [
              "              Year\n",
              "count  41715.00000\n",
              "mean    2017.00000\n",
              "std        2.58202\n",
              "min     2013.00000\n",
              "25%     2015.00000\n",
              "50%     2017.00000\n",
              "75%     2019.00000\n",
              "max     2021.00000"
            ]
          },
          "execution_count": 23,
          "metadata": {},
          "output_type": "execute_result"
        }
      ],
      "source": [
        "# Getting the basic statistics of the data using describe method (It'll give output for col which contains int or float)\n",
        "survey.describe()"
      ]
    },
    {
      "cell_type": "code",
      "execution_count": null,
      "id": "19929041",
      "metadata": {
        "id": "19929041"
      },
      "outputs": [],
      "source": [
        "# Filtering all entries only with object datatype\n",
        "filtered = survey[survey.dtypes[survey.dtypes == 'object'].index]"
      ]
    },
    {
      "cell_type": "code",
      "execution_count": null,
      "id": "e0f95361",
      "metadata": {
        "id": "e0f95361",
        "outputId": "5b7cd507-6d19-424e-e200-75c4af031743"
      },
      "outputs": [
        {
          "data": {
            "text/html": [
              "<div>\n",
              "<style scoped>\n",
              "    .dataframe tbody tr th:only-of-type {\n",
              "        vertical-align: middle;\n",
              "    }\n",
              "\n",
              "    .dataframe tbody tr th {\n",
              "        vertical-align: top;\n",
              "    }\n",
              "\n",
              "    .dataframe thead th {\n",
              "        text-align: right;\n",
              "    }\n",
              "</style>\n",
              "<table border=\"1\" class=\"dataframe\">\n",
              "  <thead>\n",
              "    <tr style=\"text-align: right;\">\n",
              "      <th></th>\n",
              "      <th>Industry_aggregation_NZSIOC</th>\n",
              "      <th>Industry_code_NZSIOC</th>\n",
              "      <th>Industry_name_NZSIOC</th>\n",
              "      <th>Units</th>\n",
              "      <th>Variable_code</th>\n",
              "      <th>Variable_name</th>\n",
              "      <th>Variable_category</th>\n",
              "      <th>Value</th>\n",
              "      <th>Industry_code_ANZSIC06</th>\n",
              "    </tr>\n",
              "  </thead>\n",
              "  <tbody>\n",
              "    <tr>\n",
              "      <th>0</th>\n",
              "      <td>Level 1</td>\n",
              "      <td>99999</td>\n",
              "      <td>All industries</td>\n",
              "      <td>Dollars (millions)</td>\n",
              "      <td>H01</td>\n",
              "      <td>Total income</td>\n",
              "      <td>Financial performance</td>\n",
              "      <td>757,504</td>\n",
              "      <td>ANZSIC06 divisions A-S (excluding classes K633...</td>\n",
              "    </tr>\n",
              "    <tr>\n",
              "      <th>1</th>\n",
              "      <td>Level 1</td>\n",
              "      <td>99999</td>\n",
              "      <td>All industries</td>\n",
              "      <td>Dollars (millions)</td>\n",
              "      <td>H04</td>\n",
              "      <td>Sales, government funding, grants and subsidies</td>\n",
              "      <td>Financial performance</td>\n",
              "      <td>674,890</td>\n",
              "      <td>ANZSIC06 divisions A-S (excluding classes K633...</td>\n",
              "    </tr>\n",
              "    <tr>\n",
              "      <th>2</th>\n",
              "      <td>Level 1</td>\n",
              "      <td>99999</td>\n",
              "      <td>All industries</td>\n",
              "      <td>Dollars (millions)</td>\n",
              "      <td>H05</td>\n",
              "      <td>Interest, dividends and donations</td>\n",
              "      <td>Financial performance</td>\n",
              "      <td>49,593</td>\n",
              "      <td>ANZSIC06 divisions A-S (excluding classes K633...</td>\n",
              "    </tr>\n",
              "    <tr>\n",
              "      <th>3</th>\n",
              "      <td>Level 1</td>\n",
              "      <td>99999</td>\n",
              "      <td>All industries</td>\n",
              "      <td>Dollars (millions)</td>\n",
              "      <td>H07</td>\n",
              "      <td>Non-operating income</td>\n",
              "      <td>Financial performance</td>\n",
              "      <td>33,020</td>\n",
              "      <td>ANZSIC06 divisions A-S (excluding classes K633...</td>\n",
              "    </tr>\n",
              "    <tr>\n",
              "      <th>4</th>\n",
              "      <td>Level 1</td>\n",
              "      <td>99999</td>\n",
              "      <td>All industries</td>\n",
              "      <td>Dollars (millions)</td>\n",
              "      <td>H08</td>\n",
              "      <td>Total expenditure</td>\n",
              "      <td>Financial performance</td>\n",
              "      <td>654,404</td>\n",
              "      <td>ANZSIC06 divisions A-S (excluding classes K633...</td>\n",
              "    </tr>\n",
              "    <tr>\n",
              "      <th>...</th>\n",
              "      <td>...</td>\n",
              "      <td>...</td>\n",
              "      <td>...</td>\n",
              "      <td>...</td>\n",
              "      <td>...</td>\n",
              "      <td>...</td>\n",
              "      <td>...</td>\n",
              "      <td>...</td>\n",
              "      <td>...</td>\n",
              "    </tr>\n",
              "    <tr>\n",
              "      <th>41710</th>\n",
              "      <td>Level 3</td>\n",
              "      <td>ZZ11</td>\n",
              "      <td>Food product manufacturing</td>\n",
              "      <td>Percentage</td>\n",
              "      <td>H37</td>\n",
              "      <td>Quick ratio</td>\n",
              "      <td>Financial ratios</td>\n",
              "      <td>52</td>\n",
              "      <td>ANZSIC06 groups C111, C112, C113, C114, C115, ...</td>\n",
              "    </tr>\n",
              "    <tr>\n",
              "      <th>41711</th>\n",
              "      <td>Level 3</td>\n",
              "      <td>ZZ11</td>\n",
              "      <td>Food product manufacturing</td>\n",
              "      <td>Percentage</td>\n",
              "      <td>H38</td>\n",
              "      <td>Margin on sales of goods for resale</td>\n",
              "      <td>Financial ratios</td>\n",
              "      <td>40</td>\n",
              "      <td>ANZSIC06 groups C111, C112, C113, C114, C115, ...</td>\n",
              "    </tr>\n",
              "    <tr>\n",
              "      <th>41712</th>\n",
              "      <td>Level 3</td>\n",
              "      <td>ZZ11</td>\n",
              "      <td>Food product manufacturing</td>\n",
              "      <td>Percentage</td>\n",
              "      <td>H39</td>\n",
              "      <td>Return on equity</td>\n",
              "      <td>Financial ratios</td>\n",
              "      <td>12</td>\n",
              "      <td>ANZSIC06 groups C111, C112, C113, C114, C115, ...</td>\n",
              "    </tr>\n",
              "    <tr>\n",
              "      <th>41713</th>\n",
              "      <td>Level 3</td>\n",
              "      <td>ZZ11</td>\n",
              "      <td>Food product manufacturing</td>\n",
              "      <td>Percentage</td>\n",
              "      <td>H40</td>\n",
              "      <td>Return on total assets</td>\n",
              "      <td>Financial ratios</td>\n",
              "      <td>5</td>\n",
              "      <td>ANZSIC06 groups C111, C112, C113, C114, C115, ...</td>\n",
              "    </tr>\n",
              "    <tr>\n",
              "      <th>41714</th>\n",
              "      <td>Level 3</td>\n",
              "      <td>ZZ11</td>\n",
              "      <td>Food product manufacturing</td>\n",
              "      <td>Percentage</td>\n",
              "      <td>H41</td>\n",
              "      <td>Liabilities structure</td>\n",
              "      <td>Financial ratios</td>\n",
              "      <td>46</td>\n",
              "      <td>ANZSIC06 groups C111, C112, C113, C114, C115, ...</td>\n",
              "    </tr>\n",
              "  </tbody>\n",
              "</table>\n",
              "<p>41715 rows × 9 columns</p>\n",
              "</div>"
            ],
            "text/plain": [
              "      Industry_aggregation_NZSIOC Industry_code_NZSIOC  \\\n",
              "0                         Level 1                99999   \n",
              "1                         Level 1                99999   \n",
              "2                         Level 1                99999   \n",
              "3                         Level 1                99999   \n",
              "4                         Level 1                99999   \n",
              "...                           ...                  ...   \n",
              "41710                     Level 3                 ZZ11   \n",
              "41711                     Level 3                 ZZ11   \n",
              "41712                     Level 3                 ZZ11   \n",
              "41713                     Level 3                 ZZ11   \n",
              "41714                     Level 3                 ZZ11   \n",
              "\n",
              "             Industry_name_NZSIOC               Units Variable_code  \\\n",
              "0                  All industries  Dollars (millions)           H01   \n",
              "1                  All industries  Dollars (millions)           H04   \n",
              "2                  All industries  Dollars (millions)           H05   \n",
              "3                  All industries  Dollars (millions)           H07   \n",
              "4                  All industries  Dollars (millions)           H08   \n",
              "...                           ...                 ...           ...   \n",
              "41710  Food product manufacturing          Percentage           H37   \n",
              "41711  Food product manufacturing          Percentage           H38   \n",
              "41712  Food product manufacturing          Percentage           H39   \n",
              "41713  Food product manufacturing          Percentage           H40   \n",
              "41714  Food product manufacturing          Percentage           H41   \n",
              "\n",
              "                                         Variable_name      Variable_category  \\\n",
              "0                                         Total income  Financial performance   \n",
              "1      Sales, government funding, grants and subsidies  Financial performance   \n",
              "2                    Interest, dividends and donations  Financial performance   \n",
              "3                                 Non-operating income  Financial performance   \n",
              "4                                    Total expenditure  Financial performance   \n",
              "...                                                ...                    ...   \n",
              "41710                                      Quick ratio       Financial ratios   \n",
              "41711              Margin on sales of goods for resale       Financial ratios   \n",
              "41712                                 Return on equity       Financial ratios   \n",
              "41713                           Return on total assets       Financial ratios   \n",
              "41714                            Liabilities structure       Financial ratios   \n",
              "\n",
              "         Value                             Industry_code_ANZSIC06  \n",
              "0      757,504  ANZSIC06 divisions A-S (excluding classes K633...  \n",
              "1      674,890  ANZSIC06 divisions A-S (excluding classes K633...  \n",
              "2       49,593  ANZSIC06 divisions A-S (excluding classes K633...  \n",
              "3       33,020  ANZSIC06 divisions A-S (excluding classes K633...  \n",
              "4      654,404  ANZSIC06 divisions A-S (excluding classes K633...  \n",
              "...        ...                                                ...  \n",
              "41710       52  ANZSIC06 groups C111, C112, C113, C114, C115, ...  \n",
              "41711       40  ANZSIC06 groups C111, C112, C113, C114, C115, ...  \n",
              "41712       12  ANZSIC06 groups C111, C112, C113, C114, C115, ...  \n",
              "41713        5  ANZSIC06 groups C111, C112, C113, C114, C115, ...  \n",
              "41714       46  ANZSIC06 groups C111, C112, C113, C114, C115, ...  \n",
              "\n",
              "[41715 rows x 9 columns]"
            ]
          },
          "execution_count": 35,
          "metadata": {},
          "output_type": "execute_result"
        }
      ],
      "source": [
        "filtered"
      ]
    },
    {
      "cell_type": "code",
      "execution_count": null,
      "id": "e1e99553",
      "metadata": {
        "id": "e1e99553",
        "outputId": "90bcb6d7-40cc-40e8-c8ec-8bfdce6daa9a"
      },
      "outputs": [
        {
          "data": {
            "text/html": [
              "<div>\n",
              "<style scoped>\n",
              "    .dataframe tbody tr th:only-of-type {\n",
              "        vertical-align: middle;\n",
              "    }\n",
              "\n",
              "    .dataframe tbody tr th {\n",
              "        vertical-align: top;\n",
              "    }\n",
              "\n",
              "    .dataframe thead th {\n",
              "        text-align: right;\n",
              "    }\n",
              "</style>\n",
              "<table border=\"1\" class=\"dataframe\">\n",
              "  <thead>\n",
              "    <tr style=\"text-align: right;\">\n",
              "      <th></th>\n",
              "      <th>Industry_aggregation_NZSIOC</th>\n",
              "      <th>Industry_code_NZSIOC</th>\n",
              "      <th>Industry_name_NZSIOC</th>\n",
              "      <th>Units</th>\n",
              "      <th>Variable_code</th>\n",
              "      <th>Variable_name</th>\n",
              "      <th>Variable_category</th>\n",
              "      <th>Value</th>\n",
              "      <th>Industry_code_ANZSIC06</th>\n",
              "    </tr>\n",
              "  </thead>\n",
              "  <tbody>\n",
              "    <tr>\n",
              "      <th>count</th>\n",
              "      <td>41715</td>\n",
              "      <td>41715</td>\n",
              "      <td>41715</td>\n",
              "      <td>41715</td>\n",
              "      <td>41715</td>\n",
              "      <td>41715</td>\n",
              "      <td>41715</td>\n",
              "      <td>41715</td>\n",
              "      <td>41715</td>\n",
              "    </tr>\n",
              "    <tr>\n",
              "      <th>unique</th>\n",
              "      <td>3</td>\n",
              "      <td>139</td>\n",
              "      <td>119</td>\n",
              "      <td>3</td>\n",
              "      <td>39</td>\n",
              "      <td>41</td>\n",
              "      <td>3</td>\n",
              "      <td>10084</td>\n",
              "      <td>121</td>\n",
              "    </tr>\n",
              "    <tr>\n",
              "      <th>top</th>\n",
              "      <td>Level 4</td>\n",
              "      <td>GH12</td>\n",
              "      <td>Public Order, Safety and Regulatory Services</td>\n",
              "      <td>Dollars (millions)</td>\n",
              "      <td>H01</td>\n",
              "      <td>Total income</td>\n",
              "      <td>Financial performance</td>\n",
              "      <td>C</td>\n",
              "      <td>ANZSIC06 group C170</td>\n",
              "    </tr>\n",
              "    <tr>\n",
              "      <th>freq</th>\n",
              "      <td>22833</td>\n",
              "      <td>324</td>\n",
              "      <td>775</td>\n",
              "      <td>32796</td>\n",
              "      <td>1251</td>\n",
              "      <td>1251</td>\n",
              "      <td>20853</td>\n",
              "      <td>1909</td>\n",
              "      <td>648</td>\n",
              "    </tr>\n",
              "  </tbody>\n",
              "</table>\n",
              "</div>"
            ],
            "text/plain": [
              "       Industry_aggregation_NZSIOC Industry_code_NZSIOC  \\\n",
              "count                        41715                41715   \n",
              "unique                           3                  139   \n",
              "top                        Level 4                 GH12   \n",
              "freq                         22833                  324   \n",
              "\n",
              "                                Industry_name_NZSIOC               Units  \\\n",
              "count                                          41715               41715   \n",
              "unique                                           119                   3   \n",
              "top     Public Order, Safety and Regulatory Services  Dollars (millions)   \n",
              "freq                                             775               32796   \n",
              "\n",
              "       Variable_code Variable_name      Variable_category  Value  \\\n",
              "count          41715         41715                  41715  41715   \n",
              "unique            39            41                      3  10084   \n",
              "top              H01  Total income  Financial performance      C   \n",
              "freq            1251          1251                  20853   1909   \n",
              "\n",
              "       Industry_code_ANZSIC06  \n",
              "count                   41715  \n",
              "unique                    121  \n",
              "top       ANZSIC06 group C170  \n",
              "freq                      648  "
            ]
          },
          "execution_count": 36,
          "metadata": {},
          "output_type": "execute_result"
        }
      ],
      "source": [
        "filtered.describe()"
      ]
    },
    {
      "cell_type": "code",
      "execution_count": null,
      "id": "b76faa07",
      "metadata": {
        "id": "b76faa07",
        "outputId": "e996281a-9347-4f84-ba69-6d940d1e0ccb"
      },
      "outputs": [
        {
          "data": {
            "text/plain": [
              "0        Level 1\n",
              "1        Level 1\n",
              "2        Level 1\n",
              "3        Level 1\n",
              "4        Level 1\n",
              "          ...   \n",
              "41710    Level 3\n",
              "41711    Level 3\n",
              "41712    Level 3\n",
              "41713    Level 3\n",
              "41714    Level 3\n",
              "Name: Industry_aggregation_NZSIOC, Length: 41715, dtype: object"
            ]
          },
          "execution_count": 37,
          "metadata": {},
          "output_type": "execute_result"
        }
      ],
      "source": [
        "    survey['Industry_aggregation_NZSIOC'] # Getting single column"
      ]
    },
    {
      "cell_type": "code",
      "execution_count": null,
      "id": "016fce48",
      "metadata": {
        "id": "016fce48",
        "outputId": "978b6b23-4138-4c05-b7b9-b4df9cc2ac16"
      },
      "outputs": [
        {
          "data": {
            "text/html": [
              "<div>\n",
              "<style scoped>\n",
              "    .dataframe tbody tr th:only-of-type {\n",
              "        vertical-align: middle;\n",
              "    }\n",
              "\n",
              "    .dataframe tbody tr th {\n",
              "        vertical-align: top;\n",
              "    }\n",
              "\n",
              "    .dataframe thead th {\n",
              "        text-align: right;\n",
              "    }\n",
              "</style>\n",
              "<table border=\"1\" class=\"dataframe\">\n",
              "  <thead>\n",
              "    <tr style=\"text-align: right;\">\n",
              "      <th></th>\n",
              "      <th>Industry_aggregation_NZSIOC</th>\n",
              "      <th>Variable_code</th>\n",
              "    </tr>\n",
              "  </thead>\n",
              "  <tbody>\n",
              "    <tr>\n",
              "      <th>0</th>\n",
              "      <td>Level 1</td>\n",
              "      <td>H01</td>\n",
              "    </tr>\n",
              "    <tr>\n",
              "      <th>1</th>\n",
              "      <td>Level 1</td>\n",
              "      <td>H04</td>\n",
              "    </tr>\n",
              "    <tr>\n",
              "      <th>2</th>\n",
              "      <td>Level 1</td>\n",
              "      <td>H05</td>\n",
              "    </tr>\n",
              "    <tr>\n",
              "      <th>3</th>\n",
              "      <td>Level 1</td>\n",
              "      <td>H07</td>\n",
              "    </tr>\n",
              "    <tr>\n",
              "      <th>4</th>\n",
              "      <td>Level 1</td>\n",
              "      <td>H08</td>\n",
              "    </tr>\n",
              "    <tr>\n",
              "      <th>...</th>\n",
              "      <td>...</td>\n",
              "      <td>...</td>\n",
              "    </tr>\n",
              "    <tr>\n",
              "      <th>41710</th>\n",
              "      <td>Level 3</td>\n",
              "      <td>H37</td>\n",
              "    </tr>\n",
              "    <tr>\n",
              "      <th>41711</th>\n",
              "      <td>Level 3</td>\n",
              "      <td>H38</td>\n",
              "    </tr>\n",
              "    <tr>\n",
              "      <th>41712</th>\n",
              "      <td>Level 3</td>\n",
              "      <td>H39</td>\n",
              "    </tr>\n",
              "    <tr>\n",
              "      <th>41713</th>\n",
              "      <td>Level 3</td>\n",
              "      <td>H40</td>\n",
              "    </tr>\n",
              "    <tr>\n",
              "      <th>41714</th>\n",
              "      <td>Level 3</td>\n",
              "      <td>H41</td>\n",
              "    </tr>\n",
              "  </tbody>\n",
              "</table>\n",
              "<p>41715 rows × 2 columns</p>\n",
              "</div>"
            ],
            "text/plain": [
              "      Industry_aggregation_NZSIOC Variable_code\n",
              "0                         Level 1           H01\n",
              "1                         Level 1           H04\n",
              "2                         Level 1           H05\n",
              "3                         Level 1           H07\n",
              "4                         Level 1           H08\n",
              "...                           ...           ...\n",
              "41710                     Level 3           H37\n",
              "41711                     Level 3           H38\n",
              "41712                     Level 3           H39\n",
              "41713                     Level 3           H40\n",
              "41714                     Level 3           H41\n",
              "\n",
              "[41715 rows x 2 columns]"
            ]
          },
          "execution_count": 39,
          "metadata": {},
          "output_type": "execute_result"
        }
      ],
      "source": [
        "# Getting multiple columns\n",
        "survey[['Industry_aggregation_NZSIOC','Variable_code']]"
      ]
    },
    {
      "cell_type": "code",
      "execution_count": null,
      "id": "708ad2c5",
      "metadata": {
        "id": "708ad2c5"
      },
      "outputs": [],
      "source": [
        "import numpy as np"
      ]
    },
    {
      "cell_type": "code",
      "execution_count": null,
      "id": "6dd07914",
      "metadata": {
        "id": "6dd07914",
        "outputId": "c8daf240-ec0b-46b7-bee6-254df3ef0e18"
      },
      "outputs": [
        {
          "data": {
            "text/plain": [
              "(array([], dtype=int64),)"
            ]
          },
          "execution_count": 49,
          "metadata": {},
          "output_type": "execute_result"
        }
      ],
      "source": [
        "np.where(survey['Variable_name' and 'Variable_code'].isnull() == True)"
      ]
    },
    {
      "cell_type": "code",
      "execution_count": null,
      "id": "c4591016",
      "metadata": {
        "id": "c4591016",
        "outputId": "ea34c2a3-581d-4986-9cb8-4180bbe4dc1e"
      },
      "outputs": [
        {
          "data": {
            "text/plain": [
              "0        2021\n",
              "31       2021\n",
              "62       2021\n",
              "92       2021\n",
              "122      2021\n",
              "         ... \n",
              "41551    2013\n",
              "41583    2013\n",
              "41615    2013\n",
              "41647    2013\n",
              "41679    2013\n",
              "Name: Year, Length: 1251, dtype: int64"
            ]
          },
          "execution_count": 64,
          "metadata": {},
          "output_type": "execute_result"
        }
      ],
      "source": [
        "# survey.iloc[np.where(survey[(survey.Variable_name == 'Total income') & (survey.Variable_code == 'H01')])]\n",
        "\n",
        "survey[(survey['Variable_name'] == 'Total income') & (survey['Variable_code'] == 'H01')]['Year']"
      ]
    },
    {
      "cell_type": "code",
      "execution_count": null,
      "id": "50c2febc",
      "metadata": {
        "id": "50c2febc",
        "outputId": "e0d74263-44df-419c-c64f-6af55c9e998c"
      },
      "outputs": [
        {
          "data": {
            "text/html": [
              "<div>\n",
              "<style scoped>\n",
              "    .dataframe tbody tr th:only-of-type {\n",
              "        vertical-align: middle;\n",
              "    }\n",
              "\n",
              "    .dataframe tbody tr th {\n",
              "        vertical-align: top;\n",
              "    }\n",
              "\n",
              "    .dataframe thead th {\n",
              "        text-align: right;\n",
              "    }\n",
              "</style>\n",
              "<table border=\"1\" class=\"dataframe\">\n",
              "  <thead>\n",
              "    <tr style=\"text-align: right;\">\n",
              "      <th></th>\n",
              "      <th>Year</th>\n",
              "      <th>Industry_aggregation_NZSIOC</th>\n",
              "      <th>Industry_code_NZSIOC</th>\n",
              "      <th>Industry_name_NZSIOC</th>\n",
              "      <th>Units</th>\n",
              "      <th>Variable_code</th>\n",
              "      <th>Variable_name</th>\n",
              "      <th>Variable_category</th>\n",
              "      <th>Value</th>\n",
              "      <th>Industry_code_ANZSIC06</th>\n",
              "    </tr>\n",
              "  </thead>\n",
              "  <tbody>\n",
              "    <tr>\n",
              "      <th>1</th>\n",
              "      <td>2021</td>\n",
              "      <td>Level 1</td>\n",
              "      <td>99999</td>\n",
              "      <td>All industries</td>\n",
              "      <td>Dollars (millions)</td>\n",
              "      <td>H04</td>\n",
              "      <td>Sales, government funding, grants and subsidies</td>\n",
              "      <td>Financial performance</td>\n",
              "      <td>674,890</td>\n",
              "      <td>ANZSIC06 divisions A-S (excluding classes K633...</td>\n",
              "    </tr>\n",
              "    <tr>\n",
              "      <th>4</th>\n",
              "      <td>2021</td>\n",
              "      <td>Level 1</td>\n",
              "      <td>99999</td>\n",
              "      <td>All industries</td>\n",
              "      <td>Dollars (millions)</td>\n",
              "      <td>H08</td>\n",
              "      <td>Total expenditure</td>\n",
              "      <td>Financial performance</td>\n",
              "      <td>654,404</td>\n",
              "      <td>ANZSIC06 divisions A-S (excluding classes K633...</td>\n",
              "    </tr>\n",
              "    <tr>\n",
              "      <th>2</th>\n",
              "      <td>2021</td>\n",
              "      <td>Level 1</td>\n",
              "      <td>99999</td>\n",
              "      <td>All industries</td>\n",
              "      <td>Dollars (millions)</td>\n",
              "      <td>H05</td>\n",
              "      <td>Interest, dividends and donations</td>\n",
              "      <td>Financial performance</td>\n",
              "      <td>49,593</td>\n",
              "      <td>ANZSIC06 divisions A-S (excluding classes K633...</td>\n",
              "    </tr>\n",
              "    <tr>\n",
              "      <th>1000</th>\n",
              "      <td>2021</td>\n",
              "      <td>Level 4</td>\n",
              "      <td>CC521</td>\n",
              "      <td>Basic Chemical and Basic Polymer Manufacturing</td>\n",
              "      <td>Dollars (millions)</td>\n",
              "      <td>H05</td>\n",
              "      <td>Interest, dividends and donations</td>\n",
              "      <td>Financial performance</td>\n",
              "      <td>C</td>\n",
              "      <td>ANZSIC06 groups C181 and C182</td>\n",
              "    </tr>\n",
              "  </tbody>\n",
              "</table>\n",
              "</div>"
            ],
            "text/plain": [
              "      Year Industry_aggregation_NZSIOC Industry_code_NZSIOC  \\\n",
              "1     2021                     Level 1                99999   \n",
              "4     2021                     Level 1                99999   \n",
              "2     2021                     Level 1                99999   \n",
              "1000  2021                     Level 4                CC521   \n",
              "\n",
              "                                Industry_name_NZSIOC               Units  \\\n",
              "1                                     All industries  Dollars (millions)   \n",
              "4                                     All industries  Dollars (millions)   \n",
              "2                                     All industries  Dollars (millions)   \n",
              "1000  Basic Chemical and Basic Polymer Manufacturing  Dollars (millions)   \n",
              "\n",
              "     Variable_code                                    Variable_name  \\\n",
              "1              H04  Sales, government funding, grants and subsidies   \n",
              "4              H08                                Total expenditure   \n",
              "2              H05                Interest, dividends and donations   \n",
              "1000           H05                Interest, dividends and donations   \n",
              "\n",
              "          Variable_category    Value  \\\n",
              "1     Financial performance  674,890   \n",
              "4     Financial performance  654,404   \n",
              "2     Financial performance   49,593   \n",
              "1000  Financial performance        C   \n",
              "\n",
              "                                 Industry_code_ANZSIC06  \n",
              "1     ANZSIC06 divisions A-S (excluding classes K633...  \n",
              "4     ANZSIC06 divisions A-S (excluding classes K633...  \n",
              "2     ANZSIC06 divisions A-S (excluding classes K633...  \n",
              "1000                      ANZSIC06 groups C181 and C182  "
            ]
          },
          "execution_count": 47,
          "metadata": {},
          "output_type": "execute_result"
        }
      ],
      "source": [
        "# iloc method (gives index details)\n",
        "survey.iloc[[1,4,2,1000]]"
      ]
    },
    {
      "cell_type": "code",
      "execution_count": null,
      "id": "fc5d7bbc",
      "metadata": {
        "id": "fc5d7bbc"
      },
      "outputs": [],
      "source": [
        "# Adding a new column to the survey dataset\n",
        "survey['New_col'] = 'Hari'"
      ]
    },
    {
      "cell_type": "code",
      "execution_count": null,
      "id": "923509d7",
      "metadata": {
        "id": "923509d7",
        "outputId": "7e65a8cd-9f2a-4a52-ea28-855fc463ff85"
      },
      "outputs": [
        {
          "data": {
            "text/html": [
              "<div>\n",
              "<style scoped>\n",
              "    .dataframe tbody tr th:only-of-type {\n",
              "        vertical-align: middle;\n",
              "    }\n",
              "\n",
              "    .dataframe tbody tr th {\n",
              "        vertical-align: top;\n",
              "    }\n",
              "\n",
              "    .dataframe thead th {\n",
              "        text-align: right;\n",
              "    }\n",
              "</style>\n",
              "<table border=\"1\" class=\"dataframe\">\n",
              "  <thead>\n",
              "    <tr style=\"text-align: right;\">\n",
              "      <th></th>\n",
              "      <th>Year</th>\n",
              "      <th>Industry_aggregation_NZSIOC</th>\n",
              "      <th>Industry_code_NZSIOC</th>\n",
              "      <th>Industry_name_NZSIOC</th>\n",
              "      <th>Units</th>\n",
              "      <th>Variable_code</th>\n",
              "      <th>Variable_name</th>\n",
              "      <th>Variable_category</th>\n",
              "      <th>Value</th>\n",
              "      <th>Industry_code_ANZSIC06</th>\n",
              "      <th>New_col</th>\n",
              "    </tr>\n",
              "  </thead>\n",
              "  <tbody>\n",
              "    <tr>\n",
              "      <th>0</th>\n",
              "      <td>2021</td>\n",
              "      <td>Level 1</td>\n",
              "      <td>99999</td>\n",
              "      <td>All industries</td>\n",
              "      <td>Dollars (millions)</td>\n",
              "      <td>H01</td>\n",
              "      <td>Total income</td>\n",
              "      <td>Financial performance</td>\n",
              "      <td>757,504</td>\n",
              "      <td>ANZSIC06 divisions A-S (excluding classes K633...</td>\n",
              "      <td>Hari</td>\n",
              "    </tr>\n",
              "    <tr>\n",
              "      <th>1</th>\n",
              "      <td>2021</td>\n",
              "      <td>Level 1</td>\n",
              "      <td>99999</td>\n",
              "      <td>All industries</td>\n",
              "      <td>Dollars (millions)</td>\n",
              "      <td>H04</td>\n",
              "      <td>Sales, government funding, grants and subsidies</td>\n",
              "      <td>Financial performance</td>\n",
              "      <td>674,890</td>\n",
              "      <td>ANZSIC06 divisions A-S (excluding classes K633...</td>\n",
              "      <td>Hari</td>\n",
              "    </tr>\n",
              "    <tr>\n",
              "      <th>2</th>\n",
              "      <td>2021</td>\n",
              "      <td>Level 1</td>\n",
              "      <td>99999</td>\n",
              "      <td>All industries</td>\n",
              "      <td>Dollars (millions)</td>\n",
              "      <td>H05</td>\n",
              "      <td>Interest, dividends and donations</td>\n",
              "      <td>Financial performance</td>\n",
              "      <td>49,593</td>\n",
              "      <td>ANZSIC06 divisions A-S (excluding classes K633...</td>\n",
              "      <td>Hari</td>\n",
              "    </tr>\n",
              "    <tr>\n",
              "      <th>3</th>\n",
              "      <td>2021</td>\n",
              "      <td>Level 1</td>\n",
              "      <td>99999</td>\n",
              "      <td>All industries</td>\n",
              "      <td>Dollars (millions)</td>\n",
              "      <td>H07</td>\n",
              "      <td>Non-operating income</td>\n",
              "      <td>Financial performance</td>\n",
              "      <td>33,020</td>\n",
              "      <td>ANZSIC06 divisions A-S (excluding classes K633...</td>\n",
              "      <td>Hari</td>\n",
              "    </tr>\n",
              "    <tr>\n",
              "      <th>4</th>\n",
              "      <td>2021</td>\n",
              "      <td>Level 1</td>\n",
              "      <td>99999</td>\n",
              "      <td>All industries</td>\n",
              "      <td>Dollars (millions)</td>\n",
              "      <td>H08</td>\n",
              "      <td>Total expenditure</td>\n",
              "      <td>Financial performance</td>\n",
              "      <td>654,404</td>\n",
              "      <td>ANZSIC06 divisions A-S (excluding classes K633...</td>\n",
              "      <td>Hari</td>\n",
              "    </tr>\n",
              "  </tbody>\n",
              "</table>\n",
              "</div>"
            ],
            "text/plain": [
              "   Year Industry_aggregation_NZSIOC Industry_code_NZSIOC Industry_name_NZSIOC  \\\n",
              "0  2021                     Level 1                99999       All industries   \n",
              "1  2021                     Level 1                99999       All industries   \n",
              "2  2021                     Level 1                99999       All industries   \n",
              "3  2021                     Level 1                99999       All industries   \n",
              "4  2021                     Level 1                99999       All industries   \n",
              "\n",
              "                Units Variable_code  \\\n",
              "0  Dollars (millions)           H01   \n",
              "1  Dollars (millions)           H04   \n",
              "2  Dollars (millions)           H05   \n",
              "3  Dollars (millions)           H07   \n",
              "4  Dollars (millions)           H08   \n",
              "\n",
              "                                     Variable_name      Variable_category  \\\n",
              "0                                     Total income  Financial performance   \n",
              "1  Sales, government funding, grants and subsidies  Financial performance   \n",
              "2                Interest, dividends and donations  Financial performance   \n",
              "3                             Non-operating income  Financial performance   \n",
              "4                                Total expenditure  Financial performance   \n",
              "\n",
              "     Value                             Industry_code_ANZSIC06 New_col  \n",
              "0  757,504  ANZSIC06 divisions A-S (excluding classes K633...    Hari  \n",
              "1  674,890  ANZSIC06 divisions A-S (excluding classes K633...    Hari  \n",
              "2   49,593  ANZSIC06 divisions A-S (excluding classes K633...    Hari  \n",
              "3   33,020  ANZSIC06 divisions A-S (excluding classes K633...    Hari  \n",
              "4  654,404  ANZSIC06 divisions A-S (excluding classes K633...    Hari  "
            ]
          },
          "execution_count": 67,
          "metadata": {},
          "output_type": "execute_result"
        }
      ],
      "source": [
        "survey.head()"
      ]
    },
    {
      "cell_type": "code",
      "execution_count": null,
      "id": "0efa0c31",
      "metadata": {
        "id": "0efa0c31",
        "outputId": "cf2477b4-2a66-4f89-950b-e58d1482b3c7"
      },
      "outputs": [
        {
          "name": "stdout",
          "output_type": "stream",
          "text": [
            "0    1\n",
            "1    2\n",
            "2    3\n",
            "3    4\n",
            "4    5\n",
            "dtype: int64\n"
          ]
        }
      ],
      "source": [
        "# Converting list to series\n",
        "l = [1,2,3,4,5]\n",
        "cvt = pd.Series(l)\n",
        "print(cvt)"
      ]
    },
    {
      "cell_type": "code",
      "execution_count": null,
      "id": "d47a967b",
      "metadata": {
        "id": "d47a967b",
        "outputId": "81be2ee8-b808-4c01-df6e-10c06d802150"
      },
      "outputs": [
        {
          "data": {
            "text/html": [
              "<div>\n",
              "<style scoped>\n",
              "    .dataframe tbody tr th:only-of-type {\n",
              "        vertical-align: middle;\n",
              "    }\n",
              "\n",
              "    .dataframe tbody tr th {\n",
              "        vertical-align: top;\n",
              "    }\n",
              "\n",
              "    .dataframe thead th {\n",
              "        text-align: right;\n",
              "    }\n",
              "</style>\n",
              "<table border=\"1\" class=\"dataframe\">\n",
              "  <thead>\n",
              "    <tr style=\"text-align: right;\">\n",
              "      <th></th>\n",
              "      <th>1</th>\n",
              "      <th>2</th>\n",
              "      <th>3</th>\n",
              "      <th>4</th>\n",
              "    </tr>\n",
              "  </thead>\n",
              "  <tbody>\n",
              "    <tr>\n",
              "      <th>1</th>\n",
              "      <td>Hari</td>\n",
              "      <td>Siva</td>\n",
              "      <td>Raj</td>\n",
              "      <td>Dinesh</td>\n",
              "    </tr>\n",
              "    <tr>\n",
              "      <th>2</th>\n",
              "      <td>Hari</td>\n",
              "      <td>Siva</td>\n",
              "      <td>Raj</td>\n",
              "      <td>Dinesh</td>\n",
              "    </tr>\n",
              "    <tr>\n",
              "      <th>3</th>\n",
              "      <td>Hari</td>\n",
              "      <td>Siva</td>\n",
              "      <td>Raj</td>\n",
              "      <td>Dinesh</td>\n",
              "    </tr>\n",
              "    <tr>\n",
              "      <th>4</th>\n",
              "      <td>Hari</td>\n",
              "      <td>Siva</td>\n",
              "      <td>Raj</td>\n",
              "      <td>Dinesh</td>\n",
              "    </tr>\n",
              "  </tbody>\n",
              "</table>\n",
              "</div>"
            ],
            "text/plain": [
              "      1     2    3       4\n",
              "1  Hari  Siva  Raj  Dinesh\n",
              "2  Hari  Siva  Raj  Dinesh\n",
              "3  Hari  Siva  Raj  Dinesh\n",
              "4  Hari  Siva  Raj  Dinesh"
            ]
          },
          "execution_count": 71,
          "metadata": {},
          "output_type": "execute_result"
        }
      ],
      "source": [
        "# Converting dictionary into a dataframe\n",
        "d = {'1':\"Hari\",'2':'Siva','3':'Raj','4':'Dinesh'}\n",
        "cvt1 = pd.DataFrame(d, index = d.keys())\n",
        "cvt1"
      ]
    },
    {
      "cell_type": "code",
      "execution_count": null,
      "id": "a0276617",
      "metadata": {
        "id": "a0276617"
      },
      "outputs": [],
      "source": [
        "# Creating a random dataframe using np.random method\n",
        "\n",
        "df1 = pd.DataFrame(np.random.randint(1,10,(5,5)),index=['a','b','c','d','e'],columns=['x','y','z','z1','z2'])"
      ]
    },
    {
      "cell_type": "code",
      "execution_count": null,
      "id": "d6e82579",
      "metadata": {
        "id": "d6e82579",
        "outputId": "a48ee608-88bd-481a-d9b2-c57d1f45f078"
      },
      "outputs": [
        {
          "data": {
            "text/html": [
              "<div>\n",
              "<style scoped>\n",
              "    .dataframe tbody tr th:only-of-type {\n",
              "        vertical-align: middle;\n",
              "    }\n",
              "\n",
              "    .dataframe tbody tr th {\n",
              "        vertical-align: top;\n",
              "    }\n",
              "\n",
              "    .dataframe thead th {\n",
              "        text-align: right;\n",
              "    }\n",
              "</style>\n",
              "<table border=\"1\" class=\"dataframe\">\n",
              "  <thead>\n",
              "    <tr style=\"text-align: right;\">\n",
              "      <th></th>\n",
              "      <th>x</th>\n",
              "      <th>y</th>\n",
              "      <th>z</th>\n",
              "      <th>z1</th>\n",
              "      <th>z2</th>\n",
              "    </tr>\n",
              "  </thead>\n",
              "  <tbody>\n",
              "    <tr>\n",
              "      <th>a</th>\n",
              "      <td>1</td>\n",
              "      <td>9</td>\n",
              "      <td>6</td>\n",
              "      <td>5</td>\n",
              "      <td>6</td>\n",
              "    </tr>\n",
              "    <tr>\n",
              "      <th>b</th>\n",
              "      <td>8</td>\n",
              "      <td>2</td>\n",
              "      <td>3</td>\n",
              "      <td>3</td>\n",
              "      <td>1</td>\n",
              "    </tr>\n",
              "    <tr>\n",
              "      <th>c</th>\n",
              "      <td>8</td>\n",
              "      <td>4</td>\n",
              "      <td>3</td>\n",
              "      <td>9</td>\n",
              "      <td>9</td>\n",
              "    </tr>\n",
              "    <tr>\n",
              "      <th>d</th>\n",
              "      <td>3</td>\n",
              "      <td>1</td>\n",
              "      <td>5</td>\n",
              "      <td>8</td>\n",
              "      <td>7</td>\n",
              "    </tr>\n",
              "    <tr>\n",
              "      <th>e</th>\n",
              "      <td>9</td>\n",
              "      <td>4</td>\n",
              "      <td>4</td>\n",
              "      <td>8</td>\n",
              "      <td>4</td>\n",
              "    </tr>\n",
              "  </tbody>\n",
              "</table>\n",
              "</div>"
            ],
            "text/plain": [
              "   x  y  z  z1  z2\n",
              "a  1  9  6   5   6\n",
              "b  8  2  3   3   1\n",
              "c  8  4  3   9   9\n",
              "d  3  1  5   8   7\n",
              "e  9  4  4   8   4"
            ]
          },
          "execution_count": 6,
          "metadata": {},
          "output_type": "execute_result"
        }
      ],
      "source": [
        "df1"
      ]
    },
    {
      "cell_type": "code",
      "execution_count": null,
      "id": "62b2a8da",
      "metadata": {
        "id": "62b2a8da",
        "outputId": "3ff7f02a-62f5-4d3d-8b1e-b74eeb6d5e69"
      },
      "outputs": [
        {
          "data": {
            "text/html": [
              "<div>\n",
              "<style scoped>\n",
              "    .dataframe tbody tr th:only-of-type {\n",
              "        vertical-align: middle;\n",
              "    }\n",
              "\n",
              "    .dataframe tbody tr th {\n",
              "        vertical-align: top;\n",
              "    }\n",
              "\n",
              "    .dataframe thead th {\n",
              "        text-align: right;\n",
              "    }\n",
              "</style>\n",
              "<table border=\"1\" class=\"dataframe\">\n",
              "  <thead>\n",
              "    <tr style=\"text-align: right;\">\n",
              "      <th></th>\n",
              "      <th>z</th>\n",
              "      <th>z1</th>\n",
              "    </tr>\n",
              "  </thead>\n",
              "  <tbody>\n",
              "    <tr>\n",
              "      <th>c</th>\n",
              "      <td>3</td>\n",
              "      <td>9</td>\n",
              "    </tr>\n",
              "    <tr>\n",
              "      <th>d</th>\n",
              "      <td>5</td>\n",
              "      <td>8</td>\n",
              "    </tr>\n",
              "  </tbody>\n",
              "</table>\n",
              "</div>"
            ],
            "text/plain": [
              "   z  z1\n",
              "c  3   9\n",
              "d  5   8"
            ]
          },
          "execution_count": 12,
          "metadata": {},
          "output_type": "execute_result"
        }
      ],
      "source": [
        "df1.loc[\"c\":\"d\",\"z\":\"z1\"]"
      ]
    },
    {
      "cell_type": "code",
      "execution_count": null,
      "id": "7ff5dc11",
      "metadata": {
        "id": "7ff5dc11",
        "outputId": "76f16133-011a-470b-df0a-b101220f93f0"
      },
      "outputs": [
        {
          "data": {
            "text/html": [
              "<div>\n",
              "<style scoped>\n",
              "    .dataframe tbody tr th:only-of-type {\n",
              "        vertical-align: middle;\n",
              "    }\n",
              "\n",
              "    .dataframe tbody tr th {\n",
              "        vertical-align: top;\n",
              "    }\n",
              "\n",
              "    .dataframe thead th {\n",
              "        text-align: right;\n",
              "    }\n",
              "</style>\n",
              "<table border=\"1\" class=\"dataframe\">\n",
              "  <thead>\n",
              "    <tr style=\"text-align: right;\">\n",
              "      <th></th>\n",
              "      <th>x</th>\n",
              "      <th>y</th>\n",
              "      <th>z</th>\n",
              "      <th>z1</th>\n",
              "      <th>z2</th>\n",
              "      <th>New</th>\n",
              "    </tr>\n",
              "  </thead>\n",
              "  <tbody>\n",
              "    <tr>\n",
              "      <th>a</th>\n",
              "      <td>1</td>\n",
              "      <td>9</td>\n",
              "      <td>6</td>\n",
              "      <td>5</td>\n",
              "      <td>6</td>\n",
              "      <td>10</td>\n",
              "    </tr>\n",
              "    <tr>\n",
              "      <th>b</th>\n",
              "      <td>8</td>\n",
              "      <td>2</td>\n",
              "      <td>3</td>\n",
              "      <td>3</td>\n",
              "      <td>1</td>\n",
              "      <td>10</td>\n",
              "    </tr>\n",
              "    <tr>\n",
              "      <th>c</th>\n",
              "      <td>8</td>\n",
              "      <td>4</td>\n",
              "      <td>3</td>\n",
              "      <td>9</td>\n",
              "      <td>9</td>\n",
              "      <td>12</td>\n",
              "    </tr>\n",
              "    <tr>\n",
              "      <th>d</th>\n",
              "      <td>3</td>\n",
              "      <td>1</td>\n",
              "      <td>5</td>\n",
              "      <td>8</td>\n",
              "      <td>7</td>\n",
              "      <td>4</td>\n",
              "    </tr>\n",
              "    <tr>\n",
              "      <th>e</th>\n",
              "      <td>9</td>\n",
              "      <td>4</td>\n",
              "      <td>4</td>\n",
              "      <td>8</td>\n",
              "      <td>4</td>\n",
              "      <td>13</td>\n",
              "    </tr>\n",
              "  </tbody>\n",
              "</table>\n",
              "</div>"
            ],
            "text/plain": [
              "   x  y  z  z1  z2  New\n",
              "a  1  9  6   5   6   10\n",
              "b  8  2  3   3   1   10\n",
              "c  8  4  3   9   9   12\n",
              "d  3  1  5   8   7    4\n",
              "e  9  4  4   8   4   13"
            ]
          },
          "execution_count": 13,
          "metadata": {},
          "output_type": "execute_result"
        }
      ],
      "source": [
        "# Creating a new column\n",
        "df1['New'] = df1['x'] + df1['y']\n",
        "df1"
      ]
    },
    {
      "cell_type": "code",
      "execution_count": null,
      "id": "5dbe0121",
      "metadata": {
        "id": "5dbe0121",
        "outputId": "9cb159ba-99fb-46c8-cea2-eb55e0c8c506"
      },
      "outputs": [
        {
          "data": {
            "text/html": [
              "<div>\n",
              "<style scoped>\n",
              "    .dataframe tbody tr th:only-of-type {\n",
              "        vertical-align: middle;\n",
              "    }\n",
              "\n",
              "    .dataframe tbody tr th {\n",
              "        vertical-align: top;\n",
              "    }\n",
              "\n",
              "    .dataframe thead th {\n",
              "        text-align: right;\n",
              "    }\n",
              "</style>\n",
              "<table border=\"1\" class=\"dataframe\">\n",
              "  <thead>\n",
              "    <tr style=\"text-align: right;\">\n",
              "      <th></th>\n",
              "      <th>y</th>\n",
              "      <th>z</th>\n",
              "      <th>z1</th>\n",
              "      <th>z2</th>\n",
              "      <th>New</th>\n",
              "    </tr>\n",
              "  </thead>\n",
              "  <tbody>\n",
              "    <tr>\n",
              "      <th>a</th>\n",
              "      <td>9</td>\n",
              "      <td>6</td>\n",
              "      <td>5</td>\n",
              "      <td>6</td>\n",
              "      <td>10</td>\n",
              "    </tr>\n",
              "    <tr>\n",
              "      <th>b</th>\n",
              "      <td>2</td>\n",
              "      <td>3</td>\n",
              "      <td>3</td>\n",
              "      <td>1</td>\n",
              "      <td>10</td>\n",
              "    </tr>\n",
              "    <tr>\n",
              "      <th>c</th>\n",
              "      <td>4</td>\n",
              "      <td>3</td>\n",
              "      <td>9</td>\n",
              "      <td>9</td>\n",
              "      <td>12</td>\n",
              "    </tr>\n",
              "    <tr>\n",
              "      <th>d</th>\n",
              "      <td>1</td>\n",
              "      <td>5</td>\n",
              "      <td>8</td>\n",
              "      <td>7</td>\n",
              "      <td>4</td>\n",
              "    </tr>\n",
              "    <tr>\n",
              "      <th>e</th>\n",
              "      <td>4</td>\n",
              "      <td>4</td>\n",
              "      <td>8</td>\n",
              "      <td>4</td>\n",
              "      <td>13</td>\n",
              "    </tr>\n",
              "  </tbody>\n",
              "</table>\n",
              "</div>"
            ],
            "text/plain": [
              "   y  z  z1  z2  New\n",
              "a  9  6   5   6   10\n",
              "b  2  3   3   1   10\n",
              "c  4  3   9   9   12\n",
              "d  1  5   8   7    4\n",
              "e  4  4   8   4   13"
            ]
          },
          "execution_count": 18,
          "metadata": {},
          "output_type": "execute_result"
        }
      ],
      "source": [
        "# Dropping a column\n",
        "df1.drop('x',axis = 1)"
      ]
    },
    {
      "cell_type": "code",
      "execution_count": null,
      "id": "b5410626",
      "metadata": {
        "id": "b5410626",
        "outputId": "5c699153-f976-4972-bda3-da484b2e48ce"
      },
      "outputs": [
        {
          "data": {
            "text/html": [
              "<div>\n",
              "<style scoped>\n",
              "    .dataframe tbody tr th:only-of-type {\n",
              "        vertical-align: middle;\n",
              "    }\n",
              "\n",
              "    .dataframe tbody tr th {\n",
              "        vertical-align: top;\n",
              "    }\n",
              "\n",
              "    .dataframe thead th {\n",
              "        text-align: right;\n",
              "    }\n",
              "</style>\n",
              "<table border=\"1\" class=\"dataframe\">\n",
              "  <thead>\n",
              "    <tr style=\"text-align: right;\">\n",
              "      <th></th>\n",
              "      <th>x</th>\n",
              "      <th>y</th>\n",
              "      <th>z</th>\n",
              "      <th>z1</th>\n",
              "      <th>z2</th>\n",
              "      <th>New</th>\n",
              "    </tr>\n",
              "  </thead>\n",
              "  <tbody>\n",
              "    <tr>\n",
              "      <th>a</th>\n",
              "      <td>1</td>\n",
              "      <td>9</td>\n",
              "      <td>6</td>\n",
              "      <td>5</td>\n",
              "      <td>6</td>\n",
              "      <td>10</td>\n",
              "    </tr>\n",
              "    <tr>\n",
              "      <th>b</th>\n",
              "      <td>8</td>\n",
              "      <td>2</td>\n",
              "      <td>3</td>\n",
              "      <td>3</td>\n",
              "      <td>1</td>\n",
              "      <td>10</td>\n",
              "    </tr>\n",
              "    <tr>\n",
              "      <th>c</th>\n",
              "      <td>8</td>\n",
              "      <td>4</td>\n",
              "      <td>3</td>\n",
              "      <td>9</td>\n",
              "      <td>9</td>\n",
              "      <td>12</td>\n",
              "    </tr>\n",
              "    <tr>\n",
              "      <th>d</th>\n",
              "      <td>3</td>\n",
              "      <td>1</td>\n",
              "      <td>5</td>\n",
              "      <td>8</td>\n",
              "      <td>7</td>\n",
              "      <td>4</td>\n",
              "    </tr>\n",
              "    <tr>\n",
              "      <th>e</th>\n",
              "      <td>9</td>\n",
              "      <td>4</td>\n",
              "      <td>4</td>\n",
              "      <td>8</td>\n",
              "      <td>4</td>\n",
              "      <td>13</td>\n",
              "    </tr>\n",
              "  </tbody>\n",
              "</table>\n",
              "</div>"
            ],
            "text/plain": [
              "   x  y  z  z1  z2  New\n",
              "a  1  9  6   5   6   10\n",
              "b  8  2  3   3   1   10\n",
              "c  8  4  3   9   9   12\n",
              "d  3  1  5   8   7    4\n",
              "e  9  4  4   8   4   13"
            ]
          },
          "execution_count": 19,
          "metadata": {},
          "output_type": "execute_result"
        }
      ],
      "source": [
        "# But when we see the output, it's not dropped (it's just temporary)\n",
        "df1"
      ]
    },
    {
      "cell_type": "code",
      "execution_count": null,
      "id": "57941b32",
      "metadata": {
        "id": "57941b32"
      },
      "outputs": [],
      "source": [
        "# using the seed function to keep it as a constant\n",
        "np.random.seed(23)\n",
        "df2 = pd.DataFrame(np.random.randn(4,5),index=['a','b','c','d'],columns=['x','y','z','z1','z2'])"
      ]
    },
    {
      "cell_type": "code",
      "execution_count": null,
      "id": "8201d166",
      "metadata": {
        "id": "8201d166",
        "outputId": "d7b5982c-892b-4ac0-d2a4-240a3f8aabd9"
      },
      "outputs": [
        {
          "data": {
            "text/html": [
              "<div>\n",
              "<style scoped>\n",
              "    .dataframe tbody tr th:only-of-type {\n",
              "        vertical-align: middle;\n",
              "    }\n",
              "\n",
              "    .dataframe tbody tr th {\n",
              "        vertical-align: top;\n",
              "    }\n",
              "\n",
              "    .dataframe thead th {\n",
              "        text-align: right;\n",
              "    }\n",
              "</style>\n",
              "<table border=\"1\" class=\"dataframe\">\n",
              "  <thead>\n",
              "    <tr style=\"text-align: right;\">\n",
              "      <th></th>\n",
              "      <th>x</th>\n",
              "      <th>y</th>\n",
              "      <th>z</th>\n",
              "      <th>z1</th>\n",
              "      <th>z2</th>\n",
              "    </tr>\n",
              "  </thead>\n",
              "  <tbody>\n",
              "    <tr>\n",
              "      <th>a</th>\n",
              "      <td>0.666988</td>\n",
              "      <td>0.025813</td>\n",
              "      <td>-0.777619</td>\n",
              "      <td>0.948634</td>\n",
              "      <td>0.701672</td>\n",
              "    </tr>\n",
              "    <tr>\n",
              "      <th>b</th>\n",
              "      <td>-1.051082</td>\n",
              "      <td>-0.367548</td>\n",
              "      <td>-1.137460</td>\n",
              "      <td>-1.322148</td>\n",
              "      <td>1.772258</td>\n",
              "    </tr>\n",
              "    <tr>\n",
              "      <th>c</th>\n",
              "      <td>-0.347459</td>\n",
              "      <td>0.670140</td>\n",
              "      <td>0.322272</td>\n",
              "      <td>0.060343</td>\n",
              "      <td>-1.043450</td>\n",
              "    </tr>\n",
              "    <tr>\n",
              "      <th>d</th>\n",
              "      <td>-1.009942</td>\n",
              "      <td>0.441736</td>\n",
              "      <td>1.128877</td>\n",
              "      <td>-1.838068</td>\n",
              "      <td>-0.938769</td>\n",
              "    </tr>\n",
              "  </tbody>\n",
              "</table>\n",
              "</div>"
            ],
            "text/plain": [
              "          x         y         z        z1        z2\n",
              "a  0.666988  0.025813 -0.777619  0.948634  0.701672\n",
              "b -1.051082 -0.367548 -1.137460 -1.322148  1.772258\n",
              "c -0.347459  0.670140  0.322272  0.060343 -1.043450\n",
              "d -1.009942  0.441736  1.128877 -1.838068 -0.938769"
            ]
          },
          "execution_count": 26,
          "metadata": {},
          "output_type": "execute_result"
        }
      ],
      "source": [
        "df2"
      ]
    },
    {
      "cell_type": "code",
      "execution_count": null,
      "id": "8d4518e8",
      "metadata": {
        "id": "8d4518e8",
        "outputId": "3f1018b3-f91f-4c17-bbd5-52f7c682c4e0"
      },
      "outputs": [
        {
          "data": {
            "text/plain": [
              "array([-0.77761941, -1.05108156, -0.36754812, -1.13745969, -1.32214752,\n",
              "       -0.34745899, -1.04345   , -1.00994188, -1.83806777, -0.93876863])"
            ]
          },
          "execution_count": 36,
          "metadata": {},
          "output_type": "execute_result"
        }
      ],
      "source": [
        "# Get only the negative values from the above dataframe\n",
        "df2.values[df2.values < 0]"
      ]
    },
    {
      "cell_type": "code",
      "execution_count": null,
      "id": "759099b9",
      "metadata": {
        "id": "759099b9",
        "outputId": "2a3adb75-9e71-4f9a-d204-088ed685a549"
      },
      "outputs": [
        {
          "name": "stdout",
          "output_type": "stream",
          "text": [
            "a z -0.7776194131918178\n",
            "b x -1.0510815639071178\n",
            "b y -0.3675481161171661\n",
            "b z -1.1374596907250272\n",
            "b z1 -1.3221475225908594\n",
            "c x -0.34745899102186334\n",
            "c z2 -1.0434500017467254\n",
            "d x -1.0099418765878465\n",
            "d z1 -1.8380677677579502\n",
            "d z2 -0.9387686311201282\n"
          ]
        }
      ],
      "source": [
        "# Getting the respective rows and column names\n",
        "res = df2.values[df2.values < 0]\n",
        "for rows in df2.index:\n",
        "    for columns in df2.columns:\n",
        "        if df2.loc[rows,columns] in res:\n",
        "            print(rows,columns,df2.loc[rows,columns])"
      ]
    },
    {
      "cell_type": "markdown",
      "id": "2a71dd34",
      "metadata": {
        "id": "2a71dd34"
      },
      "source": [
        "### Pandas series"
      ]
    },
    {
      "cell_type": "code",
      "execution_count": null,
      "id": "aae49802",
      "metadata": {
        "id": "aae49802",
        "outputId": "e1bfc4fb-0fb9-4ada-e5e6-6e3f3acdf388"
      },
      "outputs": [
        {
          "data": {
            "text/plain": [
              "Hari        1\n",
              "Haran       2\n",
              "Rocky       3\n",
              "Jacky       4\n",
              "Stuart      5\n",
              "John        6\n",
              "Kate        7\n",
              "William     8\n",
              "richard     9\n",
              "Pluto      10\n",
              "dtype: int64"
            ]
          },
          "execution_count": 53,
          "metadata": {},
          "output_type": "execute_result"
        }
      ],
      "source": [
        "mydata = list(range(1,11))\n",
        "myindex = [\"Hari\",\"Haran\",\"Rocky\",\"Jacky\",\"Stuart\",\"John\",\"Kate\",\"William\",\"richard\",\"Pluto\"]\n",
        "ser1 = pd.Series(mydata,myindex)\n",
        "ser1"
      ]
    },
    {
      "cell_type": "code",
      "execution_count": null,
      "id": "ded2b6e8",
      "metadata": {
        "id": "ded2b6e8",
        "outputId": "40700d34-cb50-4a1b-b498-7aadbbae7062"
      },
      "outputs": [
        {
          "data": {
            "text/plain": [
              "1"
            ]
          },
          "execution_count": 54,
          "metadata": {},
          "output_type": "execute_result"
        }
      ],
      "source": [
        "# Accessing the data of Series using index (Normal python index)\n",
        "ser1[0]"
      ]
    },
    {
      "cell_type": "code",
      "execution_count": null,
      "id": "212d5420",
      "metadata": {
        "id": "212d5420",
        "outputId": "a62aa787-558a-442e-bea1-50bca9c4f40e"
      },
      "outputs": [
        {
          "data": {
            "text/plain": [
              "1"
            ]
          },
          "execution_count": 55,
          "metadata": {},
          "output_type": "execute_result"
        }
      ],
      "source": [
        "# Accessing the data of Series using labelled index (Preferable)\n",
        "ser1['Hari']"
      ]
    },
    {
      "cell_type": "markdown",
      "id": "d56d7839",
      "metadata": {
        "id": "d56d7839"
      },
      "source": [
        "In the above statements both gives the same result"
      ]
    },
    {
      "cell_type": "code",
      "execution_count": null,
      "id": "ad33b029",
      "metadata": {
        "id": "ad33b029"
      },
      "outputs": [],
      "source": [
        "# Giving the Series using dictionary\n",
        "dict1 = {'Laptop':1,\"Computer\":2,\"Keyboard\":3,\"Mobile\":4}"
      ]
    },
    {
      "cell_type": "markdown",
      "id": "0a8b3983",
      "metadata": {
        "id": "0a8b3983"
      },
      "source": [
        "### Smartness\n",
        "Pandas series is smart enough to split dictionary into key and value pairs"
      ]
    },
    {
      "cell_type": "code",
      "execution_count": null,
      "id": "5b1d0dc2",
      "metadata": {
        "id": "5b1d0dc2",
        "outputId": "ca53f6d3-d78d-4d33-f5cf-4f3217b2beda"
      },
      "outputs": [
        {
          "name": "stdout",
          "output_type": "stream",
          "text": [
            "Laptop      1\n",
            "Computer    2\n",
            "Keyboard    3\n",
            "Mobile      4\n",
            "dtype: int64\n",
            "\n",
            "\n",
            "Index(['Laptop', 'Computer', 'Keyboard', 'Mobile'], dtype='object')\n",
            "\n",
            "\n",
            "[1 2 3 4]\n"
          ]
        }
      ],
      "source": [
        "ser2 = pd.Series(dict1)\n",
        "print(ser2)\n",
        "print('\\n')\n",
        "print(ser2.keys())\n",
        "print('\\n')\n",
        "print(ser2.values)"
      ]
    },
    {
      "cell_type": "code",
      "execution_count": null,
      "id": "f2280405",
      "metadata": {
        "id": "f2280405"
      },
      "outputs": [],
      "source": [
        "# Creating two dictionary\n",
        "d1 = {\"India\":1,\"Pakistan\":2,\"China\":3,\"Japan\":4}\n",
        "d2 = {\"Brazil\":5,\"USA\":6,\"UK\":7,\"Sweden\":8}"
      ]
    },
    {
      "cell_type": "code",
      "execution_count": null,
      "id": "32afd784",
      "metadata": {
        "id": "32afd784"
      },
      "outputs": [],
      "source": [
        "sales_q1 = pd.Series(d1)\n",
        "sales_q2 = pd.Series(d2)"
      ]
    },
    {
      "cell_type": "code",
      "execution_count": null,
      "id": "cce04f8e",
      "metadata": {
        "id": "cce04f8e",
        "outputId": "611db639-57cb-4ee2-ccba-dbf14b6ab627"
      },
      "outputs": [
        {
          "data": {
            "text/plain": [
              "India       1\n",
              "Pakistan    2\n",
              "China       3\n",
              "Japan       4\n",
              "dtype: int64"
            ]
          },
          "execution_count": 70,
          "metadata": {},
          "output_type": "execute_result"
        }
      ],
      "source": [
        "sales_q1"
      ]
    },
    {
      "cell_type": "code",
      "execution_count": null,
      "id": "e3981cce",
      "metadata": {
        "id": "e3981cce",
        "outputId": "e3bc2499-5dfe-43e4-a1c1-fa1c49cdb17d"
      },
      "outputs": [
        {
          "data": {
            "text/plain": [
              "Brazil    5\n",
              "USA       6\n",
              "UK        7\n",
              "Sweden    8\n",
              "dtype: int64"
            ]
          },
          "execution_count": 71,
          "metadata": {},
          "output_type": "execute_result"
        }
      ],
      "source": [
        "sales_q2"
      ]
    },
    {
      "cell_type": "code",
      "execution_count": null,
      "id": "dcb63b52",
      "metadata": {
        "id": "dcb63b52",
        "outputId": "57558355-32a9-44df-aa5e-4c2c64f4afb1"
      },
      "outputs": [
        {
          "data": {
            "text/plain": [
              "Index(['India', 'Pakistan', 'China', 'Japan'], dtype='object')"
            ]
          },
          "execution_count": 72,
          "metadata": {},
          "output_type": "execute_result"
        }
      ],
      "source": [
        "sales_q1.keys()"
      ]
    },
    {
      "cell_type": "code",
      "execution_count": null,
      "id": "b032e813",
      "metadata": {
        "id": "b032e813",
        "outputId": "6e86d593-5854-4e1d-91d1-2f4398bc30c4"
      },
      "outputs": [
        {
          "data": {
            "text/plain": [
              "array([1, 2, 3, 4], dtype=int64)"
            ]
          },
          "execution_count": 74,
          "metadata": {},
          "output_type": "execute_result"
        }
      ],
      "source": [
        "sales_q1.values"
      ]
    },
    {
      "cell_type": "code",
      "execution_count": null,
      "id": "3a7eb3e8",
      "metadata": {
        "id": "3a7eb3e8",
        "outputId": "fa1f5a0c-afe2-4edb-d6be-0a6e45b10ca7"
      },
      "outputs": [
        {
          "data": {
            "text/plain": [
              "India       2\n",
              "Pakistan    4\n",
              "China       6\n",
              "Japan       8\n",
              "dtype: int64"
            ]
          },
          "execution_count": 75,
          "metadata": {},
          "output_type": "execute_result"
        }
      ],
      "source": [
        "# Arithmetic operations on pandas series\n",
        "sales_q1 * 2"
      ]
    },
    {
      "cell_type": "code",
      "execution_count": null,
      "id": "866ea654",
      "metadata": {
        "id": "866ea654",
        "outputId": "e8c82ecc-e825-4ae9-d772-67f85a66a620"
      },
      "outputs": [
        {
          "name": "stdout",
          "output_type": "stream",
          "text": [
            "Brazil     NaN\n",
            "China      NaN\n",
            "India      NaN\n",
            "Japan      NaN\n",
            "Pakistan   NaN\n",
            "Sweden     NaN\n",
            "UK         NaN\n",
            "USA        NaN\n",
            "dtype: float64\n"
          ]
        }
      ],
      "source": [
        "total_sales = sales_q1 + sales_q2\n",
        "print(total_sales)"
      ]
    },
    {
      "cell_type": "code",
      "execution_count": null,
      "id": "63ac0332",
      "metadata": {
        "id": "63ac0332",
        "outputId": "c210b2c2-4676-4a5c-9b76-546463245735"
      },
      "outputs": [
        {
          "data": {
            "text/plain": [
              "Brazil      5.0\n",
              "China       3.0\n",
              "India       1.0\n",
              "Japan       4.0\n",
              "Pakistan    2.0\n",
              "Sweden      8.0\n",
              "UK          7.0\n",
              "USA         6.0\n",
              "dtype: float64"
            ]
          },
          "execution_count": 80,
          "metadata": {},
          "output_type": "execute_result"
        }
      ],
      "source": [
        "sales_q1.add(sales_q2,fill_value = 0)"
      ]
    },
    {
      "cell_type": "markdown",
      "id": "b59d1545",
      "metadata": {
        "id": "b59d1545"
      },
      "source": [
        "### Pandas DataFrame\n",
        "- A DataFrame is a table of columns and rows in pandas that we can easily restructure and filter\n",
        "- A group of pandas series objects that share the same index\n",
        "- DataFrame is the main pandas object which is extremely useful"
      ]
    },
    {
      "cell_type": "code",
      "execution_count": null,
      "id": "eda5afdd",
      "metadata": {
        "id": "eda5afdd"
      },
      "outputs": [],
      "source": [
        "# Creating a pandas DataFrame\n",
        "np.random.seed(101)\n",
        "mydata = np.random.randint(0,101,(4,3))"
      ]
    },
    {
      "cell_type": "code",
      "execution_count": null,
      "id": "804f9b8f",
      "metadata": {
        "id": "804f9b8f",
        "outputId": "a52fd953-7850-4f3a-8c84-337a06900300"
      },
      "outputs": [
        {
          "data": {
            "text/plain": [
              "array([[95, 11, 81],\n",
              "       [70, 63, 87],\n",
              "       [75,  9, 77],\n",
              "       [40,  4, 63]])"
            ]
          },
          "execution_count": 82,
          "metadata": {},
          "output_type": "execute_result"
        }
      ],
      "source": [
        "mydata"
      ]
    },
    {
      "cell_type": "code",
      "execution_count": null,
      "id": "be233c51",
      "metadata": {
        "id": "be233c51"
      },
      "outputs": [],
      "source": [
        "# Giving index values ( Which is nothing but row values )\n",
        "myindex = ['CA','NY','AZ','TX']\n",
        "\n",
        "# Giving column values\n",
        "mycolumns = ['Jan','Feb','Mar']"
      ]
    },
    {
      "cell_type": "code",
      "execution_count": null,
      "id": "adaa164e",
      "metadata": {
        "id": "adaa164e",
        "outputId": "431c4838-34ad-4e7d-c585-51f55abb67d2"
      },
      "outputs": [
        {
          "data": {
            "text/html": [
              "<div>\n",
              "<style scoped>\n",
              "    .dataframe tbody tr th:only-of-type {\n",
              "        vertical-align: middle;\n",
              "    }\n",
              "\n",
              "    .dataframe tbody tr th {\n",
              "        vertical-align: top;\n",
              "    }\n",
              "\n",
              "    .dataframe thead th {\n",
              "        text-align: right;\n",
              "    }\n",
              "</style>\n",
              "<table border=\"1\" class=\"dataframe\">\n",
              "  <thead>\n",
              "    <tr style=\"text-align: right;\">\n",
              "      <th></th>\n",
              "      <th>Jan</th>\n",
              "      <th>Feb</th>\n",
              "      <th>Mar</th>\n",
              "    </tr>\n",
              "  </thead>\n",
              "  <tbody>\n",
              "    <tr>\n",
              "      <th>CA</th>\n",
              "      <td>95</td>\n",
              "      <td>11</td>\n",
              "      <td>81</td>\n",
              "    </tr>\n",
              "    <tr>\n",
              "      <th>NY</th>\n",
              "      <td>70</td>\n",
              "      <td>63</td>\n",
              "      <td>87</td>\n",
              "    </tr>\n",
              "    <tr>\n",
              "      <th>AZ</th>\n",
              "      <td>75</td>\n",
              "      <td>9</td>\n",
              "      <td>77</td>\n",
              "    </tr>\n",
              "    <tr>\n",
              "      <th>TX</th>\n",
              "      <td>40</td>\n",
              "      <td>4</td>\n",
              "      <td>63</td>\n",
              "    </tr>\n",
              "  </tbody>\n",
              "</table>\n",
              "</div>"
            ],
            "text/plain": [
              "    Jan  Feb  Mar\n",
              "CA   95   11   81\n",
              "NY   70   63   87\n",
              "AZ   75    9   77\n",
              "TX   40    4   63"
            ]
          },
          "execution_count": 86,
          "metadata": {},
          "output_type": "execute_result"
        }
      ],
      "source": [
        "df2 = pd.DataFrame(mydata,myindex,mycolumns)\n",
        "df2"
      ]
    },
    {
      "cell_type": "code",
      "execution_count": null,
      "id": "b1fbcfac",
      "metadata": {
        "id": "b1fbcfac",
        "outputId": "38ccfeec-b984-4b33-b7a3-39fd91fc6274"
      },
      "outputs": [
        {
          "name": "stdout",
          "output_type": "stream",
          "text": [
            "<class 'pandas.core.frame.DataFrame'>\n",
            "Index: 4 entries, CA to TX\n",
            "Data columns (total 3 columns):\n",
            " #   Column  Non-Null Count  Dtype\n",
            "---  ------  --------------  -----\n",
            " 0   Jan     4 non-null      int32\n",
            " 1   Feb     4 non-null      int32\n",
            " 2   Mar     4 non-null      int32\n",
            "dtypes: int32(3)\n",
            "memory usage: 252.0+ bytes\n"
          ]
        }
      ],
      "source": [
        "df2.info()"
      ]
    },
    {
      "cell_type": "code",
      "execution_count": null,
      "id": "d48c9da7",
      "metadata": {
        "id": "d48c9da7",
        "outputId": "b4d161c8-71a4-45ac-8dbd-74150b12c417"
      },
      "outputs": [
        {
          "data": {
            "text/plain": [
              "'C:\\\\Users\\\\munee\\\\Music\\\\Data Science Naresh IT'"
            ]
          },
          "execution_count": 95,
          "metadata": {},
          "output_type": "execute_result"
        }
      ],
      "source": [
        "pwd"
      ]
    },
    {
      "cell_type": "code",
      "execution_count": null,
      "id": "422744be",
      "metadata": {
        "id": "422744be",
        "outputId": "529c0744-055f-4467-eebc-503aa8fb6f61"
      },
      "outputs": [
        {
          "name": "stdout",
          "output_type": "stream",
          "text": [
            " Volume in drive C is Windows-SSD\n",
            " Volume Serial Number is D07F-236D\n",
            "\n",
            " Directory of C:\\Users\\munee\\Music\\Data Science Naresh IT\n",
            "\n",
            "16-01-2024  15:26    <DIR>          .\n",
            "06-01-2024  09:25    <DIR>          ..\n",
            "16-01-2024  11:01    <DIR>          .ipynb_checkpoints\n",
            "07-01-2024  11:04           102,666 1_Introduction.ipynb\n",
            "07-01-2024  11:47             9,637 2_Type_Casting.ipynb\n",
            "07-01-2024  20:23             3,460 3_basics.ipynb\n",
            "14-01-2024  17:22            33,005 4.1_Numpy_Examples.ipynb\n",
            "08-01-2024  12:52             8,609 4_Numpy_practice.ipynb\n",
            "13-01-2024  15:34           955,618 5.1_Matplotlib_Examples.ipynb\n",
            "13-01-2024  12:20           225,086 5_Matplotlib_Practice.ipynb\n",
            "16-01-2024  15:26            93,821 6.1_Pandas_practice.ipynb\n",
            "16-01-2024  11:00         6,617,174 annual-enterprise-survey-2021-financial-year-provisional-csv.csv\n",
            "               9 File(s)      8,049,076 bytes\n",
            "               3 Dir(s)  85,313,024,000 bytes free\n"
          ]
        }
      ],
      "source": [
        "ls"
      ]
    },
    {
      "cell_type": "code",
      "execution_count": null,
      "id": "c01ce54a",
      "metadata": {
        "id": "c01ce54a"
      },
      "outputs": [],
      "source": [
        "df3 = pd.read_csv(\"tips.csv\")"
      ]
    },
    {
      "cell_type": "code",
      "execution_count": null,
      "id": "6cef78df",
      "metadata": {
        "id": "6cef78df",
        "outputId": "880b2e22-9613-4196-c26c-c9c099793aab"
      },
      "outputs": [
        {
          "data": {
            "text/html": [
              "<div>\n",
              "<style scoped>\n",
              "    .dataframe tbody tr th:only-of-type {\n",
              "        vertical-align: middle;\n",
              "    }\n",
              "\n",
              "    .dataframe tbody tr th {\n",
              "        vertical-align: top;\n",
              "    }\n",
              "\n",
              "    .dataframe thead th {\n",
              "        text-align: right;\n",
              "    }\n",
              "</style>\n",
              "<table border=\"1\" class=\"dataframe\">\n",
              "  <thead>\n",
              "    <tr style=\"text-align: right;\">\n",
              "      <th></th>\n",
              "      <th>total_bill</th>\n",
              "      <th>tip</th>\n",
              "      <th>sex</th>\n",
              "      <th>smoker</th>\n",
              "      <th>day</th>\n",
              "      <th>time</th>\n",
              "      <th>size</th>\n",
              "      <th>price_per_person</th>\n",
              "      <th>Payer Name</th>\n",
              "      <th>CC Number</th>\n",
              "      <th>Payment ID</th>\n",
              "    </tr>\n",
              "  </thead>\n",
              "  <tbody>\n",
              "    <tr>\n",
              "      <th>0</th>\n",
              "      <td>16.99</td>\n",
              "      <td>1.01</td>\n",
              "      <td>Female</td>\n",
              "      <td>No</td>\n",
              "      <td>Sun</td>\n",
              "      <td>Dinner</td>\n",
              "      <td>2</td>\n",
              "      <td>8.49</td>\n",
              "      <td>Christy Cunningham</td>\n",
              "      <td>3560325168603410</td>\n",
              "      <td>Sun2959</td>\n",
              "    </tr>\n",
              "    <tr>\n",
              "      <th>1</th>\n",
              "      <td>10.34</td>\n",
              "      <td>1.66</td>\n",
              "      <td>Male</td>\n",
              "      <td>No</td>\n",
              "      <td>Sun</td>\n",
              "      <td>Dinner</td>\n",
              "      <td>3</td>\n",
              "      <td>3.45</td>\n",
              "      <td>Douglas Tucker</td>\n",
              "      <td>4478071379779230</td>\n",
              "      <td>Sun4608</td>\n",
              "    </tr>\n",
              "    <tr>\n",
              "      <th>2</th>\n",
              "      <td>21.01</td>\n",
              "      <td>3.50</td>\n",
              "      <td>Male</td>\n",
              "      <td>No</td>\n",
              "      <td>Sun</td>\n",
              "      <td>Dinner</td>\n",
              "      <td>3</td>\n",
              "      <td>7.00</td>\n",
              "      <td>Travis Walters</td>\n",
              "      <td>6011812112971322</td>\n",
              "      <td>Sun4458</td>\n",
              "    </tr>\n",
              "    <tr>\n",
              "      <th>3</th>\n",
              "      <td>23.68</td>\n",
              "      <td>3.31</td>\n",
              "      <td>Male</td>\n",
              "      <td>No</td>\n",
              "      <td>Sun</td>\n",
              "      <td>Dinner</td>\n",
              "      <td>2</td>\n",
              "      <td>11.84</td>\n",
              "      <td>Nathaniel Harris</td>\n",
              "      <td>4676137647685994</td>\n",
              "      <td>Sun5260</td>\n",
              "    </tr>\n",
              "    <tr>\n",
              "      <th>4</th>\n",
              "      <td>24.59</td>\n",
              "      <td>3.61</td>\n",
              "      <td>Female</td>\n",
              "      <td>No</td>\n",
              "      <td>Sun</td>\n",
              "      <td>Dinner</td>\n",
              "      <td>4</td>\n",
              "      <td>6.15</td>\n",
              "      <td>Tonya Carter</td>\n",
              "      <td>4832732618637221</td>\n",
              "      <td>Sun2251</td>\n",
              "    </tr>\n",
              "    <tr>\n",
              "      <th>...</th>\n",
              "      <td>...</td>\n",
              "      <td>...</td>\n",
              "      <td>...</td>\n",
              "      <td>...</td>\n",
              "      <td>...</td>\n",
              "      <td>...</td>\n",
              "      <td>...</td>\n",
              "      <td>...</td>\n",
              "      <td>...</td>\n",
              "      <td>...</td>\n",
              "      <td>...</td>\n",
              "    </tr>\n",
              "    <tr>\n",
              "      <th>239</th>\n",
              "      <td>29.03</td>\n",
              "      <td>5.92</td>\n",
              "      <td>Male</td>\n",
              "      <td>No</td>\n",
              "      <td>Sat</td>\n",
              "      <td>Dinner</td>\n",
              "      <td>3</td>\n",
              "      <td>9.68</td>\n",
              "      <td>Michael Avila</td>\n",
              "      <td>5296068606052842</td>\n",
              "      <td>Sat2657</td>\n",
              "    </tr>\n",
              "    <tr>\n",
              "      <th>240</th>\n",
              "      <td>27.18</td>\n",
              "      <td>2.00</td>\n",
              "      <td>Female</td>\n",
              "      <td>Yes</td>\n",
              "      <td>Sat</td>\n",
              "      <td>Dinner</td>\n",
              "      <td>2</td>\n",
              "      <td>13.59</td>\n",
              "      <td>Monica Sanders</td>\n",
              "      <td>3506806155565404</td>\n",
              "      <td>Sat1766</td>\n",
              "    </tr>\n",
              "    <tr>\n",
              "      <th>241</th>\n",
              "      <td>22.67</td>\n",
              "      <td>2.00</td>\n",
              "      <td>Male</td>\n",
              "      <td>Yes</td>\n",
              "      <td>Sat</td>\n",
              "      <td>Dinner</td>\n",
              "      <td>2</td>\n",
              "      <td>11.34</td>\n",
              "      <td>Keith Wong</td>\n",
              "      <td>6011891618747196</td>\n",
              "      <td>Sat3880</td>\n",
              "    </tr>\n",
              "    <tr>\n",
              "      <th>242</th>\n",
              "      <td>17.82</td>\n",
              "      <td>1.75</td>\n",
              "      <td>Male</td>\n",
              "      <td>No</td>\n",
              "      <td>Sat</td>\n",
              "      <td>Dinner</td>\n",
              "      <td>2</td>\n",
              "      <td>8.91</td>\n",
              "      <td>Dennis Dixon</td>\n",
              "      <td>4375220550950</td>\n",
              "      <td>Sat17</td>\n",
              "    </tr>\n",
              "    <tr>\n",
              "      <th>243</th>\n",
              "      <td>18.78</td>\n",
              "      <td>3.00</td>\n",
              "      <td>Female</td>\n",
              "      <td>No</td>\n",
              "      <td>Thur</td>\n",
              "      <td>Dinner</td>\n",
              "      <td>2</td>\n",
              "      <td>9.39</td>\n",
              "      <td>Michelle Hardin</td>\n",
              "      <td>3511451626698139</td>\n",
              "      <td>Thur672</td>\n",
              "    </tr>\n",
              "  </tbody>\n",
              "</table>\n",
              "<p>244 rows × 11 columns</p>\n",
              "</div>"
            ],
            "text/plain": [
              "     total_bill   tip     sex smoker   day    time  size  price_per_person  \\\n",
              "0         16.99  1.01  Female     No   Sun  Dinner     2              8.49   \n",
              "1         10.34  1.66    Male     No   Sun  Dinner     3              3.45   \n",
              "2         21.01  3.50    Male     No   Sun  Dinner     3              7.00   \n",
              "3         23.68  3.31    Male     No   Sun  Dinner     2             11.84   \n",
              "4         24.59  3.61  Female     No   Sun  Dinner     4              6.15   \n",
              "..          ...   ...     ...    ...   ...     ...   ...               ...   \n",
              "239       29.03  5.92    Male     No   Sat  Dinner     3              9.68   \n",
              "240       27.18  2.00  Female    Yes   Sat  Dinner     2             13.59   \n",
              "241       22.67  2.00    Male    Yes   Sat  Dinner     2             11.34   \n",
              "242       17.82  1.75    Male     No   Sat  Dinner     2              8.91   \n",
              "243       18.78  3.00  Female     No  Thur  Dinner     2              9.39   \n",
              "\n",
              "             Payer Name         CC Number Payment ID  \n",
              "0    Christy Cunningham  3560325168603410    Sun2959  \n",
              "1        Douglas Tucker  4478071379779230    Sun4608  \n",
              "2        Travis Walters  6011812112971322    Sun4458  \n",
              "3      Nathaniel Harris  4676137647685994    Sun5260  \n",
              "4          Tonya Carter  4832732618637221    Sun2251  \n",
              "..                  ...               ...        ...  \n",
              "239       Michael Avila  5296068606052842    Sat2657  \n",
              "240      Monica Sanders  3506806155565404    Sat1766  \n",
              "241          Keith Wong  6011891618747196    Sat3880  \n",
              "242        Dennis Dixon     4375220550950      Sat17  \n",
              "243     Michelle Hardin  3511451626698139    Thur672  \n",
              "\n",
              "[244 rows x 11 columns]"
            ]
          },
          "execution_count": 98,
          "metadata": {},
          "output_type": "execute_result"
        }
      ],
      "source": [
        "df3"
      ]
    },
    {
      "cell_type": "code",
      "execution_count": null,
      "id": "acbc13d0",
      "metadata": {
        "id": "acbc13d0",
        "outputId": "cae3c32c-da16-4f20-b88d-f871e71e1703"
      },
      "outputs": [
        {
          "data": {
            "text/plain": [
              "Index(['total_bill', 'tip', 'sex', 'smoker', 'day', 'time', 'size',\n",
              "       'price_per_person', 'Payer Name', 'CC Number', 'Payment ID'],\n",
              "      dtype='object')"
            ]
          },
          "execution_count": 101,
          "metadata": {},
          "output_type": "execute_result"
        }
      ],
      "source": [
        "df3.columns"
      ]
    },
    {
      "cell_type": "code",
      "execution_count": null,
      "id": "6415eba2",
      "metadata": {
        "id": "6415eba2",
        "outputId": "b589e8bc-1464-4d0c-f109-4754061d4e4d"
      },
      "outputs": [
        {
          "data": {
            "text/plain": [
              "RangeIndex(start=0, stop=244, step=1)"
            ]
          },
          "execution_count": 104,
          "metadata": {},
          "output_type": "execute_result"
        }
      ],
      "source": [
        "df3.index"
      ]
    },
    {
      "cell_type": "code",
      "execution_count": null,
      "id": "d4ea0cc5",
      "metadata": {
        "id": "d4ea0cc5"
      },
      "outputs": [],
      "source": []
    }
  ],
  "metadata": {
    "kernelspec": {
      "display_name": "Python 3 (ipykernel)",
      "language": "python",
      "name": "python3"
    },
    "language_info": {
      "codemirror_mode": {
        "name": "ipython",
        "version": 3
      },
      "file_extension": ".py",
      "mimetype": "text/x-python",
      "name": "python",
      "nbconvert_exporter": "python",
      "pygments_lexer": "ipython3",
      "version": "3.11.3"
    },
    "colab": {
      "provenance": [],
      "include_colab_link": true
    }
  },
  "nbformat": 4,
  "nbformat_minor": 5
}