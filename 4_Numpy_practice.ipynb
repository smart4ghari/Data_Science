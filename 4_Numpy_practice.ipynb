{
  "cells": [
    {
      "cell_type": "markdown",
      "metadata": {
        "id": "view-in-github",
        "colab_type": "text"
      },
      "source": [
        "<a href=\"https://colab.research.google.com/github/smart4ghari/Data_Science/blob/main/4_Numpy_practice.ipynb\" target=\"_parent\"><img src=\"https://colab.research.google.com/assets/colab-badge.svg\" alt=\"Open In Colab\"/></a>"
      ]
    },
    {
      "cell_type": "markdown",
      "id": "c9f60525",
      "metadata": {
        "id": "c9f60525"
      },
      "source": [
        "## Numpy"
      ]
    },
    {
      "cell_type": "code",
      "execution_count": null,
      "id": "446b95e7",
      "metadata": {
        "id": "446b95e7"
      },
      "outputs": [],
      "source": [
        "import numpy as np"
      ]
    },
    {
      "cell_type": "code",
      "execution_count": null,
      "id": "a71382bb",
      "metadata": {
        "id": "a71382bb",
        "outputId": "a90f1c64-5084-4241-d892-f2d213bc2cc4"
      },
      "outputs": [
        {
          "data": {
            "text/plain": [
              "list"
            ]
          },
          "execution_count": 6,
          "metadata": {},
          "output_type": "execute_result"
        }
      ],
      "source": [
        "my_list = [1,2,3,4,5]\n",
        "type(my_list)"
      ]
    },
    {
      "cell_type": "code",
      "execution_count": null,
      "id": "3078a5c7",
      "metadata": {
        "id": "3078a5c7",
        "outputId": "2f990404-b995-47d7-83f5-68697c71b259"
      },
      "outputs": [
        {
          "name": "stdout",
          "output_type": "stream",
          "text": [
            "[1 2 3 4 5]\n"
          ]
        }
      ],
      "source": [
        "## Converting list to array\n",
        "arr = np.array(my_list)\n",
        "print(arr)"
      ]
    },
    {
      "cell_type": "code",
      "execution_count": null,
      "id": "a30c150d",
      "metadata": {
        "id": "a30c150d",
        "outputId": "fff75f10-7b8c-474d-9ade-b8dbc3a86ee7"
      },
      "outputs": [
        {
          "data": {
            "text/plain": [
              "numpy.ndarray"
            ]
          },
          "execution_count": 8,
          "metadata": {},
          "output_type": "execute_result"
        }
      ],
      "source": [
        "type(arr)"
      ]
    },
    {
      "cell_type": "code",
      "execution_count": null,
      "id": "626dc9a3",
      "metadata": {
        "id": "626dc9a3",
        "outputId": "d4f6dab3-5a62-4a65-9ebd-67593b6d5bb5"
      },
      "outputs": [
        {
          "data": {
            "text/plain": [
              "array([0, 1, 2])"
            ]
          },
          "execution_count": 9,
          "metadata": {},
          "output_type": "execute_result"
        }
      ],
      "source": [
        "np.arange(3)"
      ]
    },
    {
      "cell_type": "code",
      "execution_count": null,
      "id": "f5fa41a9",
      "metadata": {
        "id": "f5fa41a9",
        "outputId": "dcac582c-d02e-489d-f2ff-2595bf81f271"
      },
      "outputs": [
        {
          "data": {
            "text/plain": [
              "array([ 1,  3,  5,  7,  9, 11, 13, 15, 17, 19, 21, 23, 25, 27, 29, 31, 33,\n",
              "       35, 37, 39, 41, 43, 45, 47, 49, 51, 53, 55, 57, 59, 61, 63, 65, 67,\n",
              "       69, 71, 73, 75, 77, 79, 81, 83, 85, 87, 89, 91, 93, 95, 97, 99])"
            ]
          },
          "execution_count": 10,
          "metadata": {},
          "output_type": "execute_result"
        }
      ],
      "source": [
        "np.arange(1,100,2)"
      ]
    },
    {
      "cell_type": "code",
      "execution_count": null,
      "id": "4976667b",
      "metadata": {
        "id": "4976667b",
        "outputId": "5987f374-f057-4469-ee7f-1fdef2795b19"
      },
      "outputs": [
        {
          "data": {
            "text/plain": [
              "array([  0,   2,   4,   6,   8,  10,  12,  14,  16,  18,  20,  22,  24,\n",
              "        26,  28,  30,  32,  34,  36,  38,  40,  42,  44,  46,  48,  50,\n",
              "        52,  54,  56,  58,  60,  62,  64,  66,  68,  70,  72,  74,  76,\n",
              "        78,  80,  82,  84,  86,  88,  90,  92,  94,  96,  98, 100])"
            ]
          },
          "execution_count": 11,
          "metadata": {},
          "output_type": "execute_result"
        }
      ],
      "source": [
        "np.arange(0,101,2)"
      ]
    },
    {
      "cell_type": "markdown",
      "id": "7a0fb237",
      "metadata": {
        "id": "7a0fb237"
      },
      "source": [
        "In np.arange() the first argument will be always less than the second argument"
      ]
    },
    {
      "cell_type": "code",
      "execution_count": null,
      "id": "27e5cec9",
      "metadata": {
        "id": "27e5cec9",
        "outputId": "e75d5959-6d76-475f-8f79-0bae913c742c"
      },
      "outputs": [
        {
          "data": {
            "text/plain": [
              "array([], dtype=int32)"
            ]
          },
          "execution_count": 12,
          "metadata": {},
          "output_type": "execute_result"
        }
      ],
      "source": [
        "np.arange(20,10) # This is invalid"
      ]
    },
    {
      "cell_type": "code",
      "execution_count": null,
      "id": "d445ec02",
      "metadata": {
        "id": "d445ec02",
        "outputId": "c42b65ff-2c3d-42c6-caf3-7ced4e0b5e70"
      },
      "outputs": [
        {
          "data": {
            "text/plain": [
              "array([], dtype=int32)"
            ]
          },
          "execution_count": 13,
          "metadata": {},
          "output_type": "execute_result"
        }
      ],
      "source": [
        "np.arange(10,10)"
      ]
    },
    {
      "cell_type": "code",
      "execution_count": null,
      "id": "05112fbc",
      "metadata": {
        "id": "05112fbc",
        "outputId": "f64c9ed8-e005-48d1-b3cf-1d77b70cf0c3"
      },
      "outputs": [
        {
          "data": {
            "text/plain": [
              "array([0., 0., 0., 0., 0.])"
            ]
          },
          "execution_count": 14,
          "metadata": {},
          "output_type": "execute_result"
        }
      ],
      "source": [
        "np.zeros(5)"
      ]
    },
    {
      "cell_type": "code",
      "execution_count": null,
      "id": "746fcd7f",
      "metadata": {
        "id": "746fcd7f",
        "outputId": "6d93c2bd-576f-4051-a08c-1f1207decb75"
      },
      "outputs": [
        {
          "data": {
            "text/plain": [
              "array([[0, 0, 0, 0, 0],\n",
              "       [0, 0, 0, 0, 0],\n",
              "       [0, 0, 0, 0, 0]])"
            ]
          },
          "execution_count": 18,
          "metadata": {},
          "output_type": "execute_result"
        }
      ],
      "source": [
        "np.zeros([3,5],dtype = int)"
      ]
    },
    {
      "cell_type": "code",
      "execution_count": null,
      "id": "e87ca00f",
      "metadata": {
        "id": "e87ca00f",
        "outputId": "fe3e217f-e8f1-4bc2-cedf-37c26c8e612d"
      },
      "outputs": [
        {
          "data": {
            "text/plain": [
              "array([[0, 0, 0, 0],\n",
              "       [0, 0, 0, 0],\n",
              "       [0, 0, 0, 0]])"
            ]
          },
          "execution_count": 19,
          "metadata": {},
          "output_type": "execute_result"
        }
      ],
      "source": [
        "n = (3,4) # 3 rows and 4 columns\n",
        "np.zeros(n,dtype = int)"
      ]
    },
    {
      "cell_type": "code",
      "execution_count": null,
      "id": "7ad3684f",
      "metadata": {
        "id": "7ad3684f",
        "outputId": "049aa191-eee4-48a5-fe4e-fdafba02432e"
      },
      "outputs": [
        {
          "data": {
            "text/plain": [
              "array([[1., 1., 1., 1.],\n",
              "       [1., 1., 1., 1.],\n",
              "       [1., 1., 1., 1.]])"
            ]
          },
          "execution_count": 20,
          "metadata": {},
          "output_type": "execute_result"
        }
      ],
      "source": [
        "np.ones(n)"
      ]
    },
    {
      "cell_type": "code",
      "execution_count": null,
      "id": "d9fe430e",
      "metadata": {
        "id": "d9fe430e",
        "outputId": "3d6a4aa7-b23b-402c-c214-c76104c52db4"
      },
      "outputs": [
        {
          "data": {
            "text/plain": [
              "array([[1, 1, 1, 1],\n",
              "       [1, 1, 1, 1],\n",
              "       [1, 1, 1, 1]])"
            ]
          },
          "execution_count": 21,
          "metadata": {},
          "output_type": "execute_result"
        }
      ],
      "source": [
        "np.ones(n,dtype = int)"
      ]
    },
    {
      "cell_type": "code",
      "execution_count": null,
      "id": "2a1dd753",
      "metadata": {
        "id": "2a1dd753",
        "outputId": "44d28c73-9451-412a-c9dd-40c8ac2722d0"
      },
      "outputs": [
        {
          "data": {
            "text/plain": [
              "array([[0.69050229, 0.84510636],\n",
              "       [0.66905857, 0.43589531],\n",
              "       [0.62994576, 0.98962211]])"
            ]
          },
          "execution_count": 8,
          "metadata": {},
          "output_type": "execute_result"
        }
      ],
      "source": [
        "np.random.rand(3,2)"
      ]
    },
    {
      "cell_type": "code",
      "execution_count": null,
      "id": "e1da9131",
      "metadata": {
        "id": "e1da9131",
        "outputId": "344e00eb-7079-4d82-cc2c-c4fba7e9e52f"
      },
      "outputs": [
        {
          "data": {
            "text/plain": [
              "4"
            ]
          },
          "execution_count": 9,
          "metadata": {},
          "output_type": "execute_result"
        }
      ],
      "source": [
        "np.random.randint(4,5)"
      ]
    },
    {
      "cell_type": "code",
      "execution_count": null,
      "id": "8a5b96d9",
      "metadata": {
        "id": "8a5b96d9",
        "outputId": "087c1a8f-617a-4117-8469-c9016c90c28a"
      },
      "outputs": [
        {
          "data": {
            "text/plain": [
              "423"
            ]
          },
          "execution_count": 10,
          "metadata": {},
          "output_type": "execute_result"
        }
      ],
      "source": [
        "np.random.randint(1,500)"
      ]
    },
    {
      "cell_type": "code",
      "execution_count": null,
      "id": "99628806",
      "metadata": {
        "id": "99628806",
        "outputId": "161d06a2-4491-4a28-c9dd-54fe0669ef04"
      },
      "outputs": [
        {
          "data": {
            "text/plain": [
              "array([[-0.93713968, -0.21273127,  0.16164789, ...,  0.07870192,\n",
              "         0.24704573,  0.04970815],\n",
              "       [ 0.85641918, -0.03585561, -2.14576012, ...,  0.88263355,\n",
              "         0.4228943 ,  0.64878641],\n",
              "       [ 0.78340917,  0.75049117,  0.75240909, ..., -0.69355858,\n",
              "         0.58301701,  0.0843069 ],\n",
              "       ...,\n",
              "       [-0.14398268,  1.53536845,  0.90930985, ..., -0.58350968,\n",
              "        -1.0165124 , -1.03507083],\n",
              "       [ 0.34853679, -0.81060042, -1.17978135, ..., -0.5311586 ,\n",
              "         1.41880689, -0.34020841],\n",
              "       [-0.21031882, -2.14808457, -0.94339323, ..., -0.15443582,\n",
              "         0.87681879, -0.97771581]])"
            ]
          },
          "execution_count": 11,
          "metadata": {},
          "output_type": "execute_result"
        }
      ],
      "source": [
        "np.random.randn(200,899)"
      ]
    },
    {
      "cell_type": "code",
      "execution_count": null,
      "id": "bd7f58de",
      "metadata": {
        "id": "bd7f58de"
      },
      "outputs": [],
      "source": []
    }
  ],
  "metadata": {
    "kernelspec": {
      "display_name": "Python 3 (ipykernel)",
      "language": "python",
      "name": "python3"
    },
    "language_info": {
      "codemirror_mode": {
        "name": "ipython",
        "version": 3
      },
      "file_extension": ".py",
      "mimetype": "text/x-python",
      "name": "python",
      "nbconvert_exporter": "python",
      "pygments_lexer": "ipython3",
      "version": "3.11.3"
    },
    "colab": {
      "provenance": [],
      "include_colab_link": true
    }
  },
  "nbformat": 4,
  "nbformat_minor": 5
}