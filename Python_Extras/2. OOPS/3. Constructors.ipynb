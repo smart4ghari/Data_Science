{
 "cells": [
  {
   "cell_type": "code",
   "execution_count": 1,
   "id": "f896a82d",
   "metadata": {},
   "outputs": [],
   "source": [
    "class Test():\n",
    "    def __init__(self): # Constructor\n",
    "        print(\"Constructor execution\")"
   ]
  },
  {
   "cell_type": "code",
   "execution_count": 2,
   "id": "3fc49b42",
   "metadata": {},
   "outputs": [
    {
     "name": "stdout",
     "output_type": "stream",
     "text": [
      "Constructor execution\n"
     ]
    }
   ],
   "source": [
    "obj1 = Test()\n",
    "# Automatically constructor will be executed after object creation"
   ]
  },
  {
   "cell_type": "code",
   "execution_count": 3,
   "id": "ad8e6250",
   "metadata": {},
   "outputs": [
    {
     "name": "stdout",
     "output_type": "stream",
     "text": [
      "Constructor execution\n",
      "Constructor execution\n",
      "Constructor execution\n",
      "Constructor execution\n",
      "Constructor execution\n"
     ]
    }
   ],
   "source": [
    "# Creating Multiple objects\n",
    "obj1 = Test()\n",
    "obj2 = Test()\n",
    "obj3 = Test()\n",
    "obj4 = Test()\n",
    "obj5 = Test()"
   ]
  },
  {
   "cell_type": "code",
   "execution_count": 4,
   "id": "83ccaeaa",
   "metadata": {},
   "outputs": [],
   "source": [
    "class Employee:\n",
    "    def __init__(self,name,age,designation,company):\n",
    "        self.name = name\n",
    "        self.age = age\n",
    "        self.designation = designation\n",
    "        self.company = company"
   ]
  },
  {
   "cell_type": "code",
   "execution_count": 5,
   "id": "66112ab4",
   "metadata": {},
   "outputs": [],
   "source": [
    "emp1 = Employee('Jenifer',22,'Jr engr','JP Morgans')"
   ]
  },
  {
   "cell_type": "code",
   "execution_count": 6,
   "id": "810bbf67",
   "metadata": {},
   "outputs": [
    {
     "name": "stdout",
     "output_type": "stream",
     "text": [
      "Name is: Jenifer\n",
      "Age is: 22\n",
      "Designation is: Jr engr\n",
      "Company is: JP Morgans\n"
     ]
    }
   ],
   "source": [
    "print(f\"Name is: {emp1.name}\")\n",
    "print(f\"Age is: {emp1.age}\")\n",
    "print(f\"Designation is: {emp1.designation}\")\n",
    "print(f\"Company is: {emp1.company}\")"
   ]
  },
  {
   "cell_type": "code",
   "execution_count": 7,
   "id": "e8d97032",
   "metadata": {},
   "outputs": [],
   "source": [
    "class Test:\n",
    "    def m1(self):\n",
    "        print(\"Method execution\")"
   ]
  },
  {
   "cell_type": "code",
   "execution_count": 8,
   "id": "efab9d46",
   "metadata": {},
   "outputs": [
    {
     "name": "stdout",
     "output_type": "stream",
     "text": [
      "Method execution\n"
     ]
    }
   ],
   "source": [
    "test1 = Test() # Default constructor will be executed which is provided by PVM\n",
    "test1.m1()"
   ]
  },
  {
   "cell_type": "markdown",
   "id": "ec702c7b",
   "metadata": {},
   "source": [
    "### Calling the constructor explicitly"
   ]
  },
  {
   "cell_type": "code",
   "execution_count": 9,
   "id": "4015dfe6",
   "metadata": {},
   "outputs": [],
   "source": [
    "class Test2:\n",
    "    def __init__(self):\n",
    "        print(\"Calling constructor explicitly: \",id(self))"
   ]
  },
  {
   "cell_type": "code",
   "execution_count": 10,
   "id": "e56a72f2",
   "metadata": {},
   "outputs": [
    {
     "name": "stdout",
     "output_type": "stream",
     "text": [
      "Calling constructor explicitly:  2260043292368\n",
      "Calling constructor explicitly:  2260043292368\n"
     ]
    }
   ],
   "source": [
    "test = Test2()\n",
    "test.__init__()"
   ]
  },
  {
   "cell_type": "markdown",
   "id": "b234efa1",
   "metadata": {},
   "source": [
    "### Constructor overloading"
   ]
  },
  {
   "cell_type": "code",
   "execution_count": 11,
   "id": "1ac8d91d",
   "metadata": {},
   "outputs": [],
   "source": [
    "# Constructor overloading\n",
    "class Test3:\n",
    "    def __init__(self):\n",
    "        print(\"No arg constructor\")\n",
    "    def __init__(self,var1):\n",
    "        print(\"One arg constructor\")"
   ]
  },
  {
   "cell_type": "code",
   "execution_count": 13,
   "id": "c937a499",
   "metadata": {},
   "outputs": [
    {
     "ename": "TypeError",
     "evalue": "Test3.__init__() missing 1 required positional argument: 'var1'",
     "output_type": "error",
     "traceback": [
      "\u001b[1;31m---------------------------------------------------------------------------\u001b[0m",
      "\u001b[1;31mTypeError\u001b[0m                                 Traceback (most recent call last)",
      "Cell \u001b[1;32mIn[13], line 1\u001b[0m\n\u001b[1;32m----> 1\u001b[0m t \u001b[38;5;241m=\u001b[39m Test3()\n",
      "\u001b[1;31mTypeError\u001b[0m: Test3.__init__() missing 1 required positional argument: 'var1'"
     ]
    }
   ],
   "source": [
    "t = Test3() # invalid"
   ]
  },
  {
   "cell_type": "markdown",
   "id": "14a1d748",
   "metadata": {},
   "source": [
    "* Constructor overloading isn't possible in python\n",
    "* If we're defining multiple constructor PVM only consider last constructor"
   ]
  },
  {
   "cell_type": "code",
   "execution_count": 14,
   "id": "e57a0ffb",
   "metadata": {},
   "outputs": [
    {
     "name": "stdout",
     "output_type": "stream",
     "text": [
      "One arg constructor\n"
     ]
    }
   ],
   "source": [
    "t = Test3(10)"
   ]
  },
  {
   "cell_type": "code",
   "execution_count": null,
   "id": "d486d7b5",
   "metadata": {},
   "outputs": [],
   "source": []
  }
 ],
 "metadata": {
  "kernelspec": {
   "display_name": "Python 3 (ipykernel)",
   "language": "python",
   "name": "python3"
  },
  "language_info": {
   "codemirror_mode": {
    "name": "ipython",
    "version": 3
   },
   "file_extension": ".py",
   "mimetype": "text/x-python",
   "name": "python",
   "nbconvert_exporter": "python",
   "pygments_lexer": "ipython3",
   "version": "3.11.3"
  }
 },
 "nbformat": 4,
 "nbformat_minor": 5
}
