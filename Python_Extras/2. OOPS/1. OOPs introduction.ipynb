{
 "cells": [
  {
   "cell_type": "code",
   "execution_count": 3,
   "id": "591a41ac",
   "metadata": {},
   "outputs": [
    {
     "name": "stdout",
     "output_type": "stream",
     "text": [
      "This is a docstring - Here we can write some useful information like this is a student1 class\n"
     ]
    }
   ],
   "source": [
    " class Student1:\n",
    "        '''This is a docstring - Here we can write some useful information like this is a student1 class'''\n",
    "        # Variables (Properties) -> Name,Mark,Roll Number\n",
    "        # Methods (Actions/Behaviour) -> Read,Write,Sleep,Talk\n",
    "print(Student1.__doc__)"
   ]
  },
  {
   "cell_type": "code",
   "execution_count": 4,
   "id": "0fbd2486",
   "metadata": {},
   "outputs": [
    {
     "name": "stdout",
     "output_type": "stream",
     "text": [
      "Help on class Student1 in module __main__:\n",
      "\n",
      "class Student1(builtins.object)\n",
      " |  This is a docstring - Here we can write some useful information like this is a student1 class\n",
      " |  \n",
      " |  Data descriptors defined here:\n",
      " |  \n",
      " |  __dict__\n",
      " |      dictionary for instance variables (if defined)\n",
      " |  \n",
      " |  __weakref__\n",
      " |      list of weak references to the object (if defined)\n",
      "\n"
     ]
    }
   ],
   "source": [
    "help(Student1)"
   ]
  },
  {
   "cell_type": "code",
   "execution_count": 10,
   "id": "5f6a71f9",
   "metadata": {},
   "outputs": [],
   "source": [
    "class Student:\n",
    "    def __init__(self):\n",
    "        print(\"Constructor Execution\")\n",
    "        self.name = \"Hariharan\"\n",
    "        self.rollno = 13\n",
    "        self.marks = 100\n",
    "    # Here functions which is defined inside the class known as method\n",
    "    def speak(self):\n",
    "        print(f\"Hello my name is : {self.name} and my rollno is {self.rollno}\")\n",
    "        print(f\"I've secured {self.marks} in Maths exam\")"
   ]
  },
  {
   "cell_type": "markdown",
   "id": "27adc922",
   "metadata": {},
   "source": [
    "### Calling the attributes"
   ]
  },
  {
   "cell_type": "code",
   "execution_count": 11,
   "id": "856d8751",
   "metadata": {},
   "outputs": [
    {
     "name": "stdout",
     "output_type": "stream",
     "text": [
      "Constructor Execution\n",
      "Hariharan\n",
      "100\n",
      "13\n"
     ]
    }
   ],
   "source": [
    "obj1 = Student()\n",
    "# printing all the attributes separately\n",
    "print(obj1.name)\n",
    "print(obj1.marks)\n",
    "print(obj1.rollno)"
   ]
  },
  {
   "cell_type": "markdown",
   "id": "2e7fd4f6",
   "metadata": {},
   "source": [
    "### Calling a method"
   ]
  },
  {
   "cell_type": "code",
   "execution_count": 12,
   "id": "d4cf7c6e",
   "metadata": {},
   "outputs": [
    {
     "name": "stdout",
     "output_type": "stream",
     "text": [
      "Hello my name is : Hariharan and my rollno is 13\n",
      "I've secured 100 in Maths exam\n"
     ]
    }
   ],
   "source": [
    "obj1.speak()"
   ]
  },
  {
   "cell_type": "code",
   "execution_count": 14,
   "id": "f202ee11",
   "metadata": {},
   "outputs": [
    {
     "name": "stdout",
     "output_type": "stream",
     "text": [
      "Constructor Execution\n",
      "Constructor Execution\n",
      "Constructor Execution\n"
     ]
    }
   ],
   "source": [
    "# We can create multiple objects for the same class\n",
    "obj2, obj3, obj4 = Student(), Student(), Student()"
   ]
  },
  {
   "cell_type": "code",
   "execution_count": 17,
   "id": "d1e811e7",
   "metadata": {},
   "outputs": [
    {
     "name": "stdout",
     "output_type": "stream",
     "text": [
      "2581015739792\n",
      "2581015806288\n",
      "2581006628176\n"
     ]
    }
   ],
   "source": [
    "# Checking the id\n",
    "print(id(obj2))\n",
    "print(id(obj3))\n",
    "print(id(obj4))"
   ]
  },
  {
   "cell_type": "code",
   "execution_count": null,
   "id": "aac29f6e",
   "metadata": {},
   "outputs": [],
   "source": []
  }
 ],
 "metadata": {
  "kernelspec": {
   "display_name": "Python 3 (ipykernel)",
   "language": "python",
   "name": "python3"
  },
  "language_info": {
   "codemirror_mode": {
    "name": "ipython",
    "version": 3
   },
   "file_extension": ".py",
   "mimetype": "text/x-python",
   "name": "python",
   "nbconvert_exporter": "python",
   "pygments_lexer": "ipython3",
   "version": "3.11.3"
  }
 },
 "nbformat": 4,
 "nbformat_minor": 5
}
