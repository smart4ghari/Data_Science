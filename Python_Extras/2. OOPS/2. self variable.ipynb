{
 "cells": [
  {
   "cell_type": "code",
   "execution_count": 7,
   "id": "bac9a4e8",
   "metadata": {},
   "outputs": [],
   "source": [
    "class Student:\n",
    "    def __init__(self,name,rollno,marks):\n",
    "        self.name = name\n",
    "        self.rollno = rollno\n",
    "        self.marks = marks\n",
    "    def speak(self):\n",
    "        print(f\"Hello I'm {self.name} and my rollno is {self.rollno}\")\n",
    "        print(f\"My mark is : {self.marks}\")"
   ]
  },
  {
   "cell_type": "code",
   "execution_count": 14,
   "id": "fd1c3d21",
   "metadata": {},
   "outputs": [
    {
     "name": "stdout",
     "output_type": "stream",
     "text": [
      "Hari 13 100\n",
      "Hello I'm Hari and my rollno is 13\n",
      "My mark is : 100\n",
      "None\n"
     ]
    }
   ],
   "source": [
    "obj1 = Student(\"Hari\",13,100)\n",
    "print(obj1.name,obj1.rollno,obj1.marks)\n",
    "print(obj1.speak())"
   ]
  },
  {
   "cell_type": "code",
   "execution_count": 15,
   "id": "6c9c5216",
   "metadata": {},
   "outputs": [
    {
     "name": "stdout",
     "output_type": "stream",
     "text": [
      "Address of 'self' reference variable:  2341875157392\n",
      "Address of 'obj1' reference variable:  2341875157392\n"
     ]
    }
   ],
   "source": [
    "class Test:\n",
    "    def __init__(self):\n",
    "        print(\"Address of 'self' reference variable: \",id(self))\n",
    "obj1 = Test()\n",
    "print(\"Address of 'obj1' reference variable: \",id(obj1))"
   ]
  },
  {
   "cell_type": "markdown",
   "id": "d9fa4efd",
   "metadata": {},
   "source": [
    "### Here both the address would be same since they're pointing to the same object"
   ]
  }
 ],
 "metadata": {
  "kernelspec": {
   "display_name": "Python 3 (ipykernel)",
   "language": "python",
   "name": "python3"
  },
  "language_info": {
   "codemirror_mode": {
    "name": "ipython",
    "version": 3
   },
   "file_extension": ".py",
   "mimetype": "text/x-python",
   "name": "python",
   "nbconvert_exporter": "python",
   "pygments_lexer": "ipython3",
   "version": "3.11.3"
  }
 },
 "nbformat": 4,
 "nbformat_minor": 5
}
