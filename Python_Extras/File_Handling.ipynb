{
 "cells": [
  {
   "cell_type": "markdown",
   "id": "f925beaa",
   "metadata": {},
   "source": [
    "### File Handling in Python"
   ]
  },
  {
   "cell_type": "code",
   "execution_count": 1,
   "id": "6bed1f51",
   "metadata": {},
   "outputs": [],
   "source": [
    "# Read the file\n",
    "with open('Random.txt','r') as f:\n",
    "    data = f.read()"
   ]
  },
  {
   "cell_type": "code",
   "execution_count": 2,
   "id": "d0af9f24",
   "metadata": {},
   "outputs": [
    {
     "name": "stdout",
     "output_type": "stream",
     "text": [
      "This is just a random text file for reading purpose....\n"
     ]
    }
   ],
   "source": [
    "print(data)"
   ]
  },
  {
   "cell_type": "code",
   "execution_count": 4,
   "id": "48726f4e",
   "metadata": {},
   "outputs": [],
   "source": [
    "# Write the file\n",
    "with open(\"Random1.txt\",'w') as f1:\n",
    "    data1 = 'This is just another file written by using write statement'\n",
    "    f1.write(data1)"
   ]
  },
  {
   "cell_type": "code",
   "execution_count": 6,
   "id": "57d43abf",
   "metadata": {},
   "outputs": [],
   "source": [
    "# Getting a directory list\n",
    "import os\n",
    "entries = os.listdir('C:/Users/munee/Music/Data Science Naresh IT/')"
   ]
  },
  {
   "cell_type": "code",
   "execution_count": 7,
   "id": "58d066c8",
   "metadata": {},
   "outputs": [
    {
     "name": "stdout",
     "output_type": "stream",
     "text": [
      ".ipynb_checkpoints\n",
      "1_Introduction.ipynb\n",
      "2_Type_Casting.ipynb\n",
      "3.1_Pandas_practice.ipynb\n",
      "3.2_Pandas_Practice.ipynb\n",
      "3_basics.ipynb\n",
      "4.1_Numpy_Examples.ipynb\n",
      "4_Numpy_practice.ipynb\n",
      "5.1_Matplotlib_Examples.ipynb\n",
      "5_Matplotlib_Practice.ipynb\n",
      "annual-enterprise-survey-2021-financial-year-provisional-csv.csv\n",
      "Random.txt\n",
      "Random1.txt\n",
      "tips.csv\n",
      "Untitled.ipynb\n"
     ]
    }
   ],
   "source": [
    "# This will return all files and folders\n",
    "for entry in entries:\n",
    "    print(entry)"
   ]
  },
  {
   "cell_type": "code",
   "execution_count": 8,
   "id": "4b992e45",
   "metadata": {},
   "outputs": [
    {
     "name": "stdout",
     "output_type": "stream",
     "text": [
      "<nt.ScandirIterator object at 0x00000179730170A0>\n",
      "<nt.ScandirIterator object at 0x00000179730170A0>\n",
      "<nt.ScandirIterator object at 0x00000179730170A0>\n",
      "<nt.ScandirIterator object at 0x00000179730170A0>\n",
      "<nt.ScandirIterator object at 0x00000179730170A0>\n",
      "<nt.ScandirIterator object at 0x00000179730170A0>\n",
      "<nt.ScandirIterator object at 0x00000179730170A0>\n",
      "<nt.ScandirIterator object at 0x00000179730170A0>\n",
      "<nt.ScandirIterator object at 0x00000179730170A0>\n",
      "<nt.ScandirIterator object at 0x00000179730170A0>\n",
      "<nt.ScandirIterator object at 0x00000179730170A0>\n",
      "<nt.ScandirIterator object at 0x00000179730170A0>\n",
      "<nt.ScandirIterator object at 0x00000179730170A0>\n",
      "<nt.ScandirIterator object at 0x00000179730170A0>\n",
      "<nt.ScandirIterator object at 0x00000179730170A0>\n"
     ]
    }
   ],
   "source": [
    "# Scandir\n",
    "path = 'C:/Users/munee/Music/Data Science Naresh IT/'\n",
    "entries1 = os.scandir(path)\n",
    "for entry in entries1:\n",
    "    print(entries1)"
   ]
  },
  {
   "cell_type": "code",
   "execution_count": 10,
   "id": "e0a4fe8b",
   "metadata": {},
   "outputs": [
    {
     "name": "stdout",
     "output_type": "stream",
     "text": [
      ".ipynb_checkpoints\n",
      "1_Introduction.ipynb\n",
      "2_Type_Casting.ipynb\n",
      "3.1_Pandas_practice.ipynb\n",
      "3.2_Pandas_Practice.ipynb\n",
      "3_basics.ipynb\n",
      "4.1_Numpy_Examples.ipynb\n",
      "4_Numpy_practice.ipynb\n",
      "5.1_Matplotlib_Examples.ipynb\n",
      "5_Matplotlib_Practice.ipynb\n",
      "annual-enterprise-survey-2021-financial-year-provisional-csv.csv\n",
      "Random.txt\n",
      "Random1.txt\n",
      "tips.csv\n",
      "Untitled.ipynb\n"
     ]
    }
   ],
   "source": [
    "with os.scandir(path) as entries1:\n",
    "    for entry in entries1:\n",
    "        print(entry.name)"
   ]
  },
  {
   "cell_type": "markdown",
   "id": "b4ee0141",
   "metadata": {},
   "source": [
    "### Listing all the files in the directory without using folder"
   ]
  },
  {
   "cell_type": "code",
   "execution_count": 11,
   "id": "5b9b8f69",
   "metadata": {},
   "outputs": [
    {
     "name": "stdout",
     "output_type": "stream",
     "text": [
      "C:/Users/munee/Music/Data Science Naresh IT/\n"
     ]
    }
   ],
   "source": [
    "print(path)"
   ]
  },
  {
   "cell_type": "code",
   "execution_count": 12,
   "id": "908c5fb3",
   "metadata": {},
   "outputs": [
    {
     "name": "stdout",
     "output_type": "stream",
     "text": [
      "1_Introduction.ipynb\n",
      "2_Type_Casting.ipynb\n",
      "3.1_Pandas_practice.ipynb\n",
      "3.2_Pandas_Practice.ipynb\n",
      "3_basics.ipynb\n",
      "4.1_Numpy_Examples.ipynb\n",
      "4_Numpy_practice.ipynb\n",
      "5.1_Matplotlib_Examples.ipynb\n",
      "5_Matplotlib_Practice.ipynb\n",
      "annual-enterprise-survey-2021-financial-year-provisional-csv.csv\n",
      "Random.txt\n",
      "Random1.txt\n",
      "tips.csv\n",
      "Untitled.ipynb\n"
     ]
    }
   ],
   "source": [
    "import os\n",
    "\n",
    "# List all the files in the directory without using the folder\n",
    "with os.scandir(path) as entries:\n",
    "    for entry in entries:\n",
    "        if entry.is_file():\n",
    "            print(entry.name)"
   ]
  },
  {
   "cell_type": "markdown",
   "id": "4ae091bf",
   "metadata": {},
   "source": [
    "### Listing SubDirectories"
   ]
  },
  {
   "cell_type": "code",
   "execution_count": 15,
   "id": "d80e6c5c",
   "metadata": {},
   "outputs": [
    {
     "name": "stdout",
     "output_type": "stream",
     "text": [
      ".ipynb_checkpoints\n"
     ]
    }
   ],
   "source": [
    "import os\n",
    "\n",
    "# List all subdirectories\n",
    "entries1 = os.listdir(path)\n",
    "for entry in entries1:\n",
    "    if os.path.isdir(os.path.join(path,entry)):\n",
    "        print(entry)"
   ]
  },
  {
   "cell_type": "code",
   "execution_count": 16,
   "id": "a9a3afd8",
   "metadata": {},
   "outputs": [
    {
     "name": "stdout",
     "output_type": "stream",
     "text": [
      ".ipynb_checkpoints\n"
     ]
    }
   ],
   "source": [
    "# Using os.scandir()\n",
    "\n",
    "with os.scandir(path) as entries1:\n",
    "    for entry in entries1:\n",
    "        if entry.is_dir():\n",
    "            print(entry.name)"
   ]
  },
  {
   "cell_type": "code",
   "execution_count": 18,
   "id": "3a92ad40",
   "metadata": {},
   "outputs": [
    {
     "name": "stdout",
     "output_type": "stream",
     "text": [
      "1705630089.4425998\n",
      "1704605692.1626997\n",
      "1704608249.8402693\n",
      "1705459713.4073834\n",
      "1705588210.0575454\n",
      "1704639223.279307\n",
      "1705233142.648498\n",
      "1704698548.894776\n",
      "1705140271.7302861\n",
      "1705128602.9174967\n",
      "1705383046.1326308\n",
      "1705630133.5223663\n",
      "1705631407.9910605\n",
      "1580111918.0\n",
      "1705632611.9331996\n"
     ]
    }
   ],
   "source": [
    "# Getting file attributes\n",
    "\n",
    "import os\n",
    "\n",
    "with os.scandir(path) as dir_contents:\n",
    "    for entry in dir_contents:\n",
    "        info = entry.stat()\n",
    "        print(info.st_mtime)"
   ]
  },
  {
   "cell_type": "code",
   "execution_count": 21,
   "id": "e0bdee57",
   "metadata": {},
   "outputs": [],
   "source": [
    "# To convert the values returned by st_mtime for display purposes, you could write a helper function\n",
    "# to convert the seconds into a datetime object:\n",
    "\n",
    "from datetime import datetime\n",
    "from os import scandir\n",
    "\n",
    "def convert_date(timestamp):\n",
    "    d = datetime.utcfromtimestamp(timestamp)\n",
    "    formatted_date = d.strftime('%d %b %Y')\n",
    "    return formatted_date\n",
    "\n",
    "def get_files():\n",
    "    with os.scandir(path) as list_dir:\n",
    "        for entry in list_dir:\n",
    "            if entry.is_file():\n",
    "                info = entry.stat()\n",
    "                print(f\"{entry.name}\\t\\t Last Modified: {convert_date(info.st_mtime)}\")"
   ]
  },
  {
   "cell_type": "code",
   "execution_count": 22,
   "id": "b1ad37ca",
   "metadata": {},
   "outputs": [
    {
     "name": "stdout",
     "output_type": "stream",
     "text": [
      "1_Introduction.ipynb\t\t Last Modified: 07 Jan 2024\n",
      "2_Type_Casting.ipynb\t\t Last Modified: 07 Jan 2024\n",
      "3.1_Pandas_practice.ipynb\t\t Last Modified: 17 Jan 2024\n",
      "3.2_Pandas_Practice.ipynb\t\t Last Modified: 18 Jan 2024\n",
      "3_basics.ipynb\t\t Last Modified: 07 Jan 2024\n",
      "4.1_Numpy_Examples.ipynb\t\t Last Modified: 14 Jan 2024\n",
      "4_Numpy_practice.ipynb\t\t Last Modified: 08 Jan 2024\n",
      "5.1_Matplotlib_Examples.ipynb\t\t Last Modified: 13 Jan 2024\n",
      "5_Matplotlib_Practice.ipynb\t\t Last Modified: 13 Jan 2024\n",
      "annual-enterprise-survey-2021-financial-year-provisional-csv.csv\t\t Last Modified: 16 Jan 2024\n",
      "Random.txt\t\t Last Modified: 19 Jan 2024\n",
      "Random1.txt\t\t Last Modified: 19 Jan 2024\n",
      "tips.csv\t\t Last Modified: 27 Jan 2020\n",
      "Untitled.ipynb\t\t Last Modified: 19 Jan 2024\n"
     ]
    }
   ],
   "source": [
    "get_files()"
   ]
  },
  {
   "cell_type": "markdown",
   "id": "74bed014",
   "metadata": {},
   "source": [
    "### Making Directories\n",
    "\n",
    "- Making a single directory -> os.mkdir()\n",
    "- Making a multiple directories -> os.makedirs()"
   ]
  },
  {
   "cell_type": "code",
   "execution_count": 23,
   "id": "a9aa1b25",
   "metadata": {},
   "outputs": [],
   "source": [
    "# Creating a single directory\n",
    "\n",
    "import os\n",
    "\n",
    "os.mkdir('Example_directory')"
   ]
  },
  {
   "cell_type": "code",
   "execution_count": 24,
   "id": "f062371d",
   "metadata": {},
   "outputs": [
    {
     "ename": "FileExistsError",
     "evalue": "[WinError 183] Cannot create a file when that file already exists: 'Example_directory'",
     "output_type": "error",
     "traceback": [
      "\u001b[1;31m---------------------------------------------------------------------------\u001b[0m",
      "\u001b[1;31mFileExistsError\u001b[0m                           Traceback (most recent call last)",
      "Cell \u001b[1;32mIn[24], line 1\u001b[0m\n\u001b[1;32m----> 1\u001b[0m os\u001b[38;5;241m.\u001b[39mmkdir(\u001b[38;5;124m'\u001b[39m\u001b[38;5;124mExample_directory\u001b[39m\u001b[38;5;124m'\u001b[39m)\n",
      "\u001b[1;31mFileExistsError\u001b[0m: [WinError 183] Cannot create a file when that file already exists: 'Example_directory'"
     ]
    }
   ],
   "source": [
    "# When the file already exists it'll raise an error\n",
    "os.mkdir('Example_directory')"
   ]
  },
  {
   "cell_type": "code",
   "execution_count": 25,
   "id": "de78299a",
   "metadata": {},
   "outputs": [
    {
     "name": "stdout",
     "output_type": "stream",
     "text": [
      "Error Example_directory already exists\n"
     ]
    }
   ],
   "source": [
    "# Inorder to avoid that error use exceptionhandling here\n",
    "import os\n",
    "\n",
    "directory_name = 'Example_directory'\n",
    "\n",
    "try:\n",
    "    os.mkdir(directory_name)\n",
    "    print(f\"Directory {directory_name} created successfully\")\n",
    "except FileExistsError:\n",
    "    print(f\"Error {directory_name} already exists\")\n",
    "except Exception as e:\n",
    "    print(f\"An unexpected error occured: {e}\")"
   ]
  },
  {
   "cell_type": "code",
   "execution_count": null,
   "id": "fd689895",
   "metadata": {},
   "outputs": [],
   "source": []
  }
 ],
 "metadata": {
  "kernelspec": {
   "display_name": "Python 3 (ipykernel)",
   "language": "python",
   "name": "python3"
  },
  "language_info": {
   "codemirror_mode": {
    "name": "ipython",
    "version": 3
   },
   "file_extension": ".py",
   "mimetype": "text/x-python",
   "name": "python",
   "nbconvert_exporter": "python",
   "pygments_lexer": "ipython3",
   "version": "3.11.3"
  }
 },
 "nbformat": 4,
 "nbformat_minor": 5
}
